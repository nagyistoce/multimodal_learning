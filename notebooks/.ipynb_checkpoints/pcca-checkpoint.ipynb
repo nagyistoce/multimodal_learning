{
 "worksheets": [
  {
   "cells": [
    {
     "cell_type": "heading",
     "metadata": {},
     "level": 1,
     "source": [
      "CCAの計算"
     ]
    },
    {
     "cell_type": "heading",
     "metadata": {},
     "level": 2,
     "source": [
      "インポート"
     ]
    },
    {
     "cell_type": "code",
     "metadata": {},
     "outputs": [],
     "input": [
      "import numpy as np"
     ],
     "language": "python",
     "prompt_number": 1
    },
    {
     "cell_type": "heading",
     "metadata": {},
     "level": 2,
     "source": [
      "データの次元数の定義"
     ]
    },
    {
     "cell_type": "code",
     "metadata": {},
     "outputs": [],
     "input": [
      "p = 30; q = 40; n = 20"
     ],
     "language": "python",
     "prompt_number": 2
    },
    {
     "cell_type": "heading",
     "metadata": {},
     "level": 2,
     "source": [
      "データの準備"
     ]
    },
    {
     "cell_type": "code",
     "metadata": {},
     "outputs": [],
     "input": [
      "x = np.random.rand(n, p)"
     ],
     "language": "python",
     "prompt_number": 3
    },
    {
     "cell_type": "code",
     "metadata": {},
     "outputs": [],
     "input": [
      "y = np.random.rand(n, q)"
     ],
     "language": "python",
     "prompt_number": 4
    },
    {
     "cell_type": "code",
     "metadata": {},
     "outputs": [
      {
       "output_type": "pyout",
       "prompt_number": 5,
       "text": [
        "(20, 30)"
       ],
       "metadata": {}
      }
     ],
     "input": [
      "x.shape"
     ],
     "language": "python",
     "prompt_number": 5
    },
    {
     "cell_type": "markdown",
     "metadata": {},
     "source": [
      "n x p"
     ]
    },
    {
     "cell_type": "code",
     "metadata": {},
     "outputs": [
      {
       "output_type": "pyout",
       "prompt_number": 6,
       "text": [
        "(20, 40)"
       ],
       "metadata": {}
      }
     ],
     "input": [
      "y.shape"
     ],
     "language": "python",
     "prompt_number": 6
    },
    {
     "cell_type": "markdown",
     "metadata": {},
     "source": [
      "n x q"
     ]
    },
    {
     "cell_type": "heading",
     "metadata": {},
     "level": 2,
     "source": [
      "分散共分散の計算"
     ]
    },
    {
     "cell_type": "code",
     "metadata": {},
     "outputs": [],
     "input": [
      "z = np.vstack((x.T, y.T))"
     ],
     "language": "python",
     "prompt_number": 7
    },
    {
     "cell_type": "markdown",
     "metadata": {},
     "source": [
      "データを縦に並べる"
     ]
    },
    {
     "cell_type": "code",
     "metadata": {},
     "outputs": [
      {
       "output_type": "pyout",
       "prompt_number": 8,
       "text": [
        "(70, 20)"
       ],
       "metadata": {}
      }
     ],
     "input": [
      "z.shape"
     ],
     "language": "python",
     "prompt_number": 8
    },
    {
     "cell_type": "markdown",
     "metadata": {},
     "source": [
      "(p + q) x n"
     ]
    },
    {
     "cell_type": "code",
     "metadata": {},
     "outputs": [],
     "input": [
      "cov = np.cov(z)"
     ],
     "language": "python",
     "prompt_number": 9
    },
    {
     "cell_type": "code",
     "metadata": {},
     "outputs": [
      {
       "output_type": "pyout",
       "prompt_number": 10,
       "text": [
        "(70, 70)"
       ],
       "metadata": {}
      }
     ],
     "input": [
      "cov.shape"
     ],
     "language": "python",
     "prompt_number": 10
    },
    {
     "cell_type": "markdown",
     "metadata": {},
     "source": [
      "(p + q) x (p + q)"
     ]
    },
    {
     "cell_type": "markdown",
     "metadata": {},
     "source": [
      "70行すべての行同士の分散共分散行列を計算している\n",
      "\n",
      "http://docs.scipy.org/doc/numpy/reference/generated/numpy.cov.html"
     ]
    },
    {
     "cell_type": "code",
     "metadata": {},
     "outputs": [],
     "input": [
      "p_ = len(x.T)"
     ],
     "language": "python",
     "prompt_number": 11
    },
    {
     "cell_type": "code",
     "metadata": {},
     "outputs": [
      {
       "output_type": "pyout",
       "prompt_number": 12,
       "text": [
        "30"
       ],
       "metadata": {}
      }
     ],
     "input": [
      "p_"
     ],
     "language": "python",
     "prompt_number": 12
    },
    {
     "cell_type": "code",
     "metadata": {},
     "outputs": [],
     "input": [
      "c_xx = cov[:p, :p]"
     ],
     "language": "python",
     "prompt_number": 13
    },
    {
     "cell_type": "code",
     "metadata": {},
     "outputs": [],
     "input": [
      "c_yy = cov[p:, p:]"
     ],
     "language": "python",
     "prompt_number": 14
    },
    {
     "cell_type": "code",
     "metadata": {},
     "outputs": [],
     "input": [
      "c_xy = cov[:p, p:]"
     ],
     "language": "python",
     "prompt_number": 15
    },
    {
     "cell_type": "code",
     "metadata": {},
     "outputs": [
      {
       "output_type": "pyout",
       "prompt_number": 16,
       "text": [
        "(30, 30)"
       ],
       "metadata": {}
      }
     ],
     "input": [
      "c_xx.shape"
     ],
     "language": "python",
     "prompt_number": 16
    },
    {
     "cell_type": "markdown",
     "metadata": {},
     "source": [
      "p x p"
     ]
    },
    {
     "cell_type": "code",
     "metadata": {},
     "outputs": [
      {
       "output_type": "pyout",
       "prompt_number": 17,
       "text": [
        "(40, 40)"
       ],
       "metadata": {}
      }
     ],
     "input": [
      "c_yy.shape"
     ],
     "language": "python",
     "prompt_number": 17
    },
    {
     "cell_type": "markdown",
     "metadata": {},
     "source": [
      "q x q"
     ]
    },
    {
     "cell_type": "code",
     "metadata": {},
     "outputs": [
      {
       "output_type": "pyout",
       "prompt_number": 18,
       "text": [
        "(30, 40)"
       ],
       "metadata": {}
      }
     ],
     "input": [
      "c_xy.shape"
     ],
     "language": "python",
     "prompt_number": 18
    },
    {
     "cell_type": "markdown",
     "metadata": {},
     "source": [
      "p x q"
     ]
    },
    {
     "cell_type": "heading",
     "metadata": {},
     "level": 2,
     "source": [
      "正規化項を加える"
     ]
    },
    {
     "cell_type": "code",
     "metadata": {},
     "outputs": [],
     "input": [
      "reg_param=0.1"
     ],
     "language": "python",
     "prompt_number": 19
    },
    {
     "cell_type": "code",
     "metadata": {},
     "outputs": [],
     "input": [
      "c_xx += reg_param * np.average(np.diag(c_xx)) * np.eye(c_xx.shape[0])"
     ],
     "language": "python",
     "prompt_number": 20
    },
    {
     "cell_type": "code",
     "metadata": {},
     "outputs": [],
     "input": [
      "c_yy += reg_param * np.average(np.diag(c_yy)) * np.eye(c_yy.shape[0])"
     ],
     "language": "python",
     "prompt_number": 21
    },
    {
     "cell_type": "heading",
     "metadata": {},
     "level": 2,
     "source": [
      "一般化固有値問題の式の計算（式１）"
     ]
    },
    {
     "cell_type": "heading",
     "metadata": {},
     "level": 3,
     "source": [
      "左辺 xleft = A"
     ]
    },
    {
     "cell_type": "code",
     "metadata": {},
     "outputs": [],
     "input": [
      "xleft = np.dot(c_xy, np.linalg.solve(c_yy,c_xy.T))"
     ],
     "language": "python",
     "prompt_number": 22
    },
    {
     "cell_type": "markdown",
     "metadata": {},
     "source": [
      "S_xy x S_yy^(-1) x S_xy^T"
     ]
    },
    {
     "cell_type": "code",
     "metadata": {},
     "outputs": [
      {
       "output_type": "pyout",
       "prompt_number": 23,
       "text": [
        "(30, 30)"
       ],
       "metadata": {}
      }
     ],
     "input": [
      "xleft.shape"
     ],
     "language": "python",
     "prompt_number": 23
    },
    {
     "cell_type": "markdown",
     "metadata": {},
     "source": [
      "p x p\n",
      "\n",
      "逆行列を掛ける場合にはsloveを使ったほうが早い\n",
      "\n",
      "http://d.hatena.ne.jp/sleepy_yoshi/20120513/p1"
     ]
    },
    {
     "cell_type": "heading",
     "metadata": {},
     "level": 3,
     "source": [
      "右辺 xright = B"
     ]
    },
    {
     "cell_type": "code",
     "metadata": {},
     "outputs": [],
     "input": [
      "xright = c_xx"
     ],
     "language": "python",
     "prompt_number": 24
    },
    {
     "cell_type": "code",
     "metadata": {},
     "outputs": [
      {
       "output_type": "pyout",
       "prompt_number": 25,
       "text": [
        "(30, 30)"
       ],
       "metadata": {}
      }
     ],
     "input": [
      "xright.shape"
     ],
     "language": "python",
     "prompt_number": 25
    },
    {
     "cell_type": "heading",
     "metadata": {},
     "level": 3,
     "source": [
      "一般化固有値問題を解く"
     ]
    },
    {
     "cell_type": "code",
     "metadata": {},
     "outputs": [],
     "input": [
      "from scipy.linalg import eig"
     ],
     "language": "python",
     "prompt_number": 26
    },
    {
     "cell_type": "code",
     "metadata": {},
     "outputs": [],
     "input": [
      "x_eig_dim = min([np.linalg.matrix_rank(xleft), np.linalg.matrix_rank(xright)])"
     ],
     "language": "python",
     "prompt_number": 27
    },
    {
     "cell_type": "code",
     "metadata": {},
     "outputs": [
      {
       "output_type": "pyout",
       "prompt_number": 28,
       "text": [
        "19"
       ],
       "metadata": {}
      }
     ],
     "input": [
      "x_eig_dim"
     ],
     "language": "python",
     "prompt_number": 28
    },
    {
     "cell_type": "code",
     "metadata": {},
     "outputs": [],
     "input": [
      "x_eig_vals, x_eig_vecs = eig(xleft, xright)"
     ],
     "language": "python",
     "prompt_number": 29
    },
    {
     "cell_type": "markdown",
     "metadata": {},
     "source": [
      "引数を２つ与えると一般化固有値問題をもとめることができる\n",
      "\n",
      "http://docs.scipy.org/doc/scipy-0.13.0/reference/generated/scipy.linalg.eig.html"
     ]
    },
    {
     "cell_type": "code",
     "metadata": {},
     "outputs": [
      {
       "output_type": "pyout",
       "prompt_number": 30,
       "text": [
        "(30,)"
       ],
       "metadata": {}
      }
     ],
     "input": [
      "x_eig_vals.shape"
     ],
     "language": "python",
     "prompt_number": 30
    },
    {
     "cell_type": "code",
     "metadata": {},
     "outputs": [
      {
       "output_type": "pyout",
       "prompt_number": 31,
       "text": [
        "(30, 30)"
       ],
       "metadata": {}
      }
     ],
     "input": [
      "x_eig_vecs.shape"
     ],
     "language": "python",
     "prompt_number": 31
    },
    {
     "cell_type": "code",
     "metadata": {},
     "outputs": [],
     "input": [
      "x_sort_indices = np.argsort(x_eig_vals)[::-1]"
     ],
     "language": "python",
     "prompt_number": 32
    },
    {
     "cell_type": "code",
     "metadata": {},
     "outputs": [
      {
       "output_type": "pyout",
       "prompt_number": 33,
       "text": [
        "array([ 5,  9, 10, 13, 14, 15, 18, 17, 16, 12, 11,  8,  7,  6,  4,  3,  2,\n",
        "        1,  0, 19, 25, 24, 23, 22, 29, 21, 20, 26, 28, 27])"
       ],
       "metadata": {}
      }
     ],
     "input": [
      "x_sort_indices"
     ],
     "language": "python",
     "prompt_number": 33
    },
    {
     "cell_type": "code",
     "metadata": {},
     "outputs": [
      {
       "output_type": "pyout",
       "prompt_number": 34,
       "text": [
        "[4, 3, 2, 1]"
       ],
       "metadata": {}
      }
     ],
     "input": [
      "[1, 2, 3, 4][::-1]"
     ],
     "language": "python",
     "prompt_number": 34
    },
    {
     "cell_type": "code",
     "metadata": {},
     "outputs": [
      {
       "output_type": "pyout",
       "prompt_number": 35,
       "text": [
        "array([  9.45179294e-01+0.j,   9.30909878e-01+0.j,   9.15423041e-01+0.j,\n",
        "         9.04527365e-01+0.j,   9.00135404e-01+0.j,   8.86076563e-01+0.j,\n",
        "         8.72637768e-01+0.j,   8.67370687e-01+0.j,   8.56304292e-01+0.j,\n",
        "         8.41473781e-01+0.j,   8.34075858e-01+0.j,   8.05384112e-01+0.j,\n",
        "         7.92338523e-01+0.j,   7.76039056e-01+0.j,   7.13736851e-01+0.j,\n",
        "         6.93121579e-01+0.j,   6.61159815e-01+0.j,   6.32711515e-01+0.j,\n",
        "         4.01592962e-01+0.j,   3.69815916e-15+0.j,   1.26080043e-15+0.j,\n",
        "         1.05754893e-15+0.j,   9.43552467e-16+0.j,   6.78108417e-16+0.j,\n",
        "        -3.92962526e-18+0.j,  -8.46768326e-16+0.j,  -9.36632552e-16+0.j,\n",
        "        -1.10823492e-15+0.j,  -1.27161986e-15+0.j,  -1.56263056e-15+0.j])"
       ],
       "metadata": {}
      }
     ],
     "input": [
      "x_eig_vals[x_sort_indices]"
     ],
     "language": "python",
     "prompt_number": 35
    },
    {
     "cell_type": "code",
     "metadata": {},
     "outputs": [
      {
       "output_type": "pyout",
       "prompt_number": 36,
       "text": [
        "array([ 0.94517929+0.j,  0.93090988+0.j,  0.91542304+0.j,  0.90452736+0.j,\n",
        "        0.90013540+0.j,  0.88607656+0.j,  0.87263777+0.j,  0.86737069+0.j,\n",
        "        0.85630429+0.j,  0.84147378+0.j,  0.83407586+0.j,  0.80538411+0.j,\n",
        "        0.79233852+0.j,  0.77603906+0.j,  0.71373685+0.j,  0.69312158+0.j,\n",
        "        0.66115981+0.j,  0.63271151+0.j,  0.40159296+0.j])"
       ],
       "metadata": {}
      }
     ],
     "input": [
      "x_eig_vals[x_sort_indices][:x_eig_dim]"
     ],
     "language": "python",
     "prompt_number": 36
    },
    {
     "cell_type": "code",
     "metadata": {},
     "outputs": [],
     "input": [
      "x_eig_vals_sort = x_eig_vals[x_sort_indices][:x_eig_dim].real"
     ],
     "language": "python",
     "prompt_number": 37
    },
    {
     "cell_type": "code",
     "metadata": {},
     "outputs": [
      {
       "output_type": "pyout",
       "prompt_number": 38,
       "text": [
        "array([ 0.94517929,  0.93090988,  0.91542304,  0.90452736,  0.9001354 ,\n",
        "        0.88607656,  0.87263777,  0.86737069,  0.85630429,  0.84147378,\n",
        "        0.83407586,  0.80538411,  0.79233852,  0.77603906,  0.71373685,\n",
        "        0.69312158,  0.66115981,  0.63271151,  0.40159296])"
       ],
       "metadata": {}
      }
     ],
     "input": [
      "x_eig_vals_sort"
     ],
     "language": "python",
     "prompt_number": 38
    },
    {
     "cell_type": "code",
     "metadata": {},
     "outputs": [
      {
       "output_type": "pyout",
       "prompt_number": 39,
       "text": [
        "(19,)"
       ],
       "metadata": {}
      }
     ],
     "input": [
      "x_eig_vals_sort.shape"
     ],
     "language": "python",
     "prompt_number": 39
    },
    {
     "cell_type": "markdown",
     "metadata": {},
     "source": [
      "固有値を降順（大きい順）に並び替えている"
     ]
    },
    {
     "cell_type": "code",
     "metadata": {},
     "outputs": [],
     "input": [
      "x_eig_vecs_sort= x_eig_vecs[:,x_sort_indices][:,:x_eig_dim].real"
     ],
     "language": "python",
     "prompt_number": 40
    },
    {
     "cell_type": "code",
     "metadata": {},
     "outputs": [
      {
       "output_type": "pyout",
       "prompt_number": 41,
       "text": [
        "(30, 19)"
       ],
       "metadata": {}
      }
     ],
     "input": [
      "x_eig_vecs_sort.shape"
     ],
     "language": "python",
     "prompt_number": 41
    },
    {
     "cell_type": "heading",
     "metadata": {},
     "level": 3,
     "source": [
      "固有ベクトルの正規化"
     ]
    },
    {
     "cell_type": "markdown",
     "metadata": {},
     "source": [
      "分散 = 1の制約があるので、まず分散をもとめる"
     ]
    },
    {
     "cell_type": "code",
     "metadata": {},
     "outputs": [],
     "input": [
      "x_var = np.dot(x_eig_vecs_sort.T, np.dot(xright, x_eig_vecs_sort))"
     ],
     "language": "python",
     "prompt_number": 42
    },
    {
     "cell_type": "markdown",
     "metadata": {},
     "source": [
      "a^T x S_xx x  a"
     ]
    },
    {
     "cell_type": "code",
     "metadata": {},
     "outputs": [
      {
       "output_type": "pyout",
       "prompt_number": 43,
       "text": [
        "(19, 19)"
       ],
       "metadata": {}
      }
     ],
     "input": [
      "x_var.shape"
     ],
     "language": "python",
     "prompt_number": 43
    },
    {
     "cell_type": "markdown",
     "metadata": {},
     "source": [
      "分散を1にするには固有ベクトルを正規化する必要がある。\n",
      "\n",
      "固有ベクトルを定数倍することで分散を1にすることができるが、固有ベクトルはa^T × S_xx × aと２回かけられているのでルートを取る必要がある。\n",
      "\n",
      "※diagは何で取ってるんだっけ？"
     ]
    },
    {
     "cell_type": "code",
     "metadata": {},
     "outputs": [
      {
       "output_type": "pyout",
       "prompt_number": 44,
       "text": [
        "array([ 0.2859129 ,  0.19788   ,  0.1995885 ,  0.13887571,  0.14088063,\n",
        "        0.11258019,  0.13141993,  0.10057876,  0.09588849,  0.09372232,\n",
        "        0.08266403,  0.06784476,  0.0582009 ,  0.07798636,  0.07391682,\n",
        "        0.05198027,  0.03275088,  0.03433698,  0.01441743])"
       ],
       "metadata": {}
      }
     ],
     "input": [
      "np.diag(x_var)"
     ],
     "language": "python",
     "prompt_number": 44
    },
    {
     "cell_type": "markdown",
     "metadata": {},
     "source": [
      "対角成分を取ってくる"
     ]
    },
    {
     "cell_type": "code",
     "metadata": {},
     "outputs": [
      {
       "output_type": "pyout",
       "prompt_number": 45,
       "text": [
        "array([ 0.53470823,  0.44483705,  0.44675329,  0.37266031,  0.37534069,\n",
        "        0.33552972,  0.36251887,  0.31714155,  0.30965867,  0.30614102,\n",
        "        0.28751353,  0.26047026,  0.24124863,  0.27926038,  0.27187648,\n",
        "        0.22799182,  0.18097205,  0.1853024 ,  0.12007262])"
       ],
       "metadata": {}
      }
     ],
     "input": [
      "np.sqrt(np.diag(x_var))"
     ],
     "language": "python",
     "prompt_number": 45
    },
    {
     "cell_type": "markdown",
     "metadata": {},
     "source": [
      "要素のルートをとる（両側にかかるから）"
     ]
    },
    {
     "cell_type": "code",
     "metadata": {},
     "outputs": [
      {
       "output_type": "pyout",
       "prompt_number": 46,
       "text": [
        "array([ 1.87017879,  2.24801418,  2.23837189,  2.68340893,  2.66424618,\n",
        "        2.9803619 ,  2.75847709,  3.1531662 ,  3.22936221,  3.26646851,\n",
        "        3.47809713,  3.83920986,  4.14510125,  3.58088754,  3.67814094,\n",
        "        4.3861223 ,  5.5257152 ,  5.39658412,  8.3282935 ])"
       ],
       "metadata": {}
      }
     ],
     "input": [
      "np.reciprocal(np.sqrt(np.diag(x_var)))"
     ],
     "language": "python",
     "prompt_number": 46
    },
    {
     "cell_type": "markdown",
     "metadata": {},
     "source": [
      "要素の逆数をとる"
     ]
    },
    {
     "cell_type": "code",
     "metadata": {},
     "outputs": [],
     "input": [
      "x_invvar = np.diag(np.reciprocal(np.sqrt(np.diag(x_var))))"
     ],
     "language": "python",
     "prompt_number": 47
    },
    {
     "cell_type": "markdown",
     "metadata": {},
     "source": [
      "対角化"
     ]
    },
    {
     "cell_type": "code",
     "metadata": {},
     "outputs": [],
     "input": [
      "x_eig_vecs_reg = np.dot(x_eig_vecs_sort, x_invvar)"
     ],
     "language": "python",
     "prompt_number": 48
    },
    {
     "cell_type": "heading",
     "metadata": {},
     "level": 3,
     "source": [
      "正規化されているかの確認"
     ]
    },
    {
     "cell_type": "code",
     "metadata": {},
     "outputs": [
      {
       "output_type": "pyout",
       "prompt_number": 49,
       "text": [
        "array([[1, 0, 0, 0, 0, 0, 0, 0, 0, 0, 0, 0, 0, 0, 0, 0, 0, 0, 0],\n",
        "       [0, 1, 0, 0, 0, 0, 0, 0, 0, 0, 0, 0, 0, 0, 0, 0, 0, 0, 0],\n",
        "       [0, 0, 1, 0, 0, 0, 0, 0, 0, 0, 0, 0, 0, 0, 0, 0, 0, 0, 0],\n",
        "       [0, 0, 0, 1, 0, 0, 0, 0, 0, 0, 0, 0, 0, 0, 0, 0, 0, 0, 0],\n",
        "       [0, 0, 0, 0, 1, 0, 0, 0, 0, 0, 0, 0, 0, 0, 0, 0, 0, 0, 0],\n",
        "       [0, 0, 0, 0, 0, 1, 0, 0, 0, 0, 0, 0, 0, 0, 0, 0, 0, 0, 0],\n",
        "       [0, 0, 0, 0, 0, 0, 1, 0, 0, 0, 0, 0, 0, 0, 0, 0, 0, 0, 0],\n",
        "       [0, 0, 0, 0, 0, 0, 0, 1, 0, 0, 0, 0, 0, 0, 0, 0, 0, 0, 0],\n",
        "       [0, 0, 0, 0, 0, 0, 0, 0, 1, 0, 0, 0, 0, 0, 0, 0, 0, 0, 0],\n",
        "       [0, 0, 0, 0, 0, 0, 0, 0, 0, 1, 0, 0, 0, 0, 0, 0, 0, 0, 0],\n",
        "       [0, 0, 0, 0, 0, 0, 0, 0, 0, 0, 1, 0, 0, 0, 0, 0, 0, 0, 0],\n",
        "       [0, 0, 0, 0, 0, 0, 0, 0, 0, 0, 0, 1, 0, 0, 0, 0, 0, 0, 0],\n",
        "       [0, 0, 0, 0, 0, 0, 0, 0, 0, 0, 0, 0, 1, 0, 0, 0, 0, 0, 0],\n",
        "       [0, 0, 0, 0, 0, 0, 0, 0, 0, 0, 0, 0, 0, 1, 0, 0, 0, 0, 0],\n",
        "       [0, 0, 0, 0, 0, 0, 0, 0, 0, 0, 0, 0, 0, 0, 1, 0, 0, 0, 0],\n",
        "       [0, 0, 0, 0, 0, 0, 0, 0, 0, 0, 0, 0, 0, 0, 0, 1, 0, 0, 0],\n",
        "       [0, 0, 0, 0, 0, 0, 0, 0, 0, 0, 0, 0, 0, 0, 0, 0, 1, 0, 0],\n",
        "       [0, 0, 0, 0, 0, 0, 0, 0, 0, 0, 0, 0, 0, 0, 0, 0, 0, 1, 0],\n",
        "       [0, 0, 0, 0, 0, 0, 0, 0, 0, 0, 0, 0, 0, 0, 0, 0, 0, 0, 1]])"
       ],
       "metadata": {}
      }
     ],
     "input": [
      "(np.dot(x_eig_vecs_reg.T,  np.dot(xright,  x_eig_vecs_reg))).round().astype(int)"
     ],
     "language": "python",
     "prompt_number": 49
    },
    {
     "cell_type": "markdown",
     "metadata": {},
     "source": [
      "単位行列になっているのでOK"
     ]
    },
    {
     "cell_type": "heading",
     "metadata": {},
     "level": 2,
     "source": [
      "一般化固有値問題の式の計算（式２）"
     ]
    },
    {
     "cell_type": "heading",
     "metadata": {},
     "level": 3,
     "source": [
      "左辺 yleft = A"
     ]
    },
    {
     "cell_type": "code",
     "metadata": {},
     "outputs": [],
     "input": [
      "yleft = np.dot(c_xy.T, np.linalg.solve(c_xx,c_xy))"
     ],
     "language": "python",
     "prompt_number": 50
    },
    {
     "cell_type": "heading",
     "metadata": {},
     "level": 3,
     "source": [
      "右辺 yright = B"
     ]
    },
    {
     "cell_type": "code",
     "metadata": {},
     "outputs": [],
     "input": [
      "yright = c_yy"
     ],
     "language": "python",
     "prompt_number": 51
    },
    {
     "cell_type": "heading",
     "metadata": {},
     "level": 3,
     "source": [
      "一般化固有値問題を解く"
     ]
    },
    {
     "cell_type": "code",
     "metadata": {},
     "outputs": [],
     "input": [
      "y_eig_dim = min([np.linalg.matrix_rank(yleft), np.linalg.matrix_rank(yright)])"
     ],
     "language": "python",
     "prompt_number": 52
    },
    {
     "cell_type": "code",
     "metadata": {},
     "outputs": [],
     "input": [
      "y_eig_vals, y_eig_vecs = eig(yleft, yright)"
     ],
     "language": "python",
     "prompt_number": 53
    },
    {
     "cell_type": "code",
     "metadata": {},
     "outputs": [],
     "input": [
      "y_sort_indices = np.argsort(y_eig_vals)[::-1]"
     ],
     "language": "python",
     "prompt_number": 54
    },
    {
     "cell_type": "code",
     "metadata": {},
     "outputs": [],
     "input": [
      "y_eig_vals_sort = y_eig_vals[y_sort_indices][:y_eig_dim].real"
     ],
     "language": "python",
     "prompt_number": 55
    },
    {
     "cell_type": "code",
     "metadata": {},
     "outputs": [],
     "input": [
      "y_eig_vecs_sort= y_eig_vecs[:,y_sort_indices][:,:y_eig_dim].real"
     ],
     "language": "python",
     "prompt_number": 56
    },
    {
     "cell_type": "heading",
     "metadata": {},
     "level": 3,
     "source": [
      "固有ベクトルの正規化"
     ]
    },
    {
     "cell_type": "code",
     "metadata": {},
     "outputs": [],
     "input": [
      "y_var = np.dot(y_eig_vecs_sort.T, np.dot(yright, y_eig_vecs_sort))"
     ],
     "language": "python",
     "prompt_number": 57
    },
    {
     "cell_type": "code",
     "metadata": {},
     "outputs": [],
     "input": [
      "y_invvar = np.diag(np.reciprocal(np.sqrt(np.diag(y_var))))"
     ],
     "language": "python",
     "prompt_number": 58
    },
    {
     "cell_type": "code",
     "metadata": {},
     "outputs": [],
     "input": [
      "y_eig_vecs_reg = np.dot(y_eig_vecs_sort, y_invvar)"
     ],
     "language": "python",
     "prompt_number": 59
    },
    {
     "cell_type": "code",
     "metadata": {},
     "outputs": [
      {
       "output_type": "pyout",
       "prompt_number": 60,
       "text": [
        "array([[1, 0, 0, 0, 0, 0, 0, 0, 0, 0, 0, 0, 0, 0, 0, 0, 0, 0, 0],\n",
        "       [0, 1, 0, 0, 0, 0, 0, 0, 0, 0, 0, 0, 0, 0, 0, 0, 0, 0, 0],\n",
        "       [0, 0, 1, 0, 0, 0, 0, 0, 0, 0, 0, 0, 0, 0, 0, 0, 0, 0, 0],\n",
        "       [0, 0, 0, 1, 0, 0, 0, 0, 0, 0, 0, 0, 0, 0, 0, 0, 0, 0, 0],\n",
        "       [0, 0, 0, 0, 1, 0, 0, 0, 0, 0, 0, 0, 0, 0, 0, 0, 0, 0, 0],\n",
        "       [0, 0, 0, 0, 0, 1, 0, 0, 0, 0, 0, 0, 0, 0, 0, 0, 0, 0, 0],\n",
        "       [0, 0, 0, 0, 0, 0, 1, 0, 0, 0, 0, 0, 0, 0, 0, 0, 0, 0, 0],\n",
        "       [0, 0, 0, 0, 0, 0, 0, 1, 0, 0, 0, 0, 0, 0, 0, 0, 0, 0, 0],\n",
        "       [0, 0, 0, 0, 0, 0, 0, 0, 1, 0, 0, 0, 0, 0, 0, 0, 0, 0, 0],\n",
        "       [0, 0, 0, 0, 0, 0, 0, 0, 0, 1, 0, 0, 0, 0, 0, 0, 0, 0, 0],\n",
        "       [0, 0, 0, 0, 0, 0, 0, 0, 0, 0, 1, 0, 0, 0, 0, 0, 0, 0, 0],\n",
        "       [0, 0, 0, 0, 0, 0, 0, 0, 0, 0, 0, 1, 0, 0, 0, 0, 0, 0, 0],\n",
        "       [0, 0, 0, 0, 0, 0, 0, 0, 0, 0, 0, 0, 1, 0, 0, 0, 0, 0, 0],\n",
        "       [0, 0, 0, 0, 0, 0, 0, 0, 0, 0, 0, 0, 0, 1, 0, 0, 0, 0, 0],\n",
        "       [0, 0, 0, 0, 0, 0, 0, 0, 0, 0, 0, 0, 0, 0, 1, 0, 0, 0, 0],\n",
        "       [0, 0, 0, 0, 0, 0, 0, 0, 0, 0, 0, 0, 0, 0, 0, 1, 0, 0, 0],\n",
        "       [0, 0, 0, 0, 0, 0, 0, 0, 0, 0, 0, 0, 0, 0, 0, 0, 1, 0, 0],\n",
        "       [0, 0, 0, 0, 0, 0, 0, 0, 0, 0, 0, 0, 0, 0, 0, 0, 0, 1, 0],\n",
        "       [0, 0, 0, 0, 0, 0, 0, 0, 0, 0, 0, 0, 0, 0, 0, 0, 0, 0, 1]])"
       ],
       "metadata": {}
      }
     ],
     "input": [
      "(np.dot(y_eig_vecs_reg.T,  np.dot(yright,  y_eig_vecs_reg))).round().astype(int)"
     ],
     "language": "python",
     "prompt_number": 60
    },
    {
     "cell_type": "heading",
     "metadata": {},
     "level": 2,
     "source": [
      "一方の固有ベクトルから他方の固有ベクトルをもとめる"
     ]
    },
    {
     "cell_type": "code",
     "metadata": {},
     "outputs": [
      {
       "output_type": "pyout",
       "prompt_number": 61,
       "text": [
        "'(40, 40) x (40, 30) x 30'"
       ],
       "metadata": {}
      }
     ],
     "input": [
      "\"%s x %s x %s\" % (np.linalg.inv(c_yy).shape, c_xy.T.shape, x_eig_vecs_reg.shape[0])"
     ],
     "language": "python",
     "prompt_number": 61
    },
    {
     "cell_type": "markdown",
     "metadata": {},
     "source": [
      "計算時の各行列の次元数が正しく揃っていることを確認"
     ]
    },
    {
     "cell_type": "code",
     "metadata": {},
     "outputs": [],
     "input": [
      "y_eig_vecs_by_x = (1 / x_eig_vals_sort[0]) * np.linalg.solve(c_yy , np.dot(c_xy.T, x_eig_vecs_reg.shape[0]))"
     ],
     "language": "python",
     "prompt_number": 62
    },
    {
     "cell_type": "code",
     "metadata": {},
     "outputs": [
      {
       "output_type": "pyout",
       "prompt_number": 63,
       "text": [
        "array([[ -3.26531978e-01,  -5.76253165e-01,   6.87457732e-02,\n",
        "         -3.48930892e-02,   5.42858281e-01,  -1.71062871e-01,\n",
        "         -9.22042545e-01,  -2.31556322e-01,   3.14143770e-01,\n",
        "         -2.14238698e-01,   5.35499762e-01,   1.03473458e+00,\n",
        "         -3.86446328e-01,  -3.30769587e-01,   6.39221694e-01,\n",
        "          1.18335303e+00,   4.23782030e-01,  -1.46213261e+00,\n",
        "         -8.85632509e-01],\n",
        "       [  3.65648036e-01,   2.29859370e-02,   8.36899681e-03,\n",
        "          2.89616961e-01,  -3.77487568e-01,   1.62404466e-01,\n",
        "          5.38370373e-02,  -2.22027164e-01,  -1.14928172e-01,\n",
        "          7.08242339e-01,  -8.23958026e-01,  -6.46671644e-01,\n",
        "          2.89704819e-01,   8.77432187e-01,  -1.30817860e+00,\n",
        "         -5.57622219e-01,   1.79324005e-01,   8.37646567e-01,\n",
        "          4.41628343e-01],\n",
        "       [ -1.43003262e-01,  -1.13114458e-02,   3.05121771e-01,\n",
        "          2.47359183e-01,   3.04096244e-01,  -6.22625024e-01,\n",
        "         -1.12551808e-01,  -4.07122348e-01,  -5.55872539e-01,\n",
        "          7.10485508e-01,   7.73531224e-01,  -1.00272550e+00,\n",
        "          5.07316059e-01,  -3.01018934e-01,  -1.48428967e+00,\n",
        "         -8.83354500e-02,  -4.78853291e-01,  -2.45181911e-01,\n",
        "         -5.16329212e-01],\n",
        "       [  1.84187780e-01,  -1.47251795e-01,   5.62916871e-01,\n",
        "          6.27966848e-02,   5.14664302e-01,  -5.12857059e-01,\n",
        "          8.56670708e-03,   1.79845460e-01,  -1.00175849e-01,\n",
        "         -4.36667602e-01,   2.18979297e-01,   3.14546008e-01,\n",
        "          6.54897625e-01,   1.66863220e-01,  -6.48950158e-01,\n",
        "         -3.70626800e-01,   1.18561080e+00,   6.67022322e-01,\n",
        "         -1.98208592e-01],\n",
        "       [  1.47390897e-01,   1.68197202e-01,   3.35121951e-01,\n",
        "          6.06549257e-02,  -1.10048844e-03,  -4.08035307e-01,\n",
        "          2.76430889e-01,   4.00500205e-01,   5.87097380e-01,\n",
        "          1.94769029e-01,   5.84207160e-01,   4.38511409e-01,\n",
        "          5.23602932e-01,   5.64880370e-01,   3.27511969e-01,\n",
        "         -1.13452058e-01,   7.58877014e-02,   2.52926113e-01,\n",
        "         -4.98686842e-01],\n",
        "       [  2.07614895e-01,  -5.57000467e-03,   8.12635977e-01,\n",
        "          3.42424766e-01,  -1.17034349e-02,  -6.50964300e-02,\n",
        "          1.82999129e-01,  -8.04002725e-01,  -1.36767744e-01,\n",
        "         -6.94994240e-01,  -1.97934236e-01,  -5.94497391e-01,\n",
        "         -8.30200758e-01,  -5.38961917e-01,  -7.83229971e-01,\n",
        "         -5.08440256e-01,   7.82104985e-01,  -1.16265713e+00,\n",
        "         -4.67907316e-01],\n",
        "       [  4.29949812e-01,   1.99213868e-01,  -9.19093352e-02,\n",
        "         -3.49554402e-01,   1.86878327e-01,  -4.89121450e-01,\n",
        "         -6.75152393e-01,   6.28265799e-01,  -1.83854798e-01,\n",
        "         -1.98463199e-01,   7.52116967e-01,  -7.24458449e-02,\n",
        "         -7.05522865e-01,  -3.03909212e-01,  -7.13226328e-01,\n",
        "         -6.03671545e-01,  -3.58300361e-01,   2.10708940e-01,\n",
        "         -6.77350749e-01],\n",
        "       [ -4.09111745e-01,  -4.64416177e-01,  -1.91062168e-01,\n",
        "          4.37838504e-01,  -6.42078775e-01,   2.04666924e-01,\n",
        "          2.38298568e-01,   7.57997144e-02,  -6.10381372e-01,\n",
        "          2.68565749e-01,   5.04698440e-01,   2.22395057e-03,\n",
        "         -2.22409882e-01,   1.18258464e-01,  -1.01723180e-01,\n",
        "          3.33524217e-01,   2.01241231e-01,   2.13756906e-01,\n",
        "          2.23778018e-01],\n",
        "       [  8.85139831e-02,  -1.62183970e-01,  -4.41970252e-02,\n",
        "          2.56114465e-01,  -3.27411979e-01,  -4.84864086e-02,\n",
        "         -6.11493528e-01,   4.68591104e-01,   8.93652410e-02,\n",
        "         -3.91789799e-01,  -7.56240687e-02,   5.18439764e-02,\n",
        "         -3.57601974e-01,  -1.81800568e-01,  -9.79267120e-01,\n",
        "         -6.55181026e-01,   6.26921871e-01,   1.41496693e+00,\n",
        "         -4.79724043e-01],\n",
        "       [  1.21940312e-01,   2.52766334e-02,  -2.74839014e-02,\n",
        "         -7.74382664e-02,  -1.57348157e-01,   2.28219737e-01,\n",
        "         -6.13062366e-01,  -5.87091039e-01,   7.01484223e-02,\n",
        "          2.00609537e-01,  -2.44310764e-01,   3.95832696e-01,\n",
        "         -2.68938624e-01,   3.43988566e-02,   5.89017658e-01,\n",
        "          3.38629466e-01,  -4.40822926e-01,   9.28171007e-02,\n",
        "         -4.99286305e-01],\n",
        "       [  1.30855371e-01,   2.16505928e-01,   2.42192110e-01,\n",
        "          3.95451216e-01,  -2.49799669e-01,  -7.66503336e-02,\n",
        "          5.50018878e-02,  -8.17909945e-01,  -2.29577473e-01,\n",
        "         -2.84094130e-01,  -2.48911055e-01,  -5.83468241e-01,\n",
        "         -1.88145277e-01,   1.67588994e-01,   1.33408971e+00,\n",
        "         -3.58929232e-02,   2.51694487e-01,   3.75412354e-01,\n",
        "          1.11350730e-01],\n",
        "       [ -2.01288209e-01,   2.80447726e-01,   9.42725321e-01,\n",
        "         -1.95671194e-02,  -7.22737500e-01,  -7.10909739e-01,\n",
        "         -5.30831351e-01,   8.74262020e-02,   7.13583774e-01,\n",
        "          7.59323155e-02,   2.95019436e-01,   1.66586395e-01,\n",
        "          2.79850505e-01,  -1.59332218e-01,   8.53216852e-01,\n",
        "          6.41431950e-01,   8.96890018e-02,   2.29440349e-01,\n",
        "          5.50501166e-01],\n",
        "       [ -3.96333779e-01,  -5.28780289e-01,   6.76283910e-01,\n",
        "         -6.12171979e-02,   3.43497348e-01,   3.25397982e-01,\n",
        "          1.82069172e-01,   1.40705294e-03,  -9.88124505e-02,\n",
        "          5.49819058e-01,  -3.39636166e-01,  -1.07416264e+00,\n",
        "          7.33454216e-01,   1.28684980e+00,   2.97646769e-01,\n",
        "          4.18851265e-01,   2.59039597e-01,   3.76951276e-01,\n",
        "          3.12885236e-01],\n",
        "       [  2.39193101e-01,  -4.72135637e-01,   1.13422262e-01,\n",
        "          2.89830285e-02,  -4.26262283e-01,  -4.31273699e-01,\n",
        "          2.33339386e-02,  -3.14005031e-02,  -2.70741901e-01,\n",
        "          2.84866813e-01,  -1.26621453e-02,  -2.53202748e-01,\n",
        "         -4.51135219e-01,  -2.46720375e-01,  -6.01382024e-01,\n",
        "         -4.04046340e-01,   7.42539040e-01,   6.55057433e-02,\n",
        "          2.75639765e-02],\n",
        "       [  9.58437990e-03,  -5.24867019e-01,  -7.78950574e-01,\n",
        "          8.16931844e-01,   3.28947395e-01,   2.06767229e-01,\n",
        "          2.34712948e-02,  -1.28445741e-01,  -4.48491362e-01,\n",
        "         -7.67530289e-01,   7.77412708e-01,  -2.83691471e-02,\n",
        "          1.90275572e-01,   5.58772419e-01,   7.53641986e-01,\n",
        "         -3.34750879e-01,   4.20712983e-01,  -5.60558131e-01,\n",
        "         -2.35316221e-02],\n",
        "       [  1.12383238e-01,  -2.36776252e-02,   3.57013685e-01,\n",
        "         -3.21426834e-01,  -4.37106674e-01,   2.86253200e-01,\n",
        "         -1.18196670e-01,  -2.91634582e-02,  -1.94650652e-01,\n",
        "         -3.46868423e-01,   2.63987193e-01,  -1.15280150e-02,\n",
        "          4.12291519e-01,   6.01451916e-02,  -5.92160679e-01,\n",
        "          7.78444698e-01,   2.98600098e-02,   1.03664363e-01,\n",
        "         -4.67799234e-01],\n",
        "       [  4.32417506e-02,   1.53183891e-01,   4.78279962e-02,\n",
        "         -3.40644815e-01,  -1.47390439e-01,   1.67843270e-01,\n",
        "          2.40580331e-01,  -8.01407544e-02,  -5.14733661e-01,\n",
        "         -5.49032308e-01,   2.46746595e-01,  -2.77224416e-01,\n",
        "          6.79533567e-01,   1.05909506e+00,   4.48855447e-01,\n",
        "         -1.23488809e-02,   8.26222415e-01,   6.34788834e-01,\n",
        "          6.47673345e-01],\n",
        "       [ -5.57094414e-01,   5.33932758e-02,  -4.04423420e-01,\n",
        "          4.24242176e-01,  -2.65120746e-01,  -2.12253781e-01,\n",
        "         -3.22994522e-01,  -6.46729971e-01,  -1.03890851e-01,\n",
        "          6.78862456e-02,   2.88897855e-02,  -6.90888621e-01,\n",
        "         -3.33146692e-01,  -9.88193325e-01,   5.54617998e-01,\n",
        "         -2.02728590e+00,  -3.89871023e-02,   1.45635539e-01,\n",
        "          1.97136718e-01],\n",
        "       [  3.81199318e-01,  -5.89742595e-01,   2.64262853e-01,\n",
        "         -1.79568289e-01,  -8.56251461e-02,  -1.11690457e-01,\n",
        "          2.86136931e-01,   5.08245223e-01,   9.19523769e-02,\n",
        "          1.03210821e+00,   5.44343747e-01,  -4.14587612e-01,\n",
        "         -3.47634377e-01,   3.42937048e-02,   1.13712559e+00,\n",
        "         -2.02960140e-01,  -9.08980074e-01,   4.82022236e-01,\n",
        "          3.93915925e-01],\n",
        "       [ -7.38182037e-02,   4.32901317e-01,   7.46488655e-02,\n",
        "          3.41100657e-01,   4.37150419e-01,   4.96986983e-01,\n",
        "          2.58830934e-01,  -5.25912790e-01,  -3.63902758e-01,\n",
        "         -4.31045187e-01,  -3.03795159e-01,  -5.65279970e-01,\n",
        "         -9.85071416e-01,   7.81188915e-01,   6.72379823e-01,\n",
        "          3.05201645e-01,   4.33957364e-01,  -2.05835573e-01,\n",
        "         -5.05747214e-01],\n",
        "       [  1.03894722e-01,   7.92356376e-02,  -1.14604029e-01,\n",
        "          1.08452722e-01,  -3.24993050e-01,  -1.87165423e-01,\n",
        "         -4.07945925e-03,  -2.62613198e-02,  -2.10056374e-01,\n",
        "          6.13172402e-01,  -1.13641459e-01,   8.52529775e-01,\n",
        "         -5.63906843e-01,   1.16476500e-01,   4.26920250e-01,\n",
        "         -6.10681429e-02,   3.55334240e-01,  -1.02965516e+00,\n",
        "         -6.41781053e-01],\n",
        "       [ -2.70873358e-01,   1.64073341e-01,  -6.70942831e-01,\n",
        "         -7.33439335e-01,  -7.26955699e-02,   2.19379804e-02,\n",
        "          6.75443774e-01,   1.45489850e-01,   2.45683202e-01,\n",
        "         -4.75267575e-01,   5.21587407e-01,  -1.91429240e-01,\n",
        "          4.24225002e-01,   9.23851554e-01,  -4.30745093e-01,\n",
        "          1.91927556e-01,   1.04759063e+00,  -9.50769951e-02,\n",
        "         -9.14284674e-01],\n",
        "       [  5.33331830e-01,   3.11989528e-01,  -4.73056192e-02,\n",
        "          1.07627095e-01,   6.45952241e-01,  -4.21584801e-01,\n",
        "          4.02584883e-02,   2.70710495e-01,  -5.17242345e-01,\n",
        "          3.82128398e-02,  -8.93568035e-01,  -2.15311858e-02,\n",
        "          4.65934260e-01,  -1.08803694e+00,   8.71581314e-01,\n",
        "         -4.15498967e-01,  -6.61250644e-01,   7.65327392e-01,\n",
        "          1.34364535e-01],\n",
        "       [  2.32028820e-01,  -3.19219943e-01,   8.65203973e-02,\n",
        "         -4.80146371e-01,   4.35013750e-01,  -2.91122155e-02,\n",
        "          7.13707124e-01,   3.51042696e-01,  -5.52929078e-01,\n",
        "         -3.67709555e-01,   2.87896025e-01,   4.83669403e-02,\n",
        "         -2.80589710e-01,   5.05466868e-01,  -1.46324158e-01,\n",
        "          5.12472985e-01,  -3.64390753e-01,   9.13519577e-01,\n",
        "          5.58343454e-01],\n",
        "       [  5.91589809e-01,  -3.88181014e-01,   7.81740014e-02,\n",
        "          2.89614479e-01,  -1.39565023e-01,   4.88557770e-02,\n",
        "          2.18423513e-01,  -8.27039354e-01,   6.09334105e-01,\n",
        "         -4.92731443e-01,   4.84848398e-01,   6.74274388e-02,\n",
        "         -9.78060231e-01,  -2.92973551e-01,  -1.76524322e-01,\n",
        "          1.32191563e+00,  -8.13413877e-01,  -2.02992371e-01,\n",
        "         -7.34848720e-01],\n",
        "       [  1.15696096e-01,   2.05232707e-01,   4.94614395e-04,\n",
        "          3.26300296e-01,  -4.51893522e-02,   5.95389782e-01,\n",
        "          8.79472784e-01,  -7.53774239e-02,   5.29172988e-01,\n",
        "          1.40828475e-01,  -5.93170271e-02,  -1.24736987e-01,\n",
        "         -1.82619222e-02,  -1.42470133e+00,  -1.28863677e+00,\n",
        "          3.89473284e-01,  -1.38800462e-01,  -2.09300412e-01,\n",
        "         -1.39984803e+00],\n",
        "       [  2.72181686e-01,  -3.11824170e-01,  -3.15338900e-01,\n",
        "         -2.03011955e-01,   2.77219795e-01,   5.25997688e-01,\n",
        "         -3.80997761e-01,   4.63948058e-01,   9.17709039e-01,\n",
        "          6.90347976e-04,  -1.27393984e+00,  -7.61504931e-01,\n",
        "         -3.19172456e-01,  -6.18194972e-01,   8.26391320e-02,\n",
        "         -5.83466927e-01,  -3.39197493e-01,   6.19770389e-01,\n",
        "         -8.91368270e-02],\n",
        "       [  2.26385678e-01,  -3.07941028e-01,  -3.66225803e-01,\n",
        "         -3.35937066e-01,  -1.80323967e-01,   1.65693265e-01,\n",
        "          4.00790649e-01,  -4.79335308e-01,   5.83916863e-01,\n",
        "          4.20107600e-01,  -1.04005051e-01,   2.22889430e-02,\n",
        "         -3.58741690e-01,  -5.82992214e-01,  -1.22048096e-01,\n",
        "          1.95412941e+00,  -1.98341378e-01,  -9.24176202e-01,\n",
        "          3.29544496e-03],\n",
        "       [  3.68170344e-01,   2.00209995e-01,   2.24525392e-01,\n",
        "          3.15239010e-01,  -4.62088610e-01,  -7.96543788e-02,\n",
        "          2.89722055e-01,   2.45421748e-01,  -1.41025280e-02,\n",
        "         -8.45595330e-02,   5.58827000e-01,   1.10580472e+00,\n",
        "          4.93883554e-01,  -3.71044585e-01,   1.12891265e+00,\n",
        "         -1.35948536e+00,   9.19816758e-01,  -8.09982351e-01,\n",
        "          4.02408479e-01],\n",
        "       [ -1.51523198e-01,  -1.53462057e-01,   2.70990981e-01,\n",
        "          3.80327680e-01,   2.85018278e-01,  -2.44686674e-01,\n",
        "         -1.96147113e-01,   3.36109513e-01,  -2.90814840e-01,\n",
        "          4.51444305e-01,  -4.50491080e-01,   3.13177530e-01,\n",
        "          7.28028817e-01,  -3.36507822e-01,  -3.34176794e-01,\n",
        "         -4.24972626e-01,  -1.43400527e+00,  -7.33537558e-01,\n",
        "         -5.99326517e-01],\n",
        "       [  4.82459642e-02,   1.94270601e-01,  -5.21224163e-01,\n",
        "          2.66781173e-01,   6.54245756e-01,   2.59376107e-01,\n",
        "         -6.87380653e-01,  -1.75553647e-01,  -5.00879918e-01,\n",
        "          5.17544584e-01,  -3.04992479e-01,  -3.85662093e-01,\n",
        "         -2.60207921e-01,   2.78810142e-01,   3.35899790e-01,\n",
        "          7.11567473e-01,   3.01436157e-01,  -6.27774503e-01,\n",
        "         -3.92322648e-01],\n",
        "       [ -3.90318784e-01,  -4.57160939e-01,   3.47709506e-01,\n",
        "          9.88260158e-02,  -3.94130281e-02,   2.96884912e-01,\n",
        "          2.82787968e-01,   3.79869306e-01,  -6.11901983e-01,\n",
        "          7.51480224e-01,   1.63509905e-01,   2.76252634e-01,\n",
        "          2.22240095e-01,  -1.22235540e-01,   3.48305299e-01,\n",
        "          6.28370169e-01,  -1.01033655e+00,  -1.59355948e+00,\n",
        "         -1.04161074e+00],\n",
        "       [  3.42898746e-01,  -2.35176785e-01,  -1.21418951e-01,\n",
        "          8.54387838e-01,   1.36849777e-01,   3.76217056e-02,\n",
        "         -5.60129954e-01,  -2.21085638e-03,  -1.01306465e-01,\n",
        "         -8.73960121e-01,   7.64068132e-01,  -3.94474561e-01,\n",
        "          3.84810662e-01,   1.43596149e-01,  -5.39247420e-01,\n",
        "         -3.32172727e-02,   2.88806492e-01,   3.60562529e-01,\n",
        "          5.71783170e-02],\n",
        "       [  1.01393614e-01,  -2.91357573e-01,  -2.82730282e-01,\n",
        "         -4.08701309e-01,  -2.96885744e-01,  -3.42495349e-01,\n",
        "          2.33666081e-01,  -6.46936405e-01,  -2.39471418e-01,\n",
        "         -5.87120049e-01,   3.49118054e-02,  -3.11520292e-02,\n",
        "          4.15052292e-01,  -5.56969378e-01,  -1.11778932e+00,\n",
        "         -1.12380056e+00,   7.55559281e-02,  -1.46813342e-01,\n",
        "         -4.98733669e-01],\n",
        "       [ -1.24311230e-02,   3.02768181e-01,  -5.67948516e-01,\n",
        "          3.00628061e-01,   2.67953335e-01,  -8.68498637e-01,\n",
        "          7.77417505e-01,   2.38301069e-01,  -3.03853875e-01,\n",
        "         -4.80939487e-01,  -4.13444984e-01,   5.08684413e-01,\n",
        "          4.27904980e-01,  -5.36253364e-01,  -2.38892252e-01,\n",
        "          3.68638563e-01,  -5.94731493e-01,  -4.00828782e-01,\n",
        "         -4.66495402e-01],\n",
        "       [ -2.99439267e-02,  -1.57861872e-01,  -4.29724388e-01,\n",
        "          4.16753628e-01,   3.97760562e-01,  -4.67976728e-01,\n",
        "         -7.66568658e-02,  -1.18878134e-03,   6.71950331e-01,\n",
        "          5.25845751e-01,  -1.48704076e-01,   2.22049286e-01,\n",
        "          5.54361983e-01,   7.21544958e-01,   1.14400041e+00,\n",
        "         -2.02041312e-01,   9.06204460e-01,   8.91501093e-01,\n",
        "          1.12100892e+00],\n",
        "       [ -2.59771564e-01,  -3.45026479e-01,   2.26738622e-01,\n",
        "         -1.05982772e-01,  -1.71160503e-01,  -3.64693533e-01,\n",
        "         -8.74031855e-01,   5.97151412e-01,   7.82083211e-01,\n",
        "         -2.50342453e-01,  -2.05437274e-01,  -6.46521524e-01,\n",
        "          2.11215185e-01,  -1.89873393e-02,  -9.89973412e-01,\n",
        "          6.55731610e-01,   4.35260801e-01,   3.31128175e-01,\n",
        "          2.88456054e-01],\n",
        "       [  4.24961003e-02,   1.35331792e-01,   1.94885484e-01,\n",
        "          2.24025702e-02,   1.02500277e-02,   2.59673215e-01,\n",
        "         -8.23031760e-02,  -4.76706149e-01,  -1.81321491e-01,\n",
        "          5.62882767e-01,  -3.64751103e-01,   3.24329019e-02,\n",
        "          2.58608659e-01,  -1.30403816e+00,   6.68611339e-01,\n",
        "         -5.12406721e-01,  -8.26282360e-01,   5.61063197e-01,\n",
        "         -3.73594515e-04],\n",
        "       [  5.83715375e-01,  -3.13869213e-01,   2.23992415e-02,\n",
        "         -1.61574863e-02,  -4.19740753e-01,  -4.12410709e-01,\n",
        "         -8.37679401e-01,  -1.92831633e-01,  -6.91785165e-01,\n",
        "         -1.56028685e-01,   2.08948115e-01,  -2.41176795e-01,\n",
        "          6.98066068e-01,   3.29236158e-01,   6.42939758e-01,\n",
        "         -2.11861346e-01,  -3.98671146e-02,  -1.51527052e+00,\n",
        "          1.72920401e-01],\n",
        "       [  2.46491283e-01,   9.37077986e-02,  -9.56689748e-03,\n",
        "         -3.51246278e-01,   7.07525090e-01,   6.75527686e-01,\n",
        "         -6.22128955e-01,   4.83606263e-01,  -5.35186623e-01,\n",
        "          5.54177395e-01,   1.97097081e-01,   5.50350680e-01,\n",
        "         -1.96194837e-01,   6.07072148e-01,  -7.49853051e-01,\n",
        "         -7.62516991e-01,  -3.29176645e-01,  -4.28799063e-02,\n",
        "         -8.93802028e-01]])"
       ],
       "metadata": {}
      }
     ],
     "input": [
      "y_eig_vecs_reg"
     ],
     "language": "python",
     "prompt_number": 63
    },
    {
     "cell_type": "code",
     "metadata": {},
     "outputs": [
      {
       "output_type": "pyout",
       "prompt_number": 64,
       "text": [
        "array([[  9.02833136,   7.48447929,   3.67228977, ...,   3.75608036,\n",
        "          9.62172346,  -8.89903433],\n",
        "       [ -7.26532017,  -0.50618222,  -2.47406062, ...,  -1.31899362,\n",
        "         -5.86863285,   4.80753983],\n",
        "       [ -5.93356233,   5.65609444,   3.12726054, ...,   3.60269844,\n",
        "         -2.8212948 ,  -0.87022132],\n",
        "       ..., \n",
        "       [  3.72593862,   1.35546579,  -3.82408403, ...,  -8.44511384,\n",
        "         -2.59551194,  -1.38350427],\n",
        "       [  0.76741412,  10.99123977,  -1.74154803, ...,   1.28370562,\n",
        "         -2.35779674,  -3.11275754],\n",
        "       [ -2.24427281,   3.11546013,  -0.34571175, ...,   1.48091895,\n",
        "          0.25308163,   3.11904142]])"
       ],
       "metadata": {}
      }
     ],
     "input": [
      "y_eig_vecs_by_x"
     ],
     "language": "python",
     "prompt_number": 64
    },
    {
     "cell_type": "markdown",
     "metadata": {},
     "source": [
      "y_eig_vecs_regとy_eig_vecs_by_xが全然一致していないけど・・・汗"
     ]
    },
    {
     "cell_type": "heading",
     "metadata": {},
     "level": 2,
     "source": [
      "変換を行う"
     ]
    },
    {
     "cell_type": "code",
     "metadata": {},
     "outputs": [],
     "input": [
      "n_components = 2"
     ],
     "language": "python",
     "prompt_number": 65
    },
    {
     "cell_type": "code",
     "metadata": {},
     "outputs": [],
     "input": [
      "x_projected = np.dot(x, x_eig_vecs_reg[:,:n_components])"
     ],
     "language": "python",
     "prompt_number": 66
    },
    {
     "cell_type": "code",
     "metadata": {},
     "outputs": [],
     "input": [
      "y_projected = np.dot(y, y_eig_vecs_reg[:,:n_components])"
     ],
     "language": "python",
     "prompt_number": 67
    },
    {
     "cell_type": "code",
     "metadata": {},
     "outputs": [
      {
       "output_type": "pyout",
       "prompt_number": 68,
       "text": [
        "(20, 2)"
       ],
       "metadata": {}
      }
     ],
     "input": [
      "x_projected.shape"
     ],
     "language": "python",
     "prompt_number": 68
    },
    {
     "cell_type": "code",
     "metadata": {},
     "outputs": [
      {
       "output_type": "pyout",
       "prompt_number": 69,
       "text": [
        "(20, 2)"
       ],
       "metadata": {}
      }
     ],
     "input": [
      "y_projected.shape"
     ],
     "language": "python",
     "prompt_number": 69
    },
    {
     "cell_type": "code",
     "metadata": {},
     "outputs": [],
     "input": [
      "import matplotlib.pyplot as plt"
     ],
     "language": "python",
     "prompt_number": 70
    },
    {
     "cell_type": "code",
     "metadata": {},
     "outputs": [
      {
       "output_type": "pyout",
       "prompt_number": 71,
       "text": [
        "[<matplotlib.lines.Line2D at 0x107eaced0>]"
       ],
       "metadata": {}
      },
      {
       "output_type": "display_data",
       "png": "[encoded data removed]",
       "text": [
        "<matplotlib.figure.Figure at 0x1073ccc10>"
       ],
       "metadata": {}
      }
     ],
     "input": [
      "plt.plot(x_projected[:,0], x_projected[:,1], 'xb')"
     ],
     "language": "python",
     "prompt_number": 71
    },
    {
     "cell_type": "code",
     "metadata": {},
     "outputs": [
      {
       "output_type": "pyout",
       "prompt_number": 72,
       "text": [
        "[<matplotlib.lines.Line2D at 0x10800d190>]"
       ],
       "metadata": {}
      },
      {
       "output_type": "display_data",
       "png": "[encoded data removed]",
       "text": [
        "<matplotlib.figure.Figure at 0x1073cced0>"
       ],
       "metadata": {}
      }
     ],
     "input": [
      "plt.plot(y_projected[:,0], y_projected[:,1], 'ob')"
     ],
     "language": "python",
     "prompt_number": 72
    },
    {
     "cell_type": "markdown",
     "metadata": {},
     "source": [
      "なんか、ちゃんと似たところに似た点が来ているように見えるが、上下逆さま？180度回転している？実行するたびに回転の方向が変わっている模様。"
     ]
    },
    {
     "cell_type": "code",
     "metadata": {},
     "outputs": [
      {
       "output_type": "pyout",
       "prompt_number": 73,
       "text": [
        "[<matplotlib.lines.Line2D at 0x10813d910>]"
       ],
       "metadata": {}
      },
      {
       "output_type": "display_data",
       "png": "[encoded data removed]",
       "text": [
        "<matplotlib.figure.Figure at 0x108055c90>"
       ],
       "metadata": {}
      }
     ],
     "input": [
      "plt.plot(x_projected[:,0], x_projected[:,1], 'xb-')"
     ],
     "language": "python",
     "prompt_number": 73
    },
    {
     "cell_type": "code",
     "metadata": {},
     "outputs": [
      {
       "output_type": "pyout",
       "prompt_number": 74,
       "text": [
        "[<matplotlib.lines.Line2D at 0x10825b6d0>]"
       ],
       "metadata": {}
      },
      {
       "output_type": "display_data",
       "png": "[encoded data removed]",
       "text": [
        "<matplotlib.figure.Figure at 0x10817c9d0>"
       ],
       "metadata": {}
      }
     ],
     "input": [
      "plt.plot(y_projected[:,0], y_projected[:,1], 'ob-')"
     ],
     "language": "python",
     "prompt_number": 74
    },
    {
     "cell_type": "markdown",
     "metadata": {},
     "source": [
      "線がある方が点の対応関係がわかりやすいので線を入れてみた"
     ]
    },
    {
     "cell_type": "heading",
     "metadata": {},
     "level": 3,
     "source": [
      "別に求めた係数で計算してみる"
     ]
    },
    {
     "cell_type": "code",
     "metadata": {},
     "outputs": [],
     "input": [
      "x_projected_2 = np.dot(x, x_eig_vecs_reg[:,:n_components])"
     ],
     "language": "python",
     "prompt_number": 75
    },
    {
     "cell_type": "code",
     "metadata": {},
     "outputs": [],
     "input": [
      "y_projected_2 = np.dot(y, y_eig_vecs_by_x[:,:n_components])"
     ],
     "language": "python",
     "prompt_number": 76
    },
    {
     "cell_type": "code",
     "metadata": {},
     "outputs": [
      {
       "output_type": "pyout",
       "prompt_number": 77,
       "text": [
        "[<matplotlib.lines.Line2D at 0x10838b410>]"
       ],
       "metadata": {}
      },
      {
       "output_type": "display_data",
       "png": "[encoded data removed]",
       "text": [
        "<matplotlib.figure.Figure at 0x1082ae690>"
       ],
       "metadata": {}
      }
     ],
     "input": [
      "plt.plot(x_projected_2[:,0], x_projected[:,1], 'xb')"
     ],
     "language": "python",
     "prompt_number": 77
    },
    {
     "cell_type": "code",
     "metadata": {},
     "outputs": [
      {
       "output_type": "pyout",
       "prompt_number": 78,
       "text": [
        "[<matplotlib.lines.Line2D at 0x1084a7210>]"
       ],
       "metadata": {}
      },
      {
       "output_type": "display_data",
       "png": "[encoded data removed]",
       "text": [
        "<matplotlib.figure.Figure at 0x1083c94d0>"
       ],
       "metadata": {}
      }
     ],
     "input": [
      "plt.plot(y_projected_2[:,0], y_projected_2[:,1], 'ob')"
     ],
     "language": "python",
     "prompt_number": 78
    },
    {
     "cell_type": "code",
     "metadata": {},
     "outputs": [
      {
       "output_type": "pyout",
       "prompt_number": 79,
       "text": [
        "[<matplotlib.lines.Line2D at 0x1085b77d0>]"
       ],
       "metadata": {}
      },
      {
       "output_type": "display_data",
       "png": "[encoded data removed]",
       "text": [
        "<matplotlib.figure.Figure at 0x1084d9fd0>"
       ],
       "metadata": {}
      }
     ],
     "input": [
      "plt.plot(x_projected_2[:,0], x_projected[:,1], 'xb-')"
     ],
     "language": "python",
     "prompt_number": 79
    },
    {
     "cell_type": "code",
     "metadata": {},
     "outputs": [
      {
       "output_type": "pyout",
       "prompt_number": 80,
       "text": [
        "[<matplotlib.lines.Line2D at 0x1086d1550>]"
       ],
       "metadata": {}
      },
      {
       "output_type": "display_data",
       "png": "[encoded data removed]",
       "text": [
        "<matplotlib.figure.Figure at 0x1085f6850>"
       ],
       "metadata": {}
      }
     ],
     "input": [
      "plt.plot(y_projected_2[:,0], y_projected_2[:,1], 'ob-')"
     ],
     "language": "python",
     "prompt_number": 80
    },
    {
     "cell_type": "markdown",
     "metadata": {},
     "source": [
      "スケールも合ってないし、全然重なっていない"
     ]
    },
    {
     "cell_type": "code",
     "metadata": {},
     "outputs": [],
     "input": [
      ""
     ],
     "language": "python",
     "prompt_number": 80
    }
   ]
  }
 ],
 "cells": [],
 "metadata": {
  "name": "",
  "signature": "sha256:e38ff211b18120641ebad97c50fd684b70f8680e1ae8def28ac6752043c3136a"
 },
 "nbformat": 3,
 "nbformat_minor": 0
}