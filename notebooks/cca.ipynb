{
 "metadata": {
  "name": "",
  "signature": "sha256:56a4c13c7ece8a615633172be01583103b3e465ab96427c6b4e01c1eb6f7dc51"
 },
 "nbformat": 3,
 "nbformat_minor": 0,
 "worksheets": [
  {
   "cells": [
    {
     "cell_type": "heading",
     "level": 1,
     "metadata": {},
     "source": [
      "CCA\u306e\u8a08\u7b97"
     ]
    },
    {
     "cell_type": "heading",
     "level": 2,
     "metadata": {},
     "source": [
      "\u30a4\u30f3\u30dd\u30fc\u30c8"
     ]
    },
    {
     "cell_type": "code",
     "collapsed": false,
     "input": [
      "import numpy as np"
     ],
     "language": "python",
     "metadata": {},
     "outputs": [],
     "prompt_number": 1
    },
    {
     "cell_type": "heading",
     "level": 2,
     "metadata": {},
     "source": [
      "\u30c7\u30fc\u30bf\u306e\u6b21\u5143\u6570\u306e\u5b9a\u7fa9"
     ]
    },
    {
     "cell_type": "code",
     "collapsed": false,
     "input": [
      "p = 30; q = 40; n = 20"
     ],
     "language": "python",
     "metadata": {},
     "outputs": [],
     "prompt_number": 2
    },
    {
     "cell_type": "heading",
     "level": 2,
     "metadata": {},
     "source": [
      "\u30c7\u30fc\u30bf\u306e\u6e96\u5099"
     ]
    },
    {
     "cell_type": "code",
     "collapsed": false,
     "input": [
      "x = np.random.rand(n, p)"
     ],
     "language": "python",
     "metadata": {},
     "outputs": [],
     "prompt_number": 3
    },
    {
     "cell_type": "code",
     "collapsed": false,
     "input": [
      "y = np.random.rand(n, q)"
     ],
     "language": "python",
     "metadata": {},
     "outputs": [],
     "prompt_number": 4
    },
    {
     "cell_type": "code",
     "collapsed": false,
     "input": [
      "x.shape"
     ],
     "language": "python",
     "metadata": {},
     "outputs": [
      {
       "metadata": {},
       "output_type": "pyout",
       "prompt_number": 5,
       "text": [
        "(20, 30)"
       ]
      }
     ],
     "prompt_number": 5
    },
    {
     "cell_type": "code",
     "collapsed": false,
     "input": [
      "y.shape"
     ],
     "language": "python",
     "metadata": {},
     "outputs": [
      {
       "metadata": {},
       "output_type": "pyout",
       "prompt_number": 6,
       "text": [
        "(20, 40)"
       ]
      }
     ],
     "prompt_number": 6
    },
    {
     "cell_type": "heading",
     "level": 2,
     "metadata": {},
     "source": [
      "\u5206\u6563\u5171\u5206\u6563\u306e\u8a08\u7b97"
     ]
    },
    {
     "cell_type": "code",
     "collapsed": false,
     "input": [
      "z = np.vstack((x.T, y.T))"
     ],
     "language": "python",
     "metadata": {},
     "outputs": [],
     "prompt_number": 7
    },
    {
     "cell_type": "markdown",
     "metadata": {},
     "source": [
      "\u30c7\u30fc\u30bf\u3092\u7e26\u306b\u4e26\u3079\u308b"
     ]
    },
    {
     "cell_type": "code",
     "collapsed": false,
     "input": [
      "z.shape"
     ],
     "language": "python",
     "metadata": {},
     "outputs": [
      {
       "metadata": {},
       "output_type": "pyout",
       "prompt_number": 8,
       "text": [
        "(70, 20)"
       ]
      }
     ],
     "prompt_number": 8
    },
    {
     "cell_type": "code",
     "collapsed": false,
     "input": [
      "cov = np.cov(z)"
     ],
     "language": "python",
     "metadata": {},
     "outputs": [],
     "prompt_number": 9
    },
    {
     "cell_type": "code",
     "collapsed": false,
     "input": [
      "cov.shape"
     ],
     "language": "python",
     "metadata": {},
     "outputs": [
      {
       "metadata": {},
       "output_type": "pyout",
       "prompt_number": 10,
       "text": [
        "(70, 70)"
       ]
      }
     ],
     "prompt_number": 10
    },
    {
     "cell_type": "markdown",
     "metadata": {},
     "source": [
      "70\u884c\u3059\u3079\u3066\u306e\u884c\u540c\u58eb\u306e\u5206\u6563\u5171\u5206\u6563\u884c\u5217\u3092\u8a08\u7b97\u3057\u3066\u3044\u308b\n",
      "\n",
      "http://docs.scipy.org/doc/numpy/reference/generated/numpy.cov.html"
     ]
    },
    {
     "cell_type": "code",
     "collapsed": false,
     "input": [
      "p_ = len(x.T)"
     ],
     "language": "python",
     "metadata": {},
     "outputs": [],
     "prompt_number": 11
    },
    {
     "cell_type": "code",
     "collapsed": false,
     "input": [
      "p_"
     ],
     "language": "python",
     "metadata": {},
     "outputs": [
      {
       "metadata": {},
       "output_type": "pyout",
       "prompt_number": 12,
       "text": [
        "30"
       ]
      }
     ],
     "prompt_number": 12
    },
    {
     "cell_type": "code",
     "collapsed": false,
     "input": [
      "c_xx = cov[:p, :p]"
     ],
     "language": "python",
     "metadata": {},
     "outputs": [],
     "prompt_number": 13
    },
    {
     "cell_type": "code",
     "collapsed": false,
     "input": [
      "c_yy = cov[p:, p:]"
     ],
     "language": "python",
     "metadata": {},
     "outputs": [],
     "prompt_number": 14
    },
    {
     "cell_type": "code",
     "collapsed": false,
     "input": [
      "c_xy = cov[:p, p:]"
     ],
     "language": "python",
     "metadata": {},
     "outputs": [],
     "prompt_number": 15
    },
    {
     "cell_type": "code",
     "collapsed": false,
     "input": [
      "c_xx.shape"
     ],
     "language": "python",
     "metadata": {},
     "outputs": [
      {
       "metadata": {},
       "output_type": "pyout",
       "prompt_number": 16,
       "text": [
        "(30, 30)"
       ]
      }
     ],
     "prompt_number": 16
    },
    {
     "cell_type": "code",
     "collapsed": false,
     "input": [
      "c_yy.shape"
     ],
     "language": "python",
     "metadata": {},
     "outputs": [
      {
       "metadata": {},
       "output_type": "pyout",
       "prompt_number": 17,
       "text": [
        "(40, 40)"
       ]
      }
     ],
     "prompt_number": 17
    },
    {
     "cell_type": "code",
     "collapsed": false,
     "input": [
      "c_xy.shape"
     ],
     "language": "python",
     "metadata": {},
     "outputs": [
      {
       "metadata": {},
       "output_type": "pyout",
       "prompt_number": 18,
       "text": [
        "(30, 40)"
       ]
      }
     ],
     "prompt_number": 18
    },
    {
     "cell_type": "heading",
     "level": 2,
     "metadata": {},
     "source": [
      "\u6b63\u898f\u5316\u9805\u3092\u52a0\u3048\u308b"
     ]
    },
    {
     "cell_type": "code",
     "collapsed": false,
     "input": [
      "reg_param=0.1"
     ],
     "language": "python",
     "metadata": {},
     "outputs": [],
     "prompt_number": 19
    },
    {
     "cell_type": "code",
     "collapsed": false,
     "input": [
      "c_xx += reg_param * np.average(np.diag(c_xx)) * np.eye(c_xx.shape[0])"
     ],
     "language": "python",
     "metadata": {},
     "outputs": [],
     "prompt_number": 20
    },
    {
     "cell_type": "code",
     "collapsed": false,
     "input": [
      "c_yy += reg_param * np.average(np.diag(c_yy)) * np.eye(c_yy.shape[0])"
     ],
     "language": "python",
     "metadata": {},
     "outputs": [],
     "prompt_number": 21
    },
    {
     "cell_type": "heading",
     "level": 2,
     "metadata": {},
     "source": [
      "\u4e00\u822c\u5316\u56fa\u6709\u5024\u554f\u984c\u306e\u5f0f\u306e\u8a08\u7b97\uff08\u5f0f\uff11\uff09"
     ]
    },
    {
     "cell_type": "heading",
     "level": 3,
     "metadata": {},
     "source": [
      "\u5de6\u8fba xleft = A"
     ]
    },
    {
     "cell_type": "code",
     "collapsed": false,
     "input": [
      "xleft = np.dot(c_xy, np.linalg.solve(c_yy,c_xy.T))"
     ],
     "language": "python",
     "metadata": {},
     "outputs": [],
     "prompt_number": 22
    },
    {
     "cell_type": "code",
     "collapsed": false,
     "input": [
      "xleft.shape"
     ],
     "language": "python",
     "metadata": {},
     "outputs": [
      {
       "metadata": {},
       "output_type": "pyout",
       "prompt_number": 23,
       "text": [
        "(30, 30)"
       ]
      }
     ],
     "prompt_number": 23
    },
    {
     "cell_type": "markdown",
     "metadata": {},
     "source": [
      "\u9006\u884c\u5217\u3092\u639b\u3051\u308b\u5834\u5408\u306b\u306fslove\u3092\u4f7f\u3063\u305f\u307b\u3046\u304c\u65e9\u3044\n",
      "\n",
      "http://d.hatena.ne.jp/sleepy_yoshi/20120513/p1"
     ]
    },
    {
     "cell_type": "heading",
     "level": 3,
     "metadata": {},
     "source": [
      "\u53f3\u8fba xright = B"
     ]
    },
    {
     "cell_type": "code",
     "collapsed": false,
     "input": [
      "xright = c_xx"
     ],
     "language": "python",
     "metadata": {},
     "outputs": [],
     "prompt_number": 24
    },
    {
     "cell_type": "code",
     "collapsed": false,
     "input": [
      "xright.shape"
     ],
     "language": "python",
     "metadata": {},
     "outputs": [
      {
       "metadata": {},
       "output_type": "pyout",
       "prompt_number": 25,
       "text": [
        "(30, 30)"
       ]
      }
     ],
     "prompt_number": 25
    },
    {
     "cell_type": "heading",
     "level": 3,
     "metadata": {},
     "source": [
      "\u4e00\u822c\u5316\u56fa\u6709\u5024\u554f\u984c\u3092\u89e3\u304f"
     ]
    },
    {
     "cell_type": "code",
     "collapsed": false,
     "input": [
      "from scipy.linalg import eig"
     ],
     "language": "python",
     "metadata": {},
     "outputs": [],
     "prompt_number": 26
    },
    {
     "cell_type": "code",
     "collapsed": false,
     "input": [
      "x_eig_dim = min([np.linalg.matrix_rank(xleft), np.linalg.matrix_rank(xright)])"
     ],
     "language": "python",
     "metadata": {},
     "outputs": [],
     "prompt_number": 27
    },
    {
     "cell_type": "code",
     "collapsed": false,
     "input": [
      "x_eig_dim"
     ],
     "language": "python",
     "metadata": {},
     "outputs": [
      {
       "metadata": {},
       "output_type": "pyout",
       "prompt_number": 28,
       "text": [
        "19"
       ]
      }
     ],
     "prompt_number": 28
    },
    {
     "cell_type": "code",
     "collapsed": false,
     "input": [
      "x_eig_vals, x_eig_vecs = eig(xleft, xright)"
     ],
     "language": "python",
     "metadata": {},
     "outputs": [],
     "prompt_number": 29
    },
    {
     "cell_type": "markdown",
     "metadata": {},
     "source": [
      "\u5f15\u6570\u3092\uff12\u3064\u4e0e\u3048\u308b\u3068\u4e00\u822c\u5316\u56fa\u6709\u5024\u554f\u984c\u3092\u3082\u3068\u3081\u308b\u3053\u3068\u304c\u3067\u304d\u308b\n",
      "\n",
      "http://docs.scipy.org/doc/scipy-0.13.0/reference/generated/scipy.linalg.eig.html"
     ]
    },
    {
     "cell_type": "code",
     "collapsed": false,
     "input": [
      "x_eig_vals.shape"
     ],
     "language": "python",
     "metadata": {},
     "outputs": [
      {
       "metadata": {},
       "output_type": "pyout",
       "prompt_number": 30,
       "text": [
        "(30,)"
       ]
      }
     ],
     "prompt_number": 30
    },
    {
     "cell_type": "code",
     "collapsed": false,
     "input": [
      "x_eig_vecs.shape"
     ],
     "language": "python",
     "metadata": {},
     "outputs": [
      {
       "metadata": {},
       "output_type": "pyout",
       "prompt_number": 31,
       "text": [
        "(30, 30)"
       ]
      }
     ],
     "prompt_number": 31
    },
    {
     "cell_type": "code",
     "collapsed": false,
     "input": [
      "x_sort_indices = np.argsort(x_eig_vals)[::-1]"
     ],
     "language": "python",
     "metadata": {},
     "outputs": [],
     "prompt_number": 32
    },
    {
     "cell_type": "code",
     "collapsed": false,
     "input": [
      "x_sort_indices"
     ],
     "language": "python",
     "metadata": {},
     "outputs": [
      {
       "metadata": {},
       "output_type": "pyout",
       "prompt_number": 33,
       "text": [
        "array([10, 11, 18, 17, 16, 15, 14, 13, 12,  9,  8,  7,  6,  5,  4,  3,  2,\n",
        "        1,  0, 19, 20, 27, 22, 29, 26, 24, 28, 21, 25, 23])"
       ]
      }
     ],
     "prompt_number": 33
    },
    {
     "cell_type": "code",
     "collapsed": false,
     "input": [
      "[1, 2, 3, 4][::-1]"
     ],
     "language": "python",
     "metadata": {},
     "outputs": [
      {
       "metadata": {},
       "output_type": "pyout",
       "prompt_number": 34,
       "text": [
        "[4, 3, 2, 1]"
       ]
      }
     ],
     "prompt_number": 34
    },
    {
     "cell_type": "code",
     "collapsed": false,
     "input": [
      "x_eig_vals[x_sort_indices]"
     ],
     "language": "python",
     "metadata": {},
     "outputs": [
      {
       "metadata": {},
       "output_type": "pyout",
       "prompt_number": 35,
       "text": [
        "array([  9.38864212e-01+0.j,   9.33707272e-01+0.j,   9.19987642e-01+0.j,\n",
        "         9.17763970e-01+0.j,   9.11064559e-01+0.j,   8.99272102e-01+0.j,\n",
        "         8.85055644e-01+0.j,   8.77093193e-01+0.j,   8.64846092e-01+0.j,\n",
        "         8.48951383e-01+0.j,   8.39995524e-01+0.j,   8.22012790e-01+0.j,\n",
        "         7.80835503e-01+0.j,   7.71635208e-01+0.j,   7.42812244e-01+0.j,\n",
        "         7.14747065e-01+0.j,   6.94461014e-01+0.j,   6.18064570e-01+0.j,\n",
        "         4.43183268e-01+0.j,   3.16759757e-16+0.j,   2.02441968e-16+0.j,\n",
        "         1.59306267e-16+0.j,   8.06228965e-17+0.j,  -6.94211818e-17+0.j,\n",
        "        -2.74964848e-16+0.j,  -4.53012515e-16+0.j,  -6.73839677e-16+0.j,\n",
        "        -9.93606081e-16+0.j,  -1.22487091e-15+0.j,  -3.26145672e-15+0.j])"
       ]
      }
     ],
     "prompt_number": 35
    },
    {
     "cell_type": "code",
     "collapsed": false,
     "input": [
      "x_eig_vals[x_sort_indices][:x_eig_dim]"
     ],
     "language": "python",
     "metadata": {},
     "outputs": [
      {
       "metadata": {},
       "output_type": "pyout",
       "prompt_number": 36,
       "text": [
        "array([ 0.93886421+0.j,  0.93370727+0.j,  0.91998764+0.j,  0.91776397+0.j,\n",
        "        0.91106456+0.j,  0.89927210+0.j,  0.88505564+0.j,  0.87709319+0.j,\n",
        "        0.86484609+0.j,  0.84895138+0.j,  0.83999552+0.j,  0.82201279+0.j,\n",
        "        0.78083550+0.j,  0.77163521+0.j,  0.74281224+0.j,  0.71474707+0.j,\n",
        "        0.69446101+0.j,  0.61806457+0.j,  0.44318327+0.j])"
       ]
      }
     ],
     "prompt_number": 36
    },
    {
     "cell_type": "code",
     "collapsed": false,
     "input": [
      "x_eig_vals_sort = x_eig_vals[x_sort_indices][:x_eig_dim].real"
     ],
     "language": "python",
     "metadata": {},
     "outputs": [],
     "prompt_number": 37
    },
    {
     "cell_type": "code",
     "collapsed": false,
     "input": [
      "x_eig_vals_sort"
     ],
     "language": "python",
     "metadata": {},
     "outputs": [
      {
       "metadata": {},
       "output_type": "pyout",
       "prompt_number": 38,
       "text": [
        "array([ 0.93886421,  0.93370727,  0.91998764,  0.91776397,  0.91106456,\n",
        "        0.8992721 ,  0.88505564,  0.87709319,  0.86484609,  0.84895138,\n",
        "        0.83999552,  0.82201279,  0.7808355 ,  0.77163521,  0.74281224,\n",
        "        0.71474707,  0.69446101,  0.61806457,  0.44318327])"
       ]
      }
     ],
     "prompt_number": 38
    },
    {
     "cell_type": "code",
     "collapsed": false,
     "input": [
      "x_eig_vals_sort.shape"
     ],
     "language": "python",
     "metadata": {},
     "outputs": [
      {
       "metadata": {},
       "output_type": "pyout",
       "prompt_number": 39,
       "text": [
        "(19,)"
       ]
      }
     ],
     "prompt_number": 39
    },
    {
     "cell_type": "markdown",
     "metadata": {},
     "source": [
      "\u56fa\u6709\u5024\u3092\u964d\u9806\uff08\u5927\u304d\u3044\u9806\uff09\u306b\u4e26\u3073\u66ff\u3048\u3066\u3044\u308b"
     ]
    },
    {
     "cell_type": "code",
     "collapsed": false,
     "input": [
      "x_eig_vecs_sort= x_eig_vecs[:,x_sort_indices][:,:x_eig_dim].real"
     ],
     "language": "python",
     "metadata": {},
     "outputs": [],
     "prompt_number": 40
    },
    {
     "cell_type": "code",
     "collapsed": false,
     "input": [
      "x_eig_vecs_sort.shape"
     ],
     "language": "python",
     "metadata": {},
     "outputs": [
      {
       "metadata": {},
       "output_type": "pyout",
       "prompt_number": 41,
       "text": [
        "(30, 19)"
       ]
      }
     ],
     "prompt_number": 41
    },
    {
     "cell_type": "heading",
     "level": 3,
     "metadata": {},
     "source": [
      "\u6b63\u898f\u5316"
     ]
    },
    {
     "cell_type": "markdown",
     "metadata": {},
     "source": [
      "\u5206\u6563 = 1\u306e\u5236\u7d04\u304c\u3042\u308b\u306e\u3067\u3001\u307e\u305a\u5206\u6563\u3092\u3082\u3068\u3081\u308b"
     ]
    },
    {
     "cell_type": "code",
     "collapsed": false,
     "input": [
      "x_var = np.dot(x_eig_vecs_sort.T, np.dot(xright, x_eig_vecs_sort))"
     ],
     "language": "python",
     "metadata": {},
     "outputs": [],
     "prompt_number": 42
    },
    {
     "cell_type": "code",
     "collapsed": false,
     "input": [
      "x_var.shape"
     ],
     "language": "python",
     "metadata": {},
     "outputs": [
      {
       "metadata": {},
       "output_type": "pyout",
       "prompt_number": 43,
       "text": [
        "(19, 19)"
       ]
      }
     ],
     "prompt_number": 43
    },
    {
     "cell_type": "markdown",
     "metadata": {},
     "source": [
      "\u5206\u6563\u30921\u306b\u3059\u308b\u306b\u306f\u56fa\u6709\u30d9\u30af\u30c8\u30eb\u3092\u6b63\u898f\u5316\u3059\u308b\u5fc5\u8981\u304c\u3042\u308b\u3002\n",
      "\n",
      "\u56fa\u6709\u30d9\u30af\u30c8\u30eb\u3092\u5b9a\u6570\u500d\u3059\u308b\u3053\u3068\u3067\u5206\u6563\u30921\u306b\u3059\u308b\u3053\u3068\u304c\u3067\u304d\u308b\u304c\u3001\u56fa\u6709\u30d9\u30af\u30c8\u30eb\u306fa \u00d7 S_xx \u00d7 a\u3068\uff12\u56de\u304b\u3051\u3089\u308c\u3066\u3044\u308b\u306e\u3067\u30eb\u30fc\u30c8\u3092\u53d6\u308b\u5fc5\u8981\u304c\u3042\u308b\u3002\n",
      "\n",
      "\u203bdiag\u306f\u4f55\u3067\u53d6\u3063\u3066\u308b\u3093\u3060\u3063\u3051\uff1f"
     ]
    },
    {
     "cell_type": "code",
     "collapsed": false,
     "input": [
      "np.diag(x_var)"
     ],
     "language": "python",
     "metadata": {},
     "outputs": [
      {
       "metadata": {},
       "output_type": "pyout",
       "prompt_number": 44,
       "text": [
        "array([ 0.24724559,  0.2098762 ,  0.17400029,  0.14827198,  0.15211131,\n",
        "        0.13432461,  0.13974529,  0.13391442,  0.11486488,  0.11743967,\n",
        "        0.12567289,  0.12228163,  0.06888249,  0.05459935,  0.07217876,\n",
        "        0.04414829,  0.04331499,  0.03266071,  0.0187885 ])"
       ]
      }
     ],
     "prompt_number": 44
    },
    {
     "cell_type": "markdown",
     "metadata": {},
     "source": [
      "\u5bfe\u89d2\u6210\u5206\u3092\u53d6\u3063\u3066\u304f\u308b"
     ]
    },
    {
     "cell_type": "code",
     "collapsed": false,
     "input": [
      "np.sqrt(np.diag(x_var))"
     ],
     "language": "python",
     "metadata": {},
     "outputs": [
      {
       "metadata": {},
       "output_type": "pyout",
       "prompt_number": 45,
       "text": [
        "array([ 0.49723796,  0.45812247,  0.41713342,  0.38506101,  0.39001449,\n",
        "        0.36650322,  0.37382522,  0.36594319,  0.33891721,  0.34269472,\n",
        "        0.35450372,  0.3496879 ,  0.26245474,  0.23366503,  0.26866105,\n",
        "        0.21011496,  0.20812253,  0.18072274,  0.13707114])"
       ]
      }
     ],
     "prompt_number": 45
    },
    {
     "cell_type": "markdown",
     "metadata": {},
     "source": [
      "\u8981\u7d20\u306e\u30eb\u30fc\u30c8\u3092\u3068\u308b\uff08\u4e21\u5074\u306b\u304b\u304b\u308b\u304b\u3089\uff09"
     ]
    },
    {
     "cell_type": "code",
     "collapsed": false,
     "input": [
      "np.reciprocal(np.sqrt(np.diag(x_var)))"
     ],
     "language": "python",
     "metadata": {},
     "outputs": [
      {
       "metadata": {},
       "output_type": "pyout",
       "prompt_number": 46,
       "text": [
        "array([ 2.01110953,  2.18282241,  2.3973145 ,  2.59699104,  2.56400727,\n",
        "        2.72848895,  2.67504692,  2.73266457,  2.95057306,  2.91804906,\n",
        "        2.82084489,  2.8596929 ,  3.81018079,  4.27963056,  3.72216212,\n",
        "        4.75929946,  4.80486187,  5.533338  ,  7.29548174])"
       ]
      }
     ],
     "prompt_number": 46
    },
    {
     "cell_type": "markdown",
     "metadata": {},
     "source": [
      "\u8981\u7d20\u306e\u9006\u6570\u3092\u3068\u308b"
     ]
    },
    {
     "cell_type": "code",
     "collapsed": false,
     "input": [
      "x_invvar = np.diag(np.reciprocal(np.sqrt(np.diag(x_var))))"
     ],
     "language": "python",
     "metadata": {},
     "outputs": [],
     "prompt_number": 47
    },
    {
     "cell_type": "markdown",
     "metadata": {},
     "source": [
      "\u5bfe\u89d2\u5316"
     ]
    },
    {
     "cell_type": "code",
     "collapsed": false,
     "input": [
      "x_eig_vecs_reg = np.dot(x_eig_vecs_sort, x_invvar)"
     ],
     "language": "python",
     "metadata": {},
     "outputs": [],
     "prompt_number": 48
    },
    {
     "cell_type": "heading",
     "level": 3,
     "metadata": {},
     "source": [
      "\u6b63\u898f\u5316\u3055\u308c\u3066\u3044\u308b\u304b\u306e\u78ba\u8a8d"
     ]
    },
    {
     "cell_type": "code",
     "collapsed": false,
     "input": [
      "(np.dot(x_eig_vecs_reg.T,  np.dot(xright,  x_eig_vecs_reg))).round().astype(int)"
     ],
     "language": "python",
     "metadata": {},
     "outputs": [
      {
       "metadata": {},
       "output_type": "pyout",
       "prompt_number": 49,
       "text": [
        "array([[1, 0, 0, 0, 0, 0, 0, 0, 0, 0, 0, 0, 0, 0, 0, 0, 0, 0, 0],\n",
        "       [0, 1, 0, 0, 0, 0, 0, 0, 0, 0, 0, 0, 0, 0, 0, 0, 0, 0, 0],\n",
        "       [0, 0, 1, 0, 0, 0, 0, 0, 0, 0, 0, 0, 0, 0, 0, 0, 0, 0, 0],\n",
        "       [0, 0, 0, 1, 0, 0, 0, 0, 0, 0, 0, 0, 0, 0, 0, 0, 0, 0, 0],\n",
        "       [0, 0, 0, 0, 1, 0, 0, 0, 0, 0, 0, 0, 0, 0, 0, 0, 0, 0, 0],\n",
        "       [0, 0, 0, 0, 0, 1, 0, 0, 0, 0, 0, 0, 0, 0, 0, 0, 0, 0, 0],\n",
        "       [0, 0, 0, 0, 0, 0, 1, 0, 0, 0, 0, 0, 0, 0, 0, 0, 0, 0, 0],\n",
        "       [0, 0, 0, 0, 0, 0, 0, 1, 0, 0, 0, 0, 0, 0, 0, 0, 0, 0, 0],\n",
        "       [0, 0, 0, 0, 0, 0, 0, 0, 1, 0, 0, 0, 0, 0, 0, 0, 0, 0, 0],\n",
        "       [0, 0, 0, 0, 0, 0, 0, 0, 0, 1, 0, 0, 0, 0, 0, 0, 0, 0, 0],\n",
        "       [0, 0, 0, 0, 0, 0, 0, 0, 0, 0, 1, 0, 0, 0, 0, 0, 0, 0, 0],\n",
        "       [0, 0, 0, 0, 0, 0, 0, 0, 0, 0, 0, 1, 0, 0, 0, 0, 0, 0, 0],\n",
        "       [0, 0, 0, 0, 0, 0, 0, 0, 0, 0, 0, 0, 1, 0, 0, 0, 0, 0, 0],\n",
        "       [0, 0, 0, 0, 0, 0, 0, 0, 0, 0, 0, 0, 0, 1, 0, 0, 0, 0, 0],\n",
        "       [0, 0, 0, 0, 0, 0, 0, 0, 0, 0, 0, 0, 0, 0, 1, 0, 0, 0, 0],\n",
        "       [0, 0, 0, 0, 0, 0, 0, 0, 0, 0, 0, 0, 0, 0, 0, 1, 0, 0, 0],\n",
        "       [0, 0, 0, 0, 0, 0, 0, 0, 0, 0, 0, 0, 0, 0, 0, 0, 1, 0, 0],\n",
        "       [0, 0, 0, 0, 0, 0, 0, 0, 0, 0, 0, 0, 0, 0, 0, 0, 0, 1, 0],\n",
        "       [0, 0, 0, 0, 0, 0, 0, 0, 0, 0, 0, 0, 0, 0, 0, 0, 0, 0, 1]])"
       ]
      }
     ],
     "prompt_number": 49
    },
    {
     "cell_type": "markdown",
     "metadata": {},
     "source": [
      "\u5358\u4f4d\u884c\u5217\u306b\u306a\u3063\u3066\u3044\u308b\u306e\u3067OK"
     ]
    },
    {
     "cell_type": "heading",
     "level": 2,
     "metadata": {},
     "source": [
      "\u4e00\u822c\u5316\u56fa\u6709\u5024\u554f\u984c\u306e\u5f0f\u306e\u8a08\u7b97\uff08\u5f0f\uff12\uff09"
     ]
    },
    {
     "cell_type": "heading",
     "level": 3,
     "metadata": {},
     "source": [
      "\u5de6\u8fba yleft = A"
     ]
    },
    {
     "cell_type": "code",
     "collapsed": false,
     "input": [
      "yleft = np.dot(c_xy.T, np.linalg.solve(c_xx,c_xy))"
     ],
     "language": "python",
     "metadata": {},
     "outputs": [],
     "prompt_number": 50
    },
    {
     "cell_type": "heading",
     "level": 3,
     "metadata": {},
     "source": [
      "\u53f3\u8fba yright = B"
     ]
    },
    {
     "cell_type": "code",
     "collapsed": false,
     "input": [
      "yright = c_yy"
     ],
     "language": "python",
     "metadata": {},
     "outputs": [],
     "prompt_number": 51
    },
    {
     "cell_type": "heading",
     "level": 3,
     "metadata": {},
     "source": [
      "\u4e00\u822c\u5316\u56fa\u6709\u5024\u554f\u984c\u3092\u89e3\u304f"
     ]
    },
    {
     "cell_type": "code",
     "collapsed": false,
     "input": [
      "y_eig_dim = min([np.linalg.matrix_rank(yleft), np.linalg.matrix_rank(yright)])"
     ],
     "language": "python",
     "metadata": {},
     "outputs": [],
     "prompt_number": 52
    },
    {
     "cell_type": "code",
     "collapsed": false,
     "input": [
      "y_eig_vals, y_eig_vecs = eig(yleft, yright)"
     ],
     "language": "python",
     "metadata": {},
     "outputs": [],
     "prompt_number": 53
    },
    {
     "cell_type": "code",
     "collapsed": false,
     "input": [
      "y_sort_indices = np.argsort(y_eig_vals)[::-1]"
     ],
     "language": "python",
     "metadata": {},
     "outputs": [],
     "prompt_number": 54
    },
    {
     "cell_type": "code",
     "collapsed": false,
     "input": [
      "y_eig_vals_sort = y_eig_vals[y_sort_indices][:y_eig_dim].real"
     ],
     "language": "python",
     "metadata": {},
     "outputs": [],
     "prompt_number": 55
    },
    {
     "cell_type": "code",
     "collapsed": false,
     "input": [
      "y_eig_vecs_sort= y_eig_vecs[:,y_sort_indices][:,:y_eig_dim].real"
     ],
     "language": "python",
     "metadata": {},
     "outputs": [],
     "prompt_number": 56
    },
    {
     "cell_type": "heading",
     "level": 3,
     "metadata": {},
     "source": [
      "\u6b63\u898f\u5316"
     ]
    },
    {
     "cell_type": "code",
     "collapsed": false,
     "input": [
      "y_var = np.dot(y_eig_vecs_sort.T, np.dot(yright, y_eig_vecs_sort))"
     ],
     "language": "python",
     "metadata": {},
     "outputs": [],
     "prompt_number": 57
    },
    {
     "cell_type": "code",
     "collapsed": false,
     "input": [
      "y_invvar = np.diag(np.reciprocal(np.sqrt(np.diag(y_var))))"
     ],
     "language": "python",
     "metadata": {},
     "outputs": [],
     "prompt_number": 58
    },
    {
     "cell_type": "code",
     "collapsed": false,
     "input": [
      "y_eig_vecs_reg = np.dot(y_eig_vecs_sort, y_invvar)"
     ],
     "language": "python",
     "metadata": {},
     "outputs": [],
     "prompt_number": 59
    },
    {
     "cell_type": "code",
     "collapsed": false,
     "input": [
      "(np.dot(y_eig_vecs_reg.T,  np.dot(yright,  y_eig_vecs_reg))).round().astype(int)"
     ],
     "language": "python",
     "metadata": {},
     "outputs": [
      {
       "metadata": {},
       "output_type": "pyout",
       "prompt_number": 60,
       "text": [
        "array([[1, 0, 0, 0, 0, 0, 0, 0, 0, 0, 0, 0, 0, 0, 0, 0, 0, 0, 0],\n",
        "       [0, 1, 0, 0, 0, 0, 0, 0, 0, 0, 0, 0, 0, 0, 0, 0, 0, 0, 0],\n",
        "       [0, 0, 1, 0, 0, 0, 0, 0, 0, 0, 0, 0, 0, 0, 0, 0, 0, 0, 0],\n",
        "       [0, 0, 0, 1, 0, 0, 0, 0, 0, 0, 0, 0, 0, 0, 0, 0, 0, 0, 0],\n",
        "       [0, 0, 0, 0, 1, 0, 0, 0, 0, 0, 0, 0, 0, 0, 0, 0, 0, 0, 0],\n",
        "       [0, 0, 0, 0, 0, 1, 0, 0, 0, 0, 0, 0, 0, 0, 0, 0, 0, 0, 0],\n",
        "       [0, 0, 0, 0, 0, 0, 1, 0, 0, 0, 0, 0, 0, 0, 0, 0, 0, 0, 0],\n",
        "       [0, 0, 0, 0, 0, 0, 0, 1, 0, 0, 0, 0, 0, 0, 0, 0, 0, 0, 0],\n",
        "       [0, 0, 0, 0, 0, 0, 0, 0, 1, 0, 0, 0, 0, 0, 0, 0, 0, 0, 0],\n",
        "       [0, 0, 0, 0, 0, 0, 0, 0, 0, 1, 0, 0, 0, 0, 0, 0, 0, 0, 0],\n",
        "       [0, 0, 0, 0, 0, 0, 0, 0, 0, 0, 1, 0, 0, 0, 0, 0, 0, 0, 0],\n",
        "       [0, 0, 0, 0, 0, 0, 0, 0, 0, 0, 0, 1, 0, 0, 0, 0, 0, 0, 0],\n",
        "       [0, 0, 0, 0, 0, 0, 0, 0, 0, 0, 0, 0, 1, 0, 0, 0, 0, 0, 0],\n",
        "       [0, 0, 0, 0, 0, 0, 0, 0, 0, 0, 0, 0, 0, 1, 0, 0, 0, 0, 0],\n",
        "       [0, 0, 0, 0, 0, 0, 0, 0, 0, 0, 0, 0, 0, 0, 1, 0, 0, 0, 0],\n",
        "       [0, 0, 0, 0, 0, 0, 0, 0, 0, 0, 0, 0, 0, 0, 0, 1, 0, 0, 0],\n",
        "       [0, 0, 0, 0, 0, 0, 0, 0, 0, 0, 0, 0, 0, 0, 0, 0, 1, 0, 0],\n",
        "       [0, 0, 0, 0, 0, 0, 0, 0, 0, 0, 0, 0, 0, 0, 0, 0, 0, 1, 0],\n",
        "       [0, 0, 0, 0, 0, 0, 0, 0, 0, 0, 0, 0, 0, 0, 0, 0, 0, 0, 1]])"
       ]
      }
     ],
     "prompt_number": 60
    },
    {
     "cell_type": "heading",
     "level": 2,
     "metadata": {},
     "source": [
      "\u4e00\u65b9\u306e\u56fa\u6709\u30d9\u30af\u30c8\u30eb\u304b\u3089\u4ed6\u65b9\u306e\u56fa\u6709\u30d9\u30af\u30c8\u30eb\u3092\u3082\u3068\u3081\u308b"
     ]
    },
    {
     "cell_type": "code",
     "collapsed": false,
     "input": [
      "\"%s x %s x %s\" % (np.linalg.inv(c_yy).shape, c_xy.T.shape, x_eig_vecs_reg.shape[0])"
     ],
     "language": "python",
     "metadata": {},
     "outputs": [
      {
       "metadata": {},
       "output_type": "pyout",
       "prompt_number": 61,
       "text": [
        "'(40, 40) x (40, 30) x 30'"
       ]
      }
     ],
     "prompt_number": 61
    },
    {
     "cell_type": "markdown",
     "metadata": {},
     "source": [
      "\u8a08\u7b97\u6642\u306e\u5404\u884c\u5217\u306e\u6b21\u5143\u6570\u304c\u6b63\u3057\u304f\u63c3\u3063\u3066\u3044\u308b\u3053\u3068\u3092\u78ba\u8a8d"
     ]
    },
    {
     "cell_type": "code",
     "collapsed": false,
     "input": [
      "y_eig_vecs_by_x = (1 / x_eig_vals_sort[0]) * np.linalg.solve(c_yy , np.dot(c_xy.T, x_eig_vecs_reg.shape[0]))"
     ],
     "language": "python",
     "metadata": {},
     "outputs": [],
     "prompt_number": 62
    },
    {
     "cell_type": "code",
     "collapsed": false,
     "input": [
      "y_eig_vecs_reg.shape"
     ],
     "language": "python",
     "metadata": {},
     "outputs": [
      {
       "metadata": {},
       "output_type": "pyout",
       "prompt_number": 63,
       "text": [
        "(40, 19)"
       ]
      }
     ],
     "prompt_number": 63
    },
    {
     "cell_type": "code",
     "collapsed": false,
     "input": [
      "y_eig_vecs_by_x.shape"
     ],
     "language": "python",
     "metadata": {},
     "outputs": [
      {
       "metadata": {},
       "output_type": "pyout",
       "prompt_number": 64,
       "text": [
        "(40, 30)"
       ]
      }
     ],
     "prompt_number": 64
    },
    {
     "cell_type": "code",
     "collapsed": false,
     "input": [
      "y_eig_vecs_reg"
     ],
     "language": "python",
     "metadata": {},
     "outputs": [
      {
       "metadata": {},
       "output_type": "pyout",
       "prompt_number": 65,
       "text": [
        "array([[  4.95724734e-01,  -2.37858736e-01,  -3.47272083e-01,\n",
        "          1.67665976e-02,   4.45856898e-01,  -2.34124383e-01,\n",
        "         -4.44970324e-01,  -1.38821230e-01,   4.17866239e-01,\n",
        "          2.20227247e-01,   3.38497019e-01,   2.73001229e-01,\n",
        "         -3.42416762e-01,   7.58683130e-02,   1.27656459e+00,\n",
        "          5.31713879e-01,  -5.48933515e-01,   8.00616594e-01,\n",
        "         -1.02684146e+00],\n",
        "       [ -2.51195132e-01,   1.41283492e-01,   7.24159501e-02,\n",
        "         -3.12470070e-01,  -5.34862666e-01,  -2.28041700e-01,\n",
        "         -1.98504377e-01,   3.97520502e-01,  -3.14058285e-01,\n",
        "          5.98108921e-01,   1.57605441e-02,  -3.64568805e-01,\n",
        "          8.36299187e-02,  -3.80081618e-02,   5.65825879e-01,\n",
        "         -1.40327268e-01,  -1.59384991e-01,   1.72154359e-01,\n",
        "         -8.82128525e-01],\n",
        "       [  2.97610488e-01,   1.37650977e-01,  -1.90072074e-01,\n",
        "         -8.07136638e-02,   4.12356573e-01,   1.12431154e-01,\n",
        "         -2.78351720e-01,   7.33557872e-01,   3.07242864e-01,\n",
        "         -7.15450392e-02,   1.74769215e-01,  -5.68141949e-01,\n",
        "          7.15996265e-01,   1.17643422e+00,  -9.58545262e-02,\n",
        "         -3.40124780e-01,  -8.85203360e-01,   8.63065391e-01,\n",
        "         -2.95833802e-01],\n",
        "       [ -2.79177148e-01,  -2.37936230e-01,  -4.86725405e-02,\n",
        "          1.01962382e-01,   6.58067785e-01,  -1.25440591e-01,\n",
        "         -9.11939225e-02,  -9.29172538e-01,   3.95379093e-02,\n",
        "         -1.55555964e-02,  -1.16827221e+00,  -1.56508533e-01,\n",
        "          5.01988547e-01,   4.52624906e-01,  -8.36145996e-01,\n",
        "         -1.31146038e-01,  -8.81457514e-01,   9.54722094e-01,\n",
        "         -4.64939189e-01],\n",
        "       [ -1.34481248e-01,  -1.97902162e-01,   7.01015927e-02,\n",
        "         -1.22234732e-01,   8.80999146e-03,   3.88729313e-01,\n",
        "         -3.14895673e-02,   2.46184543e-02,   1.85047445e-01,\n",
        "          1.12508945e-02,   4.37865999e-01,   5.19624112e-01,\n",
        "         -5.92627089e-01,  -7.34749297e-01,  -8.34332339e-01,\n",
        "          3.27434561e-01,  -3.37608815e-01,   1.22779408e-01,\n",
        "         -4.44689310e-01],\n",
        "       [ -5.25097428e-01,   1.05673612e-01,   6.36496777e-02,\n",
        "          2.65172212e-01,   1.79135382e-01,  -2.12814734e-01,\n",
        "         -3.46708033e-01,   3.72881959e-01,  -4.49446384e-01,\n",
        "         -3.72547992e-01,   1.85151867e-01,   6.12526571e-01,\n",
        "         -1.07263895e+00,   5.03662959e-01,   1.97534735e-01,\n",
        "          9.16234351e-01,  -5.30275896e-02,   9.46138749e-02,\n",
        "         -3.01418352e-01],\n",
        "       [  3.30938275e-01,  -5.36013573e-01,  -1.69103095e-02,\n",
        "         -8.21674919e-02,  -1.94503442e-01,  -2.30367715e-02,\n",
        "          3.16844313e-01,  -1.29421140e-01,   4.14181095e-01,\n",
        "          2.59663354e-01,   5.85424530e-02,  -7.55198420e-01,\n",
        "         -2.06957796e-01,   6.51296729e-01,   5.26825482e-02,\n",
        "          4.52222165e-01,  -3.78950420e-01,  -3.15479557e-02,\n",
        "          6.94576491e-01],\n",
        "       [ -1.17468555e-01,  -6.80877298e-03,   5.56033974e-01,\n",
        "         -1.22323523e-01,  -1.47424035e-01,  -1.99493985e-01,\n",
        "         -1.07855186e+00,  -2.89086730e-01,   3.45459657e-01,\n",
        "         -5.46928826e-01,  -4.36800728e-01,   1.20778598e-03,\n",
        "         -1.20190475e+00,   5.45118624e-01,   6.54780681e-01,\n",
        "         -3.32831882e-01,  -6.67255873e-01,   1.17406695e+00,\n",
        "         -3.28315665e-01],\n",
        "       [ -3.34254561e-01,  -3.94472359e-01,  -3.40670756e-01,\n",
        "         -2.66107170e-02,   4.57464354e-01,  -5.83205736e-01,\n",
        "         -3.64172736e-01,   7.00327618e-01,  -3.26199658e-01,\n",
        "         -8.46183384e-03,  -5.45520128e-02,  -6.98079981e-02,\n",
        "          8.15632090e-01,  -6.33131525e-01,   7.65881268e-01,\n",
        "         -9.77969016e-01,  -9.03647849e-01,   1.05659354e+00,\n",
        "         -7.99840537e-01],\n",
        "       [  2.34492679e-02,  -2.55224577e-01,  -3.77223033e-01,\n",
        "          3.48307441e-02,  -1.89458415e-01,  -7.02563674e-02,\n",
        "         -6.99237320e-02,   1.06486915e-01,  -1.06212758e-01,\n",
        "          8.71666896e-01,  -1.10044178e+00,   4.57514810e-01,\n",
        "          1.70010750e-01,  -7.95038528e-01,  -5.22829361e-01,\n",
        "         -3.48085132e-01,  -6.70186365e-01,  -8.11584569e-01,\n",
        "         -8.39453723e-01],\n",
        "       [  5.59101007e-01,   2.07664762e-01,  -1.18295105e-01,\n",
        "         -1.25042560e-01,   2.30174418e-01,   6.82703020e-01,\n",
        "          3.51524449e-01,  -4.16948383e-01,  -4.47578308e-01,\n",
        "         -5.41825314e-01,  -5.76984079e-01,   4.05945279e-01,\n",
        "         -1.02361132e+00,  -2.92380630e-01,   1.33146599e-01,\n",
        "         -5.15636524e-01,   4.88924359e-01,   3.81743915e-01,\n",
        "          1.08612847e-02],\n",
        "       [ -1.59546408e-01,   9.40615533e-02,  -5.73490616e-01,\n",
        "         -1.73520113e-01,  -3.39285888e-01,   4.88946775e-01,\n",
        "          1.77830823e-01,   8.82996490e-03,   4.49204928e-01,\n",
        "          5.59708644e-02,   2.85046198e-01,   7.90426845e-01,\n",
        "          3.08503274e-01,   9.64649359e-01,   6.65508147e-01,\n",
        "         -6.03738064e-01,  -1.14079333e+00,   1.68403262e+00,\n",
        "         -6.30079446e-01],\n",
        "       [  1.68914478e-01,  -1.51365670e-01,   1.97716528e-01,\n",
        "         -3.85319644e-01,  -7.34066506e-02,   5.02459028e-01,\n",
        "         -2.04799077e-05,  -7.14115443e-01,   2.14006623e-01,\n",
        "         -4.85814683e-01,  -4.44769250e-01,   1.35458712e+00,\n",
        "          4.97987414e-01,   4.68836455e-01,  -1.77460247e-01,\n",
        "          8.68694411e-01,   4.98008579e-01,  -8.38904035e-01,\n",
        "          8.05360168e-01],\n",
        "       [  5.30288795e-01,   2.49207517e-01,  -5.34771946e-01,\n",
        "         -3.23350553e-01,  -1.98722003e-01,   2.57248587e-01,\n",
        "         -4.36260813e-01,   3.63267723e-01,   1.57375450e-01,\n",
        "          8.04938317e-03,   6.99038548e-01,   7.62886218e-02,\n",
        "         -5.96720926e-01,  -7.40024903e-02,  -2.28711428e-01,\n",
        "         -7.59659358e-01,   8.77828517e-02,   1.23514310e-02,\n",
        "         -7.70862820e-01],\n",
        "       [  3.05930427e-01,   3.95389740e-01,  -6.26394123e-01,\n",
        "         -1.13579205e-01,   6.00403991e-01,  -3.85704256e-01,\n",
        "          3.17548881e-02,   4.32005364e-01,  -3.20272103e-01,\n",
        "         -4.22852833e-01,  -9.89946040e-01,   1.78009130e-01,\n",
        "         -2.22378313e-01,  -2.40261422e-01,  -5.28609592e-01,\n",
        "          7.58924906e-02,   1.11150692e+00,   3.15038791e-01,\n",
        "          5.62057440e-01],\n",
        "       [  6.44284656e-02,   3.85156532e-01,   3.82160315e-02,\n",
        "         -1.05671958e-01,  -2.27880830e-01,  -3.67359122e-01,\n",
        "          4.27352368e-01,  -3.15881412e-01,   4.22088297e-01,\n",
        "         -6.34647409e-01,  -9.95701976e-01,   2.47763403e-02,\n",
        "          9.75461977e-03,  -6.50009424e-01,   1.05538993e-01,\n",
        "         -8.77998719e-01,  -1.00950510e+00,   4.11120523e-01,\n",
        "         -1.08677810e+00],\n",
        "       [ -3.97582403e-01,   1.57489674e-02,  -6.85424982e-01,\n",
        "          3.70346490e-01,  -1.87153272e-01,   7.51432502e-01,\n",
        "          1.83667060e-01,  -3.18608256e-01,   8.48465627e-03,\n",
        "          1.58728532e-01,  -7.90444061e-01,  -1.18557004e-01,\n",
        "          8.46719508e-01,  -5.33421673e-01,  -1.08283230e-01,\n",
        "         -4.15493808e-01,   2.71599335e-01,  -4.33765952e-01,\n",
        "         -5.14977533e-01],\n",
        "       [ -2.36530042e-01,  -2.96236462e-01,  -3.22933619e-01,\n",
        "         -3.51509971e-01,   5.08963238e-01,   6.05178759e-01,\n",
        "          2.13988177e-01,   6.42664164e-01,   6.04361658e-02,\n",
        "         -1.03554762e-01,   1.74393300e-01,  -4.02738662e-01,\n",
        "         -1.05251637e-01,  -1.95264681e-01,  -9.22545790e-01,\n",
        "         -4.60781734e-01,   1.28511472e-01,   5.25419983e-01,\n",
        "         -1.24800542e+00],\n",
        "       [ -7.03770669e-02,  -3.86689113e-02,   1.73540171e-01,\n",
        "          7.78438907e-01,  -4.49884885e-01,  -2.50151321e-01,\n",
        "          2.57165609e-01,   5.13377007e-02,   6.80916148e-01,\n",
        "         -1.06932962e+00,   6.30764565e-01,   3.09076513e-01,\n",
        "         -3.91991435e-02,  -3.17341382e-01,  -6.57360904e-01,\n",
        "          5.38800404e-01,  -4.44053863e-01,   3.43546883e-01,\n",
        "         -1.63133549e-01],\n",
        "       [  2.41606645e-01,  -1.44227227e-01,   1.49262471e-01,\n",
        "          4.91749894e-01,  -8.47488347e-01,  -1.02725206e-01,\n",
        "          8.32171405e-03,   1.60130451e-01,  -2.46082826e-01,\n",
        "         -3.57823298e-01,  -7.49059216e-01,   6.71713524e-01,\n",
        "         -5.49917698e-01,   9.43042736e-01,   7.11765044e-01,\n",
        "         -5.92201274e-02,  -6.86114921e-01,   1.00700259e+00,\n",
        "          1.04042956e-01],\n",
        "       [  2.62166548e-01,  -3.71778063e-01,   5.74325741e-02,\n",
        "         -2.60733758e-01,   2.65487431e-01,  -2.58432193e-01,\n",
        "          7.53369569e-01,   3.79137892e-01,  -6.24844144e-01,\n",
        "         -1.34694747e+00,  -7.63537925e-01,   7.33241932e-02,\n",
        "          5.35894747e-01,   2.43556460e-02,   7.40026707e-01,\n",
        "          4.23946734e-01,   4.14108791e-01,  -2.82908107e-01,\n",
        "         -9.36646910e-01],\n",
        "       [  1.89439817e-01,   3.44162171e-01,   4.64605657e-01,\n",
        "          9.16902063e-02,  -4.95944962e-02,   3.78838693e-01,\n",
        "         -8.38244817e-01,   8.96565333e-01,   8.06396496e-01,\n",
        "          3.44165172e-01,  -2.70588789e-01,   2.03632124e-01,\n",
        "          8.52125177e-01,  -5.15391239e-01,  -3.73257629e-01,\n",
        "         -2.28730276e-01,  -2.71247677e-03,   5.14321736e-02,\n",
        "          2.78648847e-01],\n",
        "       [ -4.44139533e-01,   9.00871727e-02,   4.81902983e-01,\n",
        "          7.95947960e-02,   4.22640497e-01,  -1.14762010e-01,\n",
        "          1.57351739e-01,   4.69803440e-01,  -5.32305544e-01,\n",
        "          6.60281550e-01,   4.62619651e-02,   3.11634319e-01,\n",
        "          4.23151320e-01,   1.63830210e-01,  -7.80881511e-01,\n",
        "         -2.98465860e-01,  -2.13431254e-01,  -3.64920948e-01,\n",
        "         -4.61718327e-01],\n",
        "       [  1.29366493e-01,  -5.89727889e-02,   2.34715748e-01,\n",
        "         -1.37032481e-01,   2.48516318e-01,   1.11178649e-02,\n",
        "         -1.36532938e-01,   6.28842841e-01,   5.53460995e-01,\n",
        "          1.83744951e-01,   4.69745069e-01,  -5.56104442e-01,\n",
        "         -7.50900060e-01,  -8.41467452e-01,   1.46483587e+00,\n",
        "         -1.09702817e+00,   6.56554048e-01,  -1.26897614e+00,\n",
        "         -6.86522120e-01],\n",
        "       [ -1.81369511e-01,   4.84506756e-01,  -2.06910199e-01,\n",
        "         -1.01040515e-01,  -3.67880372e-02,   4.23793786e-01,\n",
        "         -4.52694077e-02,   1.92053029e-01,  -4.13006923e-01,\n",
        "         -4.91405597e-01,  -6.60247270e-01,  -1.31169152e+00,\n",
        "         -1.20262554e+00,   7.12463232e-01,   1.07789380e+00,\n",
        "          5.03178133e-01,  -4.06684246e-01,  -5.63587033e-01,\n",
        "          1.42526423e-01],\n",
        "       [ -7.70949786e-02,   2.45588782e-02,  -1.18782068e-01,\n",
        "          5.85575268e-01,   6.05815307e-02,   1.17773375e-01,\n",
        "          4.02052002e-01,   6.50658329e-01,  -6.19847532e-02,\n",
        "          2.18856073e-02,  -3.01644466e-01,   1.19192321e+00,\n",
        "         -2.90334609e-01,   2.64651250e-01,  -5.61410185e-02,\n",
        "         -4.48559824e-01,   9.18182552e-01,  -5.92009728e-01,\n",
        "          8.33064644e-01],\n",
        "       [ -4.53004109e-01,  -4.73221563e-02,  -3.24278320e-01,\n",
        "         -4.21904284e-02,  -3.77875844e-01,  -3.00894599e-01,\n",
        "         -7.15670347e-01,  -3.74455497e-01,  -4.84041035e-01,\n",
        "         -3.76039657e-01,  -3.43287587e-01,  -4.72162197e-01,\n",
        "         -5.76303423e-01,  -2.60016612e-01,   5.16559098e-02,\n",
        "         -5.09379121e-01,   4.75409802e-02,  -9.94869715e-01,\n",
        "         -1.01643789e-01],\n",
        "       [  2.76456570e-01,  -3.96974478e-01,  -8.91581475e-02,\n",
        "          6.24171215e-01,  -9.77636940e-02,   6.97406230e-01,\n",
        "          2.54479855e-01,  -1.79953255e-01,   1.65631297e-01,\n",
        "          4.09155099e-01,   1.71893638e-01,  -5.89506290e-01,\n",
        "          3.35065493e-02,  -6.37261111e-01,   2.20229859e-01,\n",
        "          7.41215360e-02,   2.85716492e-01,  -8.24709358e-01,\n",
        "         -9.91407292e-01],\n",
        "       [ -2.11343320e-01,   2.95504505e-02,   3.41412741e-01,\n",
        "         -7.70306793e-02,  -3.13421811e-01,   2.91562014e-01,\n",
        "         -6.11412070e-01,  -2.12359443e-01,   1.05781582e-01,\n",
        "         -4.28960327e-01,  -3.41226861e-01,  -4.03875652e-01,\n",
        "          1.02518646e+00,  -6.41770841e-02,  -8.79755934e-01,\n",
        "         -5.11898883e-01,  -5.13595325e-01,   1.07254648e+00,\n",
        "         -1.45174959e+00],\n",
        "       [ -2.91027435e-04,   7.15793530e-01,   2.17576773e-01,\n",
        "         -2.87201269e-02,  -2.86279813e-01,  -2.08014527e-01,\n",
        "          6.86951312e-01,   1.07888374e-01,   2.20538008e-03,\n",
        "         -1.35255364e-01,  -6.00815178e-01,  -7.41655158e-01,\n",
        "         -2.25961590e-01,   8.06575284e-02,  -7.66227200e-02,\n",
        "         -3.71670051e-01,   5.56819751e-01,  -2.84000216e-01,\n",
        "         -1.93306262e-01],\n",
        "       [ -3.63088983e-01,  -4.90362725e-01,  -2.70572631e-02,\n",
        "          1.74171323e-01,  -3.13568986e-01,  -5.95026868e-02,\n",
        "         -1.12525018e-01,   6.14197423e-01,   4.16483945e-01,\n",
        "         -6.71824108e-01,  -2.37541544e-01,  -1.17855626e+00,\n",
        "          8.32557404e-02,   2.27269479e-01,   5.34307031e-01,\n",
        "         -4.80175308e-01,   1.15582723e+00,  -6.04007242e-02,\n",
        "          1.06403717e+00],\n",
        "       [ -3.39813016e-01,   3.29197911e-01,  -1.99532037e-01,\n",
        "         -3.23016705e-01,   4.17837652e-02,  -1.04541997e-02,\n",
        "         -2.33639592e-01,  -3.28395763e-01,   3.56421776e-01,\n",
        "          1.69573261e-02,   7.25617669e-01,  -1.09164860e-01,\n",
        "          3.36639992e-01,   3.24446760e-01,  -5.89531769e-01,\n",
        "          4.73383707e-01,   8.93210418e-03,  -5.11824460e-01,\n",
        "          3.23325113e-01],\n",
        "       [  1.62780733e-01,   1.24688396e-01,  -1.88111561e-01,\n",
        "          3.67072665e-01,  -7.72909838e-03,   3.46105560e-02,\n",
        "          3.31623053e-01,  -6.25401423e-01,  -6.42713220e-02,\n",
        "          3.20872701e-01,   8.83052665e-01,  -1.98354584e-01,\n",
        "         -5.43833038e-01,   2.16420781e-01,  -8.49743226e-01,\n",
        "         -7.56170563e-01,  -6.55980864e-01,   3.84160742e-01,\n",
        "         -1.07542044e+00],\n",
        "       [ -1.36776082e-01,  -4.26775154e-01,   5.35704149e-02,\n",
        "         -2.06020740e-01,   2.54028274e-01,   1.64394546e-01,\n",
        "          2.49843256e-01,   4.74909643e-01,   2.48580374e-01,\n",
        "         -5.81187974e-01,  -1.58612293e-01,   9.39824222e-01,\n",
        "          6.74731996e-02,  -2.06207193e-01,   4.52649975e-01,\n",
        "         -2.96238556e-01,  -8.48461206e-01,   5.83910224e-01,\n",
        "          1.41467700e+00],\n",
        "       [  5.05419087e-01,   1.64095355e-01,  -3.11000034e-01,\n",
        "          1.67905729e-01,   3.24611481e-01,  -1.29135832e-01,\n",
        "         -2.91997470e-01,   4.30109333e-01,  -5.20838489e-01,\n",
        "          7.02203896e-02,  -2.56145426e-01,   5.83848356e-01,\n",
        "          1.87217154e-01,   3.29455345e-01,  -7.01337553e-01,\n",
        "         -1.16554139e+00,  -1.39091106e-01,   8.53489079e-01,\n",
        "         -2.75603516e-01],\n",
        "       [  1.56305881e-01,  -1.87566046e-01,  -4.35390875e-01,\n",
        "          4.89989166e-02,  -1.35314450e-02,   3.51011522e-01,\n",
        "         -6.06708692e-01,  -7.87100804e-02,  -8.70557600e-03,\n",
        "         -4.39840475e-01,  -2.58164248e-01,  -4.35500995e-01,\n",
        "         -2.30585475e-01,   3.81838096e-01,  -1.37685222e+00,\n",
        "          4.80915648e-01,  -8.35181481e-01,  -3.62327375e-01,\n",
        "         -5.43954297e-03],\n",
        "       [ -8.83711254e-02,  -1.20256054e-01,  -5.57840910e-01,\n",
        "          9.24618094e-02,  -1.21481244e-01,  -2.36017442e-02,\n",
        "         -6.76947849e-01,  -2.65366091e-01,   9.67867098e-01,\n",
        "          7.03232183e-01,  -5.31219591e-01,   5.10409643e-01,\n",
        "          1.26835483e-01,   3.28142740e-01,  -4.97197668e-01,\n",
        "          9.51363811e-01,  -8.41484442e-02,   3.35364221e-01,\n",
        "          1.01490558e+00],\n",
        "       [ -4.10353294e-02,  -2.72679416e-01,   2.03790780e-01,\n",
        "         -5.82889900e-01,   9.42572890e-02,  -5.15535776e-01,\n",
        "         -3.83499015e-01,   3.92920923e-02,   7.68028952e-01,\n",
        "         -2.69340866e-01,  -1.68164010e-01,   4.87613030e-01,\n",
        "         -5.32256079e-01,   5.69193705e-01,  -8.74912668e-01,\n",
        "          7.81549963e-01,   8.92999327e-01,  -5.81404634e-01,\n",
        "          1.16950784e+00],\n",
        "       [  2.96133901e-01,   2.60846206e-01,  -1.04485975e-01,\n",
        "         -1.73587536e-01,  -1.67620020e-01,  -5.76513921e-01,\n",
        "          6.10097386e-04,   2.19237854e-02,  -7.59087651e-01,\n",
        "          8.54657243e-01,   5.55150320e-01,   5.45872611e-01,\n",
        "          1.98423424e-01,  -2.07738842e-01,   6.36537257e-01,\n",
        "          4.73854668e-02,  -2.39429289e-01,   2.65814042e-01,\n",
        "          4.74295037e-01],\n",
        "       [  1.42545981e-01,  -3.45959500e-01,  -1.27637435e-01,\n",
        "         -3.14598345e-01,  -2.92354272e-01,  -5.02972415e-02,\n",
        "          4.73458294e-01,  -1.88612588e-01,  -9.11900212e-01,\n",
        "          7.22785884e-01,  -3.44874251e-02,  -1.17816114e-02,\n",
        "         -4.76902567e-01,  -6.76924951e-02,  -9.74956126e-01,\n",
        "          5.25792152e-01,  -3.06593386e-01,  -4.95847188e-01,\n",
        "         -1.04146235e+00]])"
       ]
      }
     ],
     "prompt_number": 65
    },
    {
     "cell_type": "code",
     "collapsed": false,
     "input": [
      "y_eig_vecs_by_x"
     ],
     "language": "python",
     "metadata": {},
     "outputs": [
      {
       "metadata": {},
       "output_type": "pyout",
       "prompt_number": 66,
       "text": [
        "array([[  9.36259799,   4.5833355 ,  -3.17425615, ...,  -3.90962561,\n",
        "         -1.55705495,   5.92241356],\n",
        "       [  4.14586382,  -4.14856765,   0.41434935, ...,   5.271689  ,\n",
        "         -1.77321251,   2.73554379],\n",
        "       [ 11.39492904,  -4.795174  ,   0.81524897, ...,  -0.59130982,\n",
        "         -0.87912948,   5.98441142],\n",
        "       ..., \n",
        "       [ -6.19546835,   5.2130577 ,  -3.30760962, ...,   1.55583262,\n",
        "         -3.10276104,   0.76720691],\n",
        "       [  1.94867962,  -0.97980663,   3.25382084, ...,  -2.47659788,\n",
        "         -3.55063037,   7.12821528],\n",
        "       [ -9.41690816,  -4.89720874,   3.23048911, ...,  -3.4436276 ,\n",
        "          1.64810784,   2.12861499]])"
       ]
      }
     ],
     "prompt_number": 66
    },
    {
     "cell_type": "markdown",
     "metadata": {},
     "source": [
      "y_eig_vecs_reg\u3068y_eig_vecs_by_x\u304c\u5168\u7136\u4e00\u81f4\u3057\u3066\u3044\u306a\u3044\u3051\u3069\u30fb\u30fb\u30fb\u6c57"
     ]
    },
    {
     "cell_type": "heading",
     "level": 2,
     "metadata": {},
     "source": [
      "\u5909\u63db\u3092\u884c\u3046"
     ]
    },
    {
     "cell_type": "code",
     "collapsed": false,
     "input": [
      "n_components = 2"
     ],
     "language": "python",
     "metadata": {},
     "outputs": [],
     "prompt_number": 67
    },
    {
     "cell_type": "code",
     "collapsed": false,
     "input": [
      "x_projected = np.dot(x, x_eig_vecs_reg[:,:n_components])"
     ],
     "language": "python",
     "metadata": {},
     "outputs": [],
     "prompt_number": 68
    },
    {
     "cell_type": "code",
     "collapsed": false,
     "input": [
      "y_projected = np.dot(y, y_eig_vecs_reg[:,:n_components])"
     ],
     "language": "python",
     "metadata": {},
     "outputs": [],
     "prompt_number": 69
    },
    {
     "cell_type": "code",
     "collapsed": false,
     "input": [
      "x_projected.shape"
     ],
     "language": "python",
     "metadata": {},
     "outputs": [
      {
       "metadata": {},
       "output_type": "pyout",
       "prompt_number": 70,
       "text": [
        "(20, 2)"
       ]
      }
     ],
     "prompt_number": 70
    },
    {
     "cell_type": "code",
     "collapsed": false,
     "input": [
      "y_projected.shape"
     ],
     "language": "python",
     "metadata": {},
     "outputs": [
      {
       "metadata": {},
       "output_type": "pyout",
       "prompt_number": 71,
       "text": [
        "(20, 2)"
       ]
      }
     ],
     "prompt_number": 71
    },
    {
     "cell_type": "code",
     "collapsed": false,
     "input": [
      "import matplotlib.pyplot as plt"
     ],
     "language": "python",
     "metadata": {},
     "outputs": [],
     "prompt_number": 72
    },
    {
     "cell_type": "code",
     "collapsed": false,
     "input": [
      "plt.plot(x_projected[:,0], x_projected[:,1], 'xb')"
     ],
     "language": "python",
     "metadata": {},
     "outputs": [
      {
       "metadata": {},
       "output_type": "pyout",
       "prompt_number": 73,
       "text": [
        "[<matplotlib.lines.Line2D at 0x7f28b1034a50>]"
       ]
      },
      {
       "metadata": {},
       "output_type": "display_data",
       "png": "[encoded data removed]",
       "text": [
        "<matplotlib.figure.Figure at 0x7f28b10f9c50>"
       ]
      }
     ],
     "prompt_number": 73
    },
    {
     "cell_type": "code",
     "collapsed": false,
     "input": [
      "plt.plot(y_projected[:,0], y_projected[:,1], 'ob')"
     ],
     "language": "python",
     "metadata": {},
     "outputs": [
      {
       "metadata": {},
       "output_type": "pyout",
       "prompt_number": 74,
       "text": [
        "[<matplotlib.lines.Line2D at 0x7f28b0e3f650>]"
       ]
      },
      {
       "metadata": {},
       "output_type": "display_data",
       "png": "[encoded data removed]",
       "text": [
        "<matplotlib.figure.Figure at 0x7f28b1034c90>"
       ]
      }
     ],
     "prompt_number": 74
    },
    {
     "cell_type": "markdown",
     "metadata": {},
     "source": [
      "\u306a\u3093\u304b\u3001\u3061\u3083\u3093\u3068\u4f3c\u305f\u3068\u3053\u308d\u306b\u4f3c\u305f\u70b9\u304c\u6765\u3066\u3044\u308b\u3088\u3046\u306b\u898b\u3048\u308b\u304c\u3001\u4e0a\u4e0b\u9006\u3055\u307e\uff1f180\u5ea6\u56de\u8ee2\u3057\u3066\u3044\u308b\uff1f\u5b9f\u884c\u3059\u308b\u305f\u3073\u306b\u56de\u8ee2\u306e\u65b9\u5411\u304c\u5909\u308f\u3063\u3066\u3044\u308b\u6a21\u69d8\u3002"
     ]
    },
    {
     "cell_type": "code",
     "collapsed": false,
     "input": [
      "plt.plot(x_projected[:,0], x_projected[:,1], 'xb-')"
     ],
     "language": "python",
     "metadata": {},
     "outputs": [
      {
       "metadata": {},
       "output_type": "pyout",
       "prompt_number": 75,
       "text": [
        "[<matplotlib.lines.Line2D at 0x7f28b0dfbe90>]"
       ]
      },
      {
       "metadata": {},
       "output_type": "display_data",
       "png": "[encoded data removed]",
       "text": [
        "<matplotlib.figure.Figure at 0x7f28b0e74ed0>"
       ]
      }
     ],
     "prompt_number": 75
    },
    {
     "cell_type": "code",
     "collapsed": false,
     "input": [
      "plt.plot(y_projected[:,0], y_projected[:,1], 'ob-')"
     ],
     "language": "python",
     "metadata": {},
     "outputs": [
      {
       "metadata": {},
       "output_type": "pyout",
       "prompt_number": 76,
       "text": [
        "[<matplotlib.lines.Line2D at 0x7f28b004dbd0>]"
       ]
      },
      {
       "metadata": {},
       "output_type": "display_data",
       "png": "[encoded data removed]",
       "text": [
        "<matplotlib.figure.Figure at 0x7f28b0d19b50>"
       ]
      }
     ],
     "prompt_number": 76
    },
    {
     "cell_type": "markdown",
     "metadata": {},
     "source": [
      "\u7dda\u304c\u3042\u308b\u65b9\u304c\u70b9\u306e\u5bfe\u5fdc\u95a2\u4fc2\u304c\u308f\u304b\u308a\u3084\u3059\u3044\u306e\u3067\u7dda\u3092\u5165\u308c\u3066\u307f\u305f"
     ]
    },
    {
     "cell_type": "heading",
     "level": 3,
     "metadata": {},
     "source": [
      "\u5225\u306b\u6c42\u3081\u305f\u4fc2\u6570\u3067\u8a08\u7b97\u3057\u3066\u307f\u308b"
     ]
    },
    {
     "cell_type": "code",
     "collapsed": false,
     "input": [
      "x_projected_2 = np.dot(x, x_eig_vecs_reg[:,:n_components])"
     ],
     "language": "python",
     "metadata": {},
     "outputs": [],
     "prompt_number": 77
    },
    {
     "cell_type": "code",
     "collapsed": false,
     "input": [
      "y_projected_2 = np.dot(y, y_eig_vecs_by_x[:,:n_components])"
     ],
     "language": "python",
     "metadata": {},
     "outputs": [],
     "prompt_number": 78
    },
    {
     "cell_type": "code",
     "collapsed": false,
     "input": [
      "plt.plot(x_projected_2[:,0], x_projected[:,1], 'xb')"
     ],
     "language": "python",
     "metadata": {},
     "outputs": [
      {
       "metadata": {},
       "output_type": "pyout",
       "prompt_number": 79,
       "text": [
        "[<matplotlib.lines.Line2D at 0x7f28aae77990>]"
       ]
      },
      {
       "metadata": {},
       "output_type": "display_data",
       "png": "[encoded data removed]",
       "text": [
        "<matplotlib.figure.Figure at 0x7f28aaef1e50>"
       ]
      }
     ],
     "prompt_number": 79
    },
    {
     "cell_type": "code",
     "collapsed": false,
     "input": [
      "plt.plot(y_projected_2[:,0], y_projected_2[:,1], 'ob')"
     ],
     "language": "python",
     "metadata": {},
     "outputs": [
      {
       "metadata": {},
       "output_type": "pyout",
       "prompt_number": 80,
       "text": [
        "[<matplotlib.lines.Line2D at 0x7f28aadc96d0>]"
       ]
      },
      {
       "metadata": {},
       "output_type": "display_data",
       "png": "[encoded data removed]",
       "text": [
        "<matplotlib.figure.Figure at 0x7f28aae4be10>"
       ]
      }
     ],
     "prompt_number": 80
    },
    {
     "cell_type": "code",
     "collapsed": false,
     "input": [
      "plt.plot(x_projected_2[:,0], x_projected[:,1], 'xb-')"
     ],
     "language": "python",
     "metadata": {},
     "outputs": [
      {
       "metadata": {},
       "output_type": "pyout",
       "prompt_number": 81,
       "text": [
        "[<matplotlib.lines.Line2D at 0x7f28aacfac90>]"
       ]
      },
      {
       "metadata": {},
       "output_type": "display_data",
       "png": "[encoded data removed]",
       "text": [
        "<matplotlib.figure.Figure at 0x7f28aade0f50>"
       ]
      }
     ],
     "prompt_number": 81
    },
    {
     "cell_type": "code",
     "collapsed": false,
     "input": [
      "plt.plot(y_projected_2[:,0], y_projected_2[:,1], 'ob-')"
     ],
     "language": "python",
     "metadata": {},
     "outputs": [
      {
       "metadata": {},
       "output_type": "pyout",
       "prompt_number": 82,
       "text": [
        "[<matplotlib.lines.Line2D at 0x7f28aac4a9d0>]"
       ]
      },
      {
       "metadata": {},
       "output_type": "display_data",
       "png": "[encoded data removed]",
       "text": [
        "<matplotlib.figure.Figure at 0x7f28aacd5950>"
       ]
      }
     ],
     "prompt_number": 82
    },
    {
     "cell_type": "markdown",
     "metadata": {},
     "source": [
      "\u30b9\u30b1\u30fc\u30eb\u3082\u5408\u3063\u3066\u306a\u3044\u3057\u3001\u5168\u7136\u91cd\u306a\u3063\u3066\u3044\u306a\u3044"
     ]
    },
    {
     "cell_type": "code",
     "collapsed": false,
     "input": [],
     "language": "python",
     "metadata": {},
     "outputs": [],
     "prompt_number": 82
    }
   ],
   "metadata": {}
  }
 ]
}