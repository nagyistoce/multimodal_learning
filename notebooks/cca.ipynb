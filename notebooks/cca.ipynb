{
 "metadata": {
  "name": "",
  "signature": "sha256:c6d265ed9fc352f626c863c60dbaada88aad63d9db0b36052a530208df07b507"
 },
 "nbformat": 3,
 "nbformat_minor": 0,
 "worksheets": [
  {
   "cells": [
    {
     "cell_type": "heading",
     "level": 1,
     "metadata": {},
     "source": [
      "CCA\u306e\u8a08\u7b97"
     ]
    },
    {
     "cell_type": "heading",
     "level": 2,
     "metadata": {},
     "source": [
      "\u30a4\u30f3\u30dd\u30fc\u30c8"
     ]
    },
    {
     "cell_type": "code",
     "collapsed": false,
     "input": [
      "import numpy as np"
     ],
     "language": "python",
     "metadata": {},
     "outputs": [],
     "prompt_number": 1
    },
    {
     "cell_type": "heading",
     "level": 2,
     "metadata": {},
     "source": [
      "\u30c7\u30fc\u30bf\u306e\u6b21\u5143\u6570\u306e\u5b9a\u7fa9"
     ]
    },
    {
     "cell_type": "code",
     "collapsed": false,
     "input": [
      "p = 30; q = 40; n = 20"
     ],
     "language": "python",
     "metadata": {},
     "outputs": [],
     "prompt_number": 2
    },
    {
     "cell_type": "heading",
     "level": 2,
     "metadata": {},
     "source": [
      "\u30c7\u30fc\u30bf\u306e\u6e96\u5099"
     ]
    },
    {
     "cell_type": "code",
     "collapsed": false,
     "input": [
      "def normalize(mat):\n",
      "    m = np.mean(mat, axis=0)\n",
      "    mat = mat - m\n",
      "    # for arr in mat:\n",
      "    #     m = np.mean(arr)\n",
      "    #     # s = np.std(arr)\n",
      "    #     # if s != 0.0:\n",
      "    #     arr = np.array([(arr[i] - m) for i in range(len(arr))])\n",
      "    return mat\n",
      "\n",
      "x = np.random.rand(n, p)\n",
      "x = normalize(x)\n",
      "y = np.random.rand(n, q)\n",
      "y = normalize(y)"
     ],
     "language": "python",
     "metadata": {},
     "outputs": [],
     "prompt_number": 3
    },
    {
     "cell_type": "code",
     "collapsed": false,
     "input": [],
     "language": "python",
     "metadata": {},
     "outputs": [],
     "prompt_number": 3
    },
    {
     "cell_type": "code",
     "collapsed": false,
     "input": [
      "x.shape"
     ],
     "language": "python",
     "metadata": {},
     "outputs": [
      {
       "metadata": {},
       "output_type": "pyout",
       "prompt_number": 4,
       "text": [
        "(20, 30)"
       ]
      }
     ],
     "prompt_number": 4
    },
    {
     "cell_type": "markdown",
     "metadata": {},
     "source": [
      "n x p"
     ]
    },
    {
     "cell_type": "code",
     "collapsed": false,
     "input": [
      "y.shape"
     ],
     "language": "python",
     "metadata": {},
     "outputs": [
      {
       "metadata": {},
       "output_type": "pyout",
       "prompt_number": 5,
       "text": [
        "(20, 40)"
       ]
      }
     ],
     "prompt_number": 5
    },
    {
     "cell_type": "markdown",
     "metadata": {},
     "source": [
      "n x q"
     ]
    },
    {
     "cell_type": "heading",
     "level": 2,
     "metadata": {},
     "source": [
      "\u5206\u6563\u5171\u5206\u6563\u306e\u8a08\u7b97"
     ]
    },
    {
     "cell_type": "code",
     "collapsed": false,
     "input": [
      "z = np.vstack((x.T, y.T))"
     ],
     "language": "python",
     "metadata": {},
     "outputs": [],
     "prompt_number": 6
    },
    {
     "cell_type": "markdown",
     "metadata": {},
     "source": [
      "\u30c7\u30fc\u30bf\u3092\u7e26\u306b\u4e26\u3079\u308b"
     ]
    },
    {
     "cell_type": "code",
     "collapsed": false,
     "input": [
      "z.shape"
     ],
     "language": "python",
     "metadata": {},
     "outputs": [
      {
       "metadata": {},
       "output_type": "pyout",
       "prompt_number": 7,
       "text": [
        "(70, 20)"
       ]
      }
     ],
     "prompt_number": 7
    },
    {
     "cell_type": "markdown",
     "metadata": {},
     "source": [
      "(p + q) x n"
     ]
    },
    {
     "cell_type": "code",
     "collapsed": false,
     "input": [
      "cov = np.cov(z)"
     ],
     "language": "python",
     "metadata": {},
     "outputs": [],
     "prompt_number": 8
    },
    {
     "cell_type": "code",
     "collapsed": false,
     "input": [
      "cov.shape"
     ],
     "language": "python",
     "metadata": {},
     "outputs": [
      {
       "metadata": {},
       "output_type": "pyout",
       "prompt_number": 9,
       "text": [
        "(70, 70)"
       ]
      }
     ],
     "prompt_number": 9
    },
    {
     "cell_type": "markdown",
     "metadata": {},
     "source": [
      "(p + q) x (p + q)"
     ]
    },
    {
     "cell_type": "markdown",
     "metadata": {},
     "source": [
      "70\u884c\u3059\u3079\u3066\u306e\u884c\u540c\u58eb\u306e\u5206\u6563\u5171\u5206\u6563\u884c\u5217\u3092\u8a08\u7b97\u3057\u3066\u3044\u308b\n",
      "\n",
      "http://docs.scipy.org/doc/numpy/reference/generated/numpy.cov.html"
     ]
    },
    {
     "cell_type": "code",
     "collapsed": false,
     "input": [
      "p_ = len(x.T)"
     ],
     "language": "python",
     "metadata": {},
     "outputs": [],
     "prompt_number": 10
    },
    {
     "cell_type": "code",
     "collapsed": false,
     "input": [
      "p_"
     ],
     "language": "python",
     "metadata": {},
     "outputs": [
      {
       "metadata": {},
       "output_type": "pyout",
       "prompt_number": 11,
       "text": [
        "30"
       ]
      }
     ],
     "prompt_number": 11
    },
    {
     "cell_type": "code",
     "collapsed": false,
     "input": [
      "c_xx = cov[:p, :p]"
     ],
     "language": "python",
     "metadata": {},
     "outputs": [],
     "prompt_number": 12
    },
    {
     "cell_type": "code",
     "collapsed": false,
     "input": [
      "c_yy = cov[p:, p:]"
     ],
     "language": "python",
     "metadata": {},
     "outputs": [],
     "prompt_number": 13
    },
    {
     "cell_type": "code",
     "collapsed": false,
     "input": [
      "c_xy = cov[:p, p:]"
     ],
     "language": "python",
     "metadata": {},
     "outputs": [],
     "prompt_number": 14
    },
    {
     "cell_type": "code",
     "collapsed": false,
     "input": [
      "c_xx.shape"
     ],
     "language": "python",
     "metadata": {},
     "outputs": [
      {
       "metadata": {},
       "output_type": "pyout",
       "prompt_number": 15,
       "text": [
        "(30, 30)"
       ]
      }
     ],
     "prompt_number": 15
    },
    {
     "cell_type": "markdown",
     "metadata": {},
     "source": [
      "p x p"
     ]
    },
    {
     "cell_type": "code",
     "collapsed": false,
     "input": [
      "c_yy.shape"
     ],
     "language": "python",
     "metadata": {},
     "outputs": [
      {
       "metadata": {},
       "output_type": "pyout",
       "prompt_number": 16,
       "text": [
        "(40, 40)"
       ]
      }
     ],
     "prompt_number": 16
    },
    {
     "cell_type": "markdown",
     "metadata": {},
     "source": [
      "q x q"
     ]
    },
    {
     "cell_type": "code",
     "collapsed": false,
     "input": [
      "c_xy.shape"
     ],
     "language": "python",
     "metadata": {},
     "outputs": [
      {
       "metadata": {},
       "output_type": "pyout",
       "prompt_number": 17,
       "text": [
        "(30, 40)"
       ]
      }
     ],
     "prompt_number": 17
    },
    {
     "cell_type": "markdown",
     "metadata": {},
     "source": [
      "p x q"
     ]
    },
    {
     "cell_type": "heading",
     "level": 2,
     "metadata": {},
     "source": [
      "\u6b63\u898f\u5316\u9805\u3092\u52a0\u3048\u308b"
     ]
    },
    {
     "cell_type": "code",
     "collapsed": false,
     "input": [
      "reg_param=0.1"
     ],
     "language": "python",
     "metadata": {},
     "outputs": [],
     "prompt_number": 18
    },
    {
     "cell_type": "code",
     "collapsed": false,
     "input": [
      "c_xx += reg_param * np.average(np.diag(c_xx)) * np.eye(c_xx.shape[0])"
     ],
     "language": "python",
     "metadata": {},
     "outputs": [],
     "prompt_number": 19
    },
    {
     "cell_type": "code",
     "collapsed": false,
     "input": [
      "c_yy += reg_param * np.average(np.diag(c_yy)) * np.eye(c_yy.shape[0])"
     ],
     "language": "python",
     "metadata": {},
     "outputs": [],
     "prompt_number": 20
    },
    {
     "cell_type": "heading",
     "level": 2,
     "metadata": {},
     "source": [
      "\u4e00\u822c\u5316\u56fa\u6709\u5024\u554f\u984c\u306e\u5f0f\u306e\u8a08\u7b97\uff08\u5f0f\uff11\uff09"
     ]
    },
    {
     "cell_type": "heading",
     "level": 3,
     "metadata": {},
     "source": [
      "\u5de6\u8fba xleft = A"
     ]
    },
    {
     "cell_type": "code",
     "collapsed": false,
     "input": [
      "xleft = np.dot(c_xy, np.linalg.solve(c_yy,c_xy.T))"
     ],
     "language": "python",
     "metadata": {},
     "outputs": [],
     "prompt_number": 21
    },
    {
     "cell_type": "markdown",
     "metadata": {},
     "source": [
      "S_xy x S_yy^(-1) x S_xy^T"
     ]
    },
    {
     "cell_type": "code",
     "collapsed": false,
     "input": [
      "xleft.shape"
     ],
     "language": "python",
     "metadata": {},
     "outputs": [
      {
       "metadata": {},
       "output_type": "pyout",
       "prompt_number": 22,
       "text": [
        "(30, 30)"
       ]
      }
     ],
     "prompt_number": 22
    },
    {
     "cell_type": "markdown",
     "metadata": {},
     "source": [
      "p x p\n",
      "\n",
      "\u9006\u884c\u5217\u3092\u639b\u3051\u308b\u5834\u5408\u306b\u306fslove\u3092\u4f7f\u3063\u305f\u307b\u3046\u304c\u65e9\u3044\n",
      "\n",
      "http://d.hatena.ne.jp/sleepy_yoshi/20120513/p1"
     ]
    },
    {
     "cell_type": "heading",
     "level": 3,
     "metadata": {},
     "source": [
      "\u53f3\u8fba xright = B"
     ]
    },
    {
     "cell_type": "code",
     "collapsed": false,
     "input": [
      "xright = c_xx"
     ],
     "language": "python",
     "metadata": {},
     "outputs": [],
     "prompt_number": 23
    },
    {
     "cell_type": "code",
     "collapsed": false,
     "input": [
      "xright.shape"
     ],
     "language": "python",
     "metadata": {},
     "outputs": [
      {
       "metadata": {},
       "output_type": "pyout",
       "prompt_number": 24,
       "text": [
        "(30, 30)"
       ]
      }
     ],
     "prompt_number": 24
    },
    {
     "cell_type": "heading",
     "level": 3,
     "metadata": {},
     "source": [
      "\u4e00\u822c\u5316\u56fa\u6709\u5024\u554f\u984c\u3092\u89e3\u304f"
     ]
    },
    {
     "cell_type": "code",
     "collapsed": false,
     "input": [
      "from scipy.linalg import eig"
     ],
     "language": "python",
     "metadata": {},
     "outputs": [],
     "prompt_number": 25
    },
    {
     "cell_type": "code",
     "collapsed": false,
     "input": [
      "x_eig_dim = min([np.linalg.matrix_rank(xleft), np.linalg.matrix_rank(xright)])"
     ],
     "language": "python",
     "metadata": {},
     "outputs": [],
     "prompt_number": 26
    },
    {
     "cell_type": "code",
     "collapsed": false,
     "input": [
      "x_eig_dim"
     ],
     "language": "python",
     "metadata": {},
     "outputs": [
      {
       "metadata": {},
       "output_type": "pyout",
       "prompt_number": 27,
       "text": [
        "19"
       ]
      }
     ],
     "prompt_number": 27
    },
    {
     "cell_type": "code",
     "collapsed": false,
     "input": [
      "x_eig_vals, x_eig_vecs = eig(xleft, xright)"
     ],
     "language": "python",
     "metadata": {},
     "outputs": [],
     "prompt_number": 28
    },
    {
     "cell_type": "markdown",
     "metadata": {},
     "source": [
      "\u5f15\u6570\u3092\uff12\u3064\u4e0e\u3048\u308b\u3068\u4e00\u822c\u5316\u56fa\u6709\u5024\u554f\u984c\u3092\u3082\u3068\u3081\u308b\u3053\u3068\u304c\u3067\u304d\u308b\n",
      "\n",
      "http://docs.scipy.org/doc/scipy-0.13.0/reference/generated/scipy.linalg.eig.html"
     ]
    },
    {
     "cell_type": "code",
     "collapsed": false,
     "input": [
      "x_eig_vals.shape"
     ],
     "language": "python",
     "metadata": {},
     "outputs": [
      {
       "metadata": {},
       "output_type": "pyout",
       "prompt_number": 29,
       "text": [
        "(30,)"
       ]
      }
     ],
     "prompt_number": 29
    },
    {
     "cell_type": "code",
     "collapsed": false,
     "input": [
      "x_eig_vecs.shape"
     ],
     "language": "python",
     "metadata": {},
     "outputs": [
      {
       "metadata": {},
       "output_type": "pyout",
       "prompt_number": 30,
       "text": [
        "(30, 30)"
       ]
      }
     ],
     "prompt_number": 30
    },
    {
     "cell_type": "code",
     "collapsed": false,
     "input": [
      "x_sort_indices = np.argsort(x_eig_vals)[::-1]"
     ],
     "language": "python",
     "metadata": {},
     "outputs": [],
     "prompt_number": 31
    },
    {
     "cell_type": "code",
     "collapsed": false,
     "input": [
      "x_sort_indices"
     ],
     "language": "python",
     "metadata": {},
     "outputs": [
      {
       "metadata": {},
       "output_type": "pyout",
       "prompt_number": 32,
       "text": [
        "array([ 9, 12, 13, 14, 15, 16, 17, 18, 11, 10,  8,  7,  6,  5,  4,  3,  2,\n",
        "        1,  0, 21, 20, 26, 27, 28, 25, 23, 22, 29, 24, 19])"
       ]
      }
     ],
     "prompt_number": 32
    },
    {
     "cell_type": "code",
     "collapsed": false,
     "input": [
      "[1, 2, 3, 4][::-1]"
     ],
     "language": "python",
     "metadata": {},
     "outputs": [
      {
       "metadata": {},
       "output_type": "pyout",
       "prompt_number": 33,
       "text": [
        "[4, 3, 2, 1]"
       ]
      }
     ],
     "prompt_number": 33
    },
    {
     "cell_type": "code",
     "collapsed": false,
     "input": [
      "x_eig_vals[x_sort_indices]"
     ],
     "language": "python",
     "metadata": {},
     "outputs": [
      {
       "metadata": {},
       "output_type": "pyout",
       "prompt_number": 34,
       "text": [
        "array([  9.38902867e-01+0.j,   9.27605928e-01+0.j,   9.22141990e-01+0.j,\n",
        "         9.19164817e-01+0.j,   9.07688608e-01+0.j,   8.98312495e-01+0.j,\n",
        "         8.95895414e-01+0.j,   8.85926927e-01+0.j,   8.63450286e-01+0.j,\n",
        "         8.56921033e-01+0.j,   8.40007189e-01+0.j,   8.29789271e-01+0.j,\n",
        "         8.11476827e-01+0.j,   7.66704293e-01+0.j,   7.44116830e-01+0.j,\n",
        "         7.10298862e-01+0.j,   5.97156378e-01+0.j,   5.27308585e-01+0.j,\n",
        "         4.75575735e-01+0.j,   1.16756767e-15+0.j,   9.25156751e-16+0.j,\n",
        "         3.23393247e-16+0.j,   2.45005891e-16+0.j,   2.24252427e-16+0.j,\n",
        "        -2.14428206e-17+0.j,  -7.81335901e-17+0.j,  -8.59601586e-17+0.j,\n",
        "        -2.35272966e-16+0.j,  -4.76619286e-16+0.j,  -1.76360202e-15+0.j])"
       ]
      }
     ],
     "prompt_number": 34
    },
    {
     "cell_type": "code",
     "collapsed": false,
     "input": [
      "x_eig_vals[x_sort_indices][:x_eig_dim]"
     ],
     "language": "python",
     "metadata": {},
     "outputs": [
      {
       "metadata": {},
       "output_type": "pyout",
       "prompt_number": 35,
       "text": [
        "array([ 0.93890287+0.j,  0.92760593+0.j,  0.92214199+0.j,  0.91916482+0.j,\n",
        "        0.90768861+0.j,  0.89831250+0.j,  0.89589541+0.j,  0.88592693+0.j,\n",
        "        0.86345029+0.j,  0.85692103+0.j,  0.84000719+0.j,  0.82978927+0.j,\n",
        "        0.81147683+0.j,  0.76670429+0.j,  0.74411683+0.j,  0.71029886+0.j,\n",
        "        0.59715638+0.j,  0.52730858+0.j,  0.47557574+0.j])"
       ]
      }
     ],
     "prompt_number": 35
    },
    {
     "cell_type": "code",
     "collapsed": false,
     "input": [
      "x_eig_vals_sort = x_eig_vals[x_sort_indices][:x_eig_dim].real"
     ],
     "language": "python",
     "metadata": {},
     "outputs": [],
     "prompt_number": 36
    },
    {
     "cell_type": "code",
     "collapsed": false,
     "input": [
      "x_eig_vals_sort"
     ],
     "language": "python",
     "metadata": {},
     "outputs": [
      {
       "metadata": {},
       "output_type": "pyout",
       "prompt_number": 37,
       "text": [
        "array([ 0.93890287,  0.92760593,  0.92214199,  0.91916482,  0.90768861,\n",
        "        0.8983125 ,  0.89589541,  0.88592693,  0.86345029,  0.85692103,\n",
        "        0.84000719,  0.82978927,  0.81147683,  0.76670429,  0.74411683,\n",
        "        0.71029886,  0.59715638,  0.52730858,  0.47557574])"
       ]
      }
     ],
     "prompt_number": 37
    },
    {
     "cell_type": "code",
     "collapsed": false,
     "input": [
      "x_eig_vals_sort.shape"
     ],
     "language": "python",
     "metadata": {},
     "outputs": [
      {
       "metadata": {},
       "output_type": "pyout",
       "prompt_number": 38,
       "text": [
        "(19,)"
       ]
      }
     ],
     "prompt_number": 38
    },
    {
     "cell_type": "markdown",
     "metadata": {},
     "source": [
      "\u56fa\u6709\u5024\u3092\u964d\u9806\uff08\u5927\u304d\u3044\u9806\uff09\u306b\u4e26\u3073\u66ff\u3048\u3066\u3044\u308b"
     ]
    },
    {
     "cell_type": "code",
     "collapsed": false,
     "input": [
      "x_eig_vecs_sort= x_eig_vecs[:,x_sort_indices][:,:x_eig_dim].real"
     ],
     "language": "python",
     "metadata": {},
     "outputs": [],
     "prompt_number": 39
    },
    {
     "cell_type": "code",
     "collapsed": false,
     "input": [
      "x_eig_vecs_sort.shape"
     ],
     "language": "python",
     "metadata": {},
     "outputs": [
      {
       "metadata": {},
       "output_type": "pyout",
       "prompt_number": 40,
       "text": [
        "(30, 19)"
       ]
      }
     ],
     "prompt_number": 40
    },
    {
     "cell_type": "heading",
     "level": 3,
     "metadata": {},
     "source": [
      "\u56fa\u6709\u30d9\u30af\u30c8\u30eb\u306e\u6b63\u898f\u5316"
     ]
    },
    {
     "cell_type": "markdown",
     "metadata": {},
     "source": [
      "\u5206\u6563 = 1\u306e\u5236\u7d04\u304c\u3042\u308b\u306e\u3067\u3001\u307e\u305a\u5206\u6563\u3092\u3082\u3068\u3081\u308b"
     ]
    },
    {
     "cell_type": "code",
     "collapsed": false,
     "input": [
      "x_var = np.dot(x_eig_vecs_sort.T, np.dot(xright, x_eig_vecs_sort))"
     ],
     "language": "python",
     "metadata": {},
     "outputs": [],
     "prompt_number": 41
    },
    {
     "cell_type": "markdown",
     "metadata": {},
     "source": [
      "a^T x S_xx x  a"
     ]
    },
    {
     "cell_type": "code",
     "collapsed": false,
     "input": [
      "x_var.shape"
     ],
     "language": "python",
     "metadata": {},
     "outputs": [
      {
       "metadata": {},
       "output_type": "pyout",
       "prompt_number": 42,
       "text": [
        "(19, 19)"
       ]
      }
     ],
     "prompt_number": 42
    },
    {
     "cell_type": "markdown",
     "metadata": {},
     "source": [
      "\u5206\u6563\u30921\u306b\u3059\u308b\u306b\u306f\u56fa\u6709\u30d9\u30af\u30c8\u30eb\u3092\u6b63\u898f\u5316\u3059\u308b\u5fc5\u8981\u304c\u3042\u308b\u3002\n",
      "\n",
      "\u56fa\u6709\u30d9\u30af\u30c8\u30eb\u3092\u5b9a\u6570\u500d\u3059\u308b\u3053\u3068\u3067\u5206\u6563\u30921\u306b\u3059\u308b\u3053\u3068\u304c\u3067\u304d\u308b\u304c\u3001\u56fa\u6709\u30d9\u30af\u30c8\u30eb\u306fa^T \u00d7 S_xx \u00d7 a\u3068\uff12\u56de\u304b\u3051\u3089\u308c\u3066\u3044\u308b\u306e\u3067\u30eb\u30fc\u30c8\u3092\u53d6\u308b\u5fc5\u8981\u304c\u3042\u308b\u3002\n",
      "\n",
      "\u203bdiag\u306f\u4f55\u3067\u53d6\u3063\u3066\u308b\u3093\u3060\u3063\u3051\uff1f"
     ]
    },
    {
     "cell_type": "code",
     "collapsed": false,
     "input": [
      "np.diag(x_var)"
     ],
     "language": "python",
     "metadata": {},
     "outputs": [
      {
       "metadata": {},
       "output_type": "pyout",
       "prompt_number": 43,
       "text": [
        "array([ 0.24528203,  0.22021991,  0.199008  ,  0.21647179,  0.1972028 ,\n",
        "        0.14208254,  0.14617257,  0.16383546,  0.10156289,  0.11637785,\n",
        "        0.07297532,  0.10981815,  0.07536175,  0.05118012,  0.05405121,\n",
        "        0.0660919 ,  0.03660599,  0.0213704 ,  0.01881199])"
       ]
      }
     ],
     "prompt_number": 43
    },
    {
     "cell_type": "markdown",
     "metadata": {},
     "source": [
      "\u5bfe\u89d2\u6210\u5206\u3092\u53d6\u3063\u3066\u304f\u308b"
     ]
    },
    {
     "cell_type": "code",
     "collapsed": false,
     "input": [
      "np.sqrt(np.diag(x_var))"
     ],
     "language": "python",
     "metadata": {},
     "outputs": [
      {
       "metadata": {},
       "output_type": "pyout",
       "prompt_number": 44,
       "text": [
        "array([ 0.49525956,  0.46927594,  0.44610313,  0.46526529,  0.44407522,\n",
        "        0.37693837,  0.38232522,  0.40476593,  0.31868933,  0.34114197,\n",
        "        0.27013944,  0.33138821,  0.27452095,  0.22623025,  0.23248915,\n",
        "        0.25708344,  0.19132692,  0.1461862 ,  0.13715681])"
       ]
      }
     ],
     "prompt_number": 44
    },
    {
     "cell_type": "markdown",
     "metadata": {},
     "source": [
      "\u8981\u7d20\u306e\u30eb\u30fc\u30c8\u3092\u3068\u308b\uff08\u4e21\u5074\u306b\u304b\u304b\u308b\u304b\u3089\uff09"
     ]
    },
    {
     "cell_type": "code",
     "collapsed": false,
     "input": [
      "np.reciprocal(np.sqrt(np.diag(x_var)))"
     ],
     "language": "python",
     "metadata": {},
     "outputs": [
      {
       "metadata": {},
       "output_type": "pyout",
       "prompt_number": 45,
       "text": [
        "array([ 2.01914327,  2.13094239,  2.24163414,  2.14931143,  2.25187078,\n",
        "        2.65295357,  2.61557424,  2.47056366,  3.13785217,  2.93133088,\n",
        "        3.70179198,  3.01760883,  3.6427093 ,  4.42027544,  4.30127592,\n",
        "        3.88978765,  5.22665595,  6.84059114,  7.2909247 ])"
       ]
      }
     ],
     "prompt_number": 45
    },
    {
     "cell_type": "markdown",
     "metadata": {},
     "source": [
      "\u8981\u7d20\u306e\u9006\u6570\u3092\u3068\u308b"
     ]
    },
    {
     "cell_type": "code",
     "collapsed": false,
     "input": [
      "x_invvar = np.diag(np.reciprocal(np.sqrt(np.diag(x_var))))"
     ],
     "language": "python",
     "metadata": {},
     "outputs": [],
     "prompt_number": 46
    },
    {
     "cell_type": "markdown",
     "metadata": {},
     "source": [
      "\u5bfe\u89d2\u5316"
     ]
    },
    {
     "cell_type": "code",
     "collapsed": false,
     "input": [
      "x_eig_vecs_reg = np.dot(x_eig_vecs_sort, x_invvar)"
     ],
     "language": "python",
     "metadata": {},
     "outputs": [],
     "prompt_number": 47
    },
    {
     "cell_type": "heading",
     "level": 3,
     "metadata": {},
     "source": [
      "\u6b63\u898f\u5316\u3055\u308c\u3066\u3044\u308b\u304b\u306e\u78ba\u8a8d"
     ]
    },
    {
     "cell_type": "code",
     "collapsed": false,
     "input": [
      "(np.dot(x_eig_vecs_reg.T,  np.dot(xright,  x_eig_vecs_reg))).round().astype(int)"
     ],
     "language": "python",
     "metadata": {},
     "outputs": [
      {
       "metadata": {},
       "output_type": "pyout",
       "prompt_number": 48,
       "text": [
        "array([[1, 0, 0, 0, 0, 0, 0, 0, 0, 0, 0, 0, 0, 0, 0, 0, 0, 0, 0],\n",
        "       [0, 1, 0, 0, 0, 0, 0, 0, 0, 0, 0, 0, 0, 0, 0, 0, 0, 0, 0],\n",
        "       [0, 0, 1, 0, 0, 0, 0, 0, 0, 0, 0, 0, 0, 0, 0, 0, 0, 0, 0],\n",
        "       [0, 0, 0, 1, 0, 0, 0, 0, 0, 0, 0, 0, 0, 0, 0, 0, 0, 0, 0],\n",
        "       [0, 0, 0, 0, 1, 0, 0, 0, 0, 0, 0, 0, 0, 0, 0, 0, 0, 0, 0],\n",
        "       [0, 0, 0, 0, 0, 1, 0, 0, 0, 0, 0, 0, 0, 0, 0, 0, 0, 0, 0],\n",
        "       [0, 0, 0, 0, 0, 0, 1, 0, 0, 0, 0, 0, 0, 0, 0, 0, 0, 0, 0],\n",
        "       [0, 0, 0, 0, 0, 0, 0, 1, 0, 0, 0, 0, 0, 0, 0, 0, 0, 0, 0],\n",
        "       [0, 0, 0, 0, 0, 0, 0, 0, 1, 0, 0, 0, 0, 0, 0, 0, 0, 0, 0],\n",
        "       [0, 0, 0, 0, 0, 0, 0, 0, 0, 1, 0, 0, 0, 0, 0, 0, 0, 0, 0],\n",
        "       [0, 0, 0, 0, 0, 0, 0, 0, 0, 0, 1, 0, 0, 0, 0, 0, 0, 0, 0],\n",
        "       [0, 0, 0, 0, 0, 0, 0, 0, 0, 0, 0, 1, 0, 0, 0, 0, 0, 0, 0],\n",
        "       [0, 0, 0, 0, 0, 0, 0, 0, 0, 0, 0, 0, 1, 0, 0, 0, 0, 0, 0],\n",
        "       [0, 0, 0, 0, 0, 0, 0, 0, 0, 0, 0, 0, 0, 1, 0, 0, 0, 0, 0],\n",
        "       [0, 0, 0, 0, 0, 0, 0, 0, 0, 0, 0, 0, 0, 0, 1, 0, 0, 0, 0],\n",
        "       [0, 0, 0, 0, 0, 0, 0, 0, 0, 0, 0, 0, 0, 0, 0, 1, 0, 0, 0],\n",
        "       [0, 0, 0, 0, 0, 0, 0, 0, 0, 0, 0, 0, 0, 0, 0, 0, 1, 0, 0],\n",
        "       [0, 0, 0, 0, 0, 0, 0, 0, 0, 0, 0, 0, 0, 0, 0, 0, 0, 1, 0],\n",
        "       [0, 0, 0, 0, 0, 0, 0, 0, 0, 0, 0, 0, 0, 0, 0, 0, 0, 0, 1]])"
       ]
      }
     ],
     "prompt_number": 48
    },
    {
     "cell_type": "markdown",
     "metadata": {},
     "source": [
      "\u5358\u4f4d\u884c\u5217\u306b\u306a\u3063\u3066\u3044\u308b\u306e\u3067OK"
     ]
    },
    {
     "cell_type": "heading",
     "level": 2,
     "metadata": {},
     "source": [
      "\u4e00\u822c\u5316\u56fa\u6709\u5024\u554f\u984c\u306e\u5f0f\u306e\u8a08\u7b97\uff08\u5f0f\uff12\uff09"
     ]
    },
    {
     "cell_type": "heading",
     "level": 3,
     "metadata": {},
     "source": [
      "\u5de6\u8fba yleft = A"
     ]
    },
    {
     "cell_type": "code",
     "collapsed": false,
     "input": [
      "yleft = np.dot(c_xy.T, np.linalg.solve(c_xx,c_xy))"
     ],
     "language": "python",
     "metadata": {},
     "outputs": [],
     "prompt_number": 49
    },
    {
     "cell_type": "heading",
     "level": 3,
     "metadata": {},
     "source": [
      "\u53f3\u8fba yright = B"
     ]
    },
    {
     "cell_type": "code",
     "collapsed": false,
     "input": [
      "yright = c_yy"
     ],
     "language": "python",
     "metadata": {},
     "outputs": [],
     "prompt_number": 50
    },
    {
     "cell_type": "heading",
     "level": 3,
     "metadata": {},
     "source": [
      "\u4e00\u822c\u5316\u56fa\u6709\u5024\u554f\u984c\u3092\u89e3\u304f"
     ]
    },
    {
     "cell_type": "code",
     "collapsed": false,
     "input": [
      "y_eig_dim = min([np.linalg.matrix_rank(yleft), np.linalg.matrix_rank(yright)])"
     ],
     "language": "python",
     "metadata": {},
     "outputs": [],
     "prompt_number": 51
    },
    {
     "cell_type": "code",
     "collapsed": false,
     "input": [
      "y_eig_vals, y_eig_vecs = eig(yleft, yright)"
     ],
     "language": "python",
     "metadata": {},
     "outputs": [],
     "prompt_number": 52
    },
    {
     "cell_type": "code",
     "collapsed": false,
     "input": [
      "y_sort_indices = np.argsort(y_eig_vals)[::-1]"
     ],
     "language": "python",
     "metadata": {},
     "outputs": [],
     "prompt_number": 53
    },
    {
     "cell_type": "code",
     "collapsed": false,
     "input": [
      "y_eig_vals_sort = y_eig_vals[y_sort_indices][:y_eig_dim].real"
     ],
     "language": "python",
     "metadata": {},
     "outputs": [],
     "prompt_number": 54
    },
    {
     "cell_type": "code",
     "collapsed": false,
     "input": [
      "y_eig_vecs_sort= y_eig_vecs[:,y_sort_indices][:,:y_eig_dim].real"
     ],
     "language": "python",
     "metadata": {},
     "outputs": [],
     "prompt_number": 55
    },
    {
     "cell_type": "heading",
     "level": 3,
     "metadata": {},
     "source": [
      "\u56fa\u6709\u30d9\u30af\u30c8\u30eb\u306e\u6b63\u898f\u5316"
     ]
    },
    {
     "cell_type": "code",
     "collapsed": false,
     "input": [
      "y_var = np.dot(y_eig_vecs_sort.T, np.dot(yright, y_eig_vecs_sort))"
     ],
     "language": "python",
     "metadata": {},
     "outputs": [],
     "prompt_number": 56
    },
    {
     "cell_type": "code",
     "collapsed": false,
     "input": [
      "y_invvar = np.diag(np.reciprocal(np.sqrt(np.diag(y_var))))"
     ],
     "language": "python",
     "metadata": {},
     "outputs": [],
     "prompt_number": 57
    },
    {
     "cell_type": "code",
     "collapsed": false,
     "input": [
      "y_eig_vecs_reg = np.dot(y_eig_vecs_sort, y_invvar)"
     ],
     "language": "python",
     "metadata": {},
     "outputs": [],
     "prompt_number": 58
    },
    {
     "cell_type": "code",
     "collapsed": false,
     "input": [
      "(np.dot(y_eig_vecs_reg.T,  np.dot(yright,  y_eig_vecs_reg))).round().astype(int)"
     ],
     "language": "python",
     "metadata": {},
     "outputs": [
      {
       "metadata": {},
       "output_type": "pyout",
       "prompt_number": 59,
       "text": [
        "array([[1, 0, 0, 0, 0, 0, 0, 0, 0, 0, 0, 0, 0, 0, 0, 0, 0, 0, 0],\n",
        "       [0, 1, 0, 0, 0, 0, 0, 0, 0, 0, 0, 0, 0, 0, 0, 0, 0, 0, 0],\n",
        "       [0, 0, 1, 0, 0, 0, 0, 0, 0, 0, 0, 0, 0, 0, 0, 0, 0, 0, 0],\n",
        "       [0, 0, 0, 1, 0, 0, 0, 0, 0, 0, 0, 0, 0, 0, 0, 0, 0, 0, 0],\n",
        "       [0, 0, 0, 0, 1, 0, 0, 0, 0, 0, 0, 0, 0, 0, 0, 0, 0, 0, 0],\n",
        "       [0, 0, 0, 0, 0, 1, 0, 0, 0, 0, 0, 0, 0, 0, 0, 0, 0, 0, 0],\n",
        "       [0, 0, 0, 0, 0, 0, 1, 0, 0, 0, 0, 0, 0, 0, 0, 0, 0, 0, 0],\n",
        "       [0, 0, 0, 0, 0, 0, 0, 1, 0, 0, 0, 0, 0, 0, 0, 0, 0, 0, 0],\n",
        "       [0, 0, 0, 0, 0, 0, 0, 0, 1, 0, 0, 0, 0, 0, 0, 0, 0, 0, 0],\n",
        "       [0, 0, 0, 0, 0, 0, 0, 0, 0, 1, 0, 0, 0, 0, 0, 0, 0, 0, 0],\n",
        "       [0, 0, 0, 0, 0, 0, 0, 0, 0, 0, 1, 0, 0, 0, 0, 0, 0, 0, 0],\n",
        "       [0, 0, 0, 0, 0, 0, 0, 0, 0, 0, 0, 1, 0, 0, 0, 0, 0, 0, 0],\n",
        "       [0, 0, 0, 0, 0, 0, 0, 0, 0, 0, 0, 0, 1, 0, 0, 0, 0, 0, 0],\n",
        "       [0, 0, 0, 0, 0, 0, 0, 0, 0, 0, 0, 0, 0, 1, 0, 0, 0, 0, 0],\n",
        "       [0, 0, 0, 0, 0, 0, 0, 0, 0, 0, 0, 0, 0, 0, 1, 0, 0, 0, 0],\n",
        "       [0, 0, 0, 0, 0, 0, 0, 0, 0, 0, 0, 0, 0, 0, 0, 1, 0, 0, 0],\n",
        "       [0, 0, 0, 0, 0, 0, 0, 0, 0, 0, 0, 0, 0, 0, 0, 0, 1, 0, 0],\n",
        "       [0, 0, 0, 0, 0, 0, 0, 0, 0, 0, 0, 0, 0, 0, 0, 0, 0, 1, 0],\n",
        "       [0, 0, 0, 0, 0, 0, 0, 0, 0, 0, 0, 0, 0, 0, 0, 0, 0, 0, 1]])"
       ]
      }
     ],
     "prompt_number": 59
    },
    {
     "cell_type": "heading",
     "level": 2,
     "metadata": {},
     "source": [
      "\u4e00\u65b9\u306e\u56fa\u6709\u30d9\u30af\u30c8\u30eb\u304b\u3089\u4ed6\u65b9\u306e\u56fa\u6709\u30d9\u30af\u30c8\u30eb\u3092\u3082\u3068\u3081\u308b"
     ]
    },
    {
     "cell_type": "code",
     "collapsed": false,
     "input": [
      "\"%s x %s x %s\" % (np.linalg.inv(c_yy).shape, c_xy.T.shape, x_eig_vecs_reg.shape[0])"
     ],
     "language": "python",
     "metadata": {},
     "outputs": [
      {
       "metadata": {},
       "output_type": "pyout",
       "prompt_number": 60,
       "text": [
        "'(40, 40) x (40, 30) x 30'"
       ]
      }
     ],
     "prompt_number": 60
    },
    {
     "cell_type": "markdown",
     "metadata": {},
     "source": [
      "\u8a08\u7b97\u6642\u306e\u5404\u884c\u5217\u306e\u6b21\u5143\u6570\u304c\u6b63\u3057\u304f\u63c3\u3063\u3066\u3044\u308b\u3053\u3068\u3092\u78ba\u8a8d"
     ]
    },
    {
     "cell_type": "code",
     "collapsed": false,
     "input": [
      "y_eig_vecs_by_x = (1 / x_eig_vals_sort[0]) * np.linalg.solve(c_yy , np.dot(c_xy.T, x_eig_vecs_reg.shape[0]))"
     ],
     "language": "python",
     "metadata": {},
     "outputs": [],
     "prompt_number": 61
    },
    {
     "cell_type": "code",
     "collapsed": false,
     "input": [
      "y_eig_vecs_reg"
     ],
     "language": "python",
     "metadata": {},
     "outputs": [
      {
       "metadata": {},
       "output_type": "pyout",
       "prompt_number": 62,
       "text": [
        "array([[ -2.14365530e-01,  -2.33286012e-01,   1.48616437e-01,\n",
        "          1.31046324e-02,   5.21716251e-01,   2.97749274e-02,\n",
        "         -7.80509294e-02,   5.39148513e-01,  -2.87640085e-01,\n",
        "          3.96330068e-01,   4.47800197e-01,  -8.66079088e-02,\n",
        "         -6.64207746e-01,   1.43010083e-01,   5.42652607e-01,\n",
        "          4.26252521e-01,   1.53309609e-01,   2.53484191e-01,\n",
        "         -1.17072396e-01],\n",
        "       [ -3.17610745e-01,  -1.89360813e-01,  -3.05954867e-01,\n",
        "         -1.03921873e-01,   1.62907581e-01,   4.13450865e-02,\n",
        "          3.83026380e-01,  -6.48276085e-01,  -3.38627889e-01,\n",
        "          5.24472961e-01,  -9.20805977e-01,  -2.72524855e-01,\n",
        "         -1.92015545e-01,   3.60191039e-01,  -3.27776030e-01,\n",
        "         -2.85487892e-01,  -1.35949024e-01,   1.18592113e-01,\n",
        "         -1.34894821e-01],\n",
        "       [  5.48690168e-01,  -6.07049458e-01,  -1.01458821e-01,\n",
        "          2.23487679e-01,   7.89798280e-01,  -3.10543791e-02,\n",
        "          3.24917646e-01,  -2.60532761e-01,  -3.90850540e-01,\n",
        "          1.16170879e-01,  -2.44963276e-01,   3.49657951e-01,\n",
        "         -3.48449997e-01,  -9.85204388e-02,  -4.49633820e-01,\n",
        "         -5.42384501e-01,  -1.25035648e+00,  -1.79785727e-01,\n",
        "         -1.11073758e+00],\n",
        "       [ -4.02786781e-01,   2.70352840e-01,   3.34058252e-01,\n",
        "         -2.58157275e-01,   5.10771300e-02,   2.18838895e-01,\n",
        "         -2.37080370e-01,   2.41003463e-01,   2.86921604e-01,\n",
        "          7.73570229e-01,  -1.05075908e+00,  -5.99029497e-01,\n",
        "         -7.76670856e-01,   4.57563236e-01,   4.02868354e-02,\n",
        "         -1.30339565e-01,   5.95975403e-01,   1.51645912e-01,\n",
        "          7.72670548e-01],\n",
        "       [ -4.06947503e-01,   1.96755957e-02,   5.73375517e-01,\n",
        "         -2.60642233e-01,  -5.21259799e-02,   3.15716212e-01,\n",
        "         -1.00093067e+00,   2.36987999e-01,   3.40821245e-01,\n",
        "          4.39500792e-02,   5.28992431e-01,   4.38715504e-01,\n",
        "         -2.89880455e-02,   1.13588252e-01,  -9.94975137e-01,\n",
        "         -1.27013371e-01,  -8.60513461e-02,  -6.70457115e-01,\n",
        "         -1.94204051e-01],\n",
        "       [ -1.21451812e-01,  -2.12134590e-01,   2.71406928e-01,\n",
        "         -5.67862209e-01,  -2.67820911e-01,   1.72600078e-01,\n",
        "         -1.56019257e-01,   2.36107300e-01,   4.27565841e-01,\n",
        "          1.71916425e-01,   2.09137914e-01,   2.63150957e-01,\n",
        "          5.39764189e-01,   4.38908340e-02,   5.81839186e-01,\n",
        "         -2.16968593e-01,  -3.77589333e-01,   5.67917353e-01,\n",
        "          4.43127393e-01],\n",
        "       [  4.77756555e-01,   2.58685300e-01,   1.35764153e-01,\n",
        "          9.47545625e-02,  -3.72151497e-01,  -6.55054061e-01,\n",
        "         -4.63960504e-01,   4.38361865e-01,   2.21955228e-01,\n",
        "          3.66666283e-02,  -3.78257244e-01,   2.82192639e-01,\n",
        "         -2.99898761e-01,   2.90476341e-01,  -5.41865919e-02,\n",
        "         -1.44670593e+00,   1.09452403e+00,   8.69414304e-02,\n",
        "          3.04037329e-01],\n",
        "       [ -8.54765918e-02,   2.90052711e-01,   2.08723576e-01,\n",
        "          2.20474020e-01,   5.05230350e-01,  -4.79908452e-01,\n",
        "         -6.23232260e-01,   1.42790428e-01,  -8.05410620e-01,\n",
        "          6.23666705e-01,   3.23807156e-01,  -7.52098376e-01,\n",
        "          3.10799666e-01,   1.31343408e-01,   9.83345710e-01,\n",
        "         -3.16019874e-01,   7.88513233e-01,  -5.22837092e-01,\n",
        "         -5.47160361e-01],\n",
        "       [ -1.77215585e-01,   4.43928633e-01,  -7.83477414e-02,\n",
        "         -6.55109556e-01,  -2.70406974e-01,  -2.12968274e-01,\n",
        "          5.45292720e-01,  -5.11455710e-02,   4.08087204e-01,\n",
        "         -1.71088625e-01,   4.53216844e-01,   3.54832510e-01,\n",
        "          5.54084526e-01,  -1.63599803e-01,   3.72258533e-02,\n",
        "         -1.51931732e-01,   7.86556369e-01,   8.25673864e-01,\n",
        "         -6.97417183e-01],\n",
        "       [ -4.87357892e-01,  -7.94085316e-02,  -3.02963877e-01,\n",
        "          2.32434477e-01,  -1.23467222e-01,  -4.98341677e-01,\n",
        "          3.97623583e-01,  -5.15027737e-02,   1.22466324e-01,\n",
        "          3.73712404e-01,   3.20769006e-01,  -4.11424499e-01,\n",
        "         -7.14588337e-01,   3.32584935e-02,  -8.97785454e-01,\n",
        "         -4.10553251e-02,   2.81625402e-01,   6.95311720e-02,\n",
        "         -4.61279578e-02],\n",
        "       [ -2.10135662e-01,  -3.46381857e-01,  -3.71976382e-01,\n",
        "         -2.72529060e-01,   3.22725580e-01,   1.04993580e-01,\n",
        "          9.48922308e-02,  -2.31861869e-01,   1.05434991e-01,\n",
        "         -8.14851724e-01,   1.14800285e-01,   1.73186727e-01,\n",
        "          1.19451856e-01,   2.87481320e-01,   5.90332625e-01,\n",
        "         -1.78226800e-01,   4.89003839e-01,  -3.51841377e-01,\n",
        "         -2.38492507e-01],\n",
        "       [ -2.77813143e-01,   2.53178922e-01,   3.50607307e-01,\n",
        "          3.81447632e-01,   9.16145358e-02,  -9.28366584e-02,\n",
        "          1.06168728e-01,   5.27560310e-01,  -1.11324525e-01,\n",
        "          1.23983522e-01,  -6.93364472e-01,   3.45089977e-01,\n",
        "         -1.12236361e-01,   8.19505327e-02,  -8.28682001e-01,\n",
        "         -5.81316077e-01,  -4.17737714e-01,  -2.26523164e-01,\n",
        "         -7.52562589e-01],\n",
        "       [  1.43533697e-01,  -3.81001836e-01,   3.78568856e-01,\n",
        "         -1.88636533e-01,  -2.59308762e-01,   1.60657167e-01,\n",
        "         -4.11880136e-02,  -2.17238811e-01,  -2.62164741e-01,\n",
        "          4.67340849e-01,   3.09220330e-01,  -2.84846728e-01,\n",
        "         -5.46857814e-01,  -2.45082677e-01,  -4.51886786e-01,\n",
        "          6.19168549e-03,   2.15508290e-01,   2.44800291e-01,\n",
        "          6.58905590e-01],\n",
        "       [ -8.64952593e-02,   3.86714583e-01,  -8.12776424e-04,\n",
        "          6.28830365e-01,  -2.38628928e-01,   1.62897885e-02,\n",
        "         -3.05548217e-01,  -3.20171894e-01,   1.00910408e-01,\n",
        "          5.95145119e-01,   3.99575389e-01,  -5.63018195e-01,\n",
        "         -6.57702063e-01,  -1.45624670e-01,   9.79455957e-01,\n",
        "          1.23414175e-01,  -1.21234191e+00,   8.54126815e-02,\n",
        "          1.03188423e+00],\n",
        "       [ -3.94496232e-01,   3.07376099e-01,  -7.36082746e-01,\n",
        "          1.81146073e-02,  -1.43550436e-01,   4.25311950e-01,\n",
        "         -2.16171245e-01,   1.31277871e-01,   6.02267442e-01,\n",
        "          9.63714180e-01,  -3.71619853e-01,   3.52162697e-01,\n",
        "          3.89338356e-02,  -8.54870350e-01,   5.87903565e-01,\n",
        "         -1.47146679e+00,  -3.62031201e-01,  -6.19635605e-01,\n",
        "         -8.93759650e-01],\n",
        "       [  1.04616005e-01,   3.05953601e-01,   2.00731367e-01,\n",
        "          4.75259060e-02,   4.56567360e-01,   6.46046977e-01,\n",
        "         -1.82510617e-02,   4.12614045e-01,  -3.30959244e-01,\n",
        "         -6.37969333e-01,   2.02365839e-01,  -5.04149294e-01,\n",
        "         -4.31712146e-01,  -4.99300642e-01,   1.61265980e-01,\n",
        "         -1.22088251e-01,  -5.78705908e-02,   6.51327364e-01,\n",
        "         -5.05297242e-02],\n",
        "       [ -2.54832470e-01,   1.99117145e-01,  -6.05249603e-01,\n",
        "          3.62446221e-01,   4.24773082e-01,  -5.91529517e-01,\n",
        "          3.82965952e-01,  -3.55494231e-02,  -5.16903750e-01,\n",
        "          4.63264220e-01,  -9.94331101e-02,   9.72889866e-01,\n",
        "          2.01471714e-01,  -2.39146606e-03,   8.03344578e-01,\n",
        "         -6.17670664e-01,  -6.29809347e-01,  -3.33689838e-01,\n",
        "         -2.48383990e-01],\n",
        "       [  2.41086575e-01,   9.96375324e-02,   5.15835161e-01,\n",
        "         -1.10785234e-01,  -5.61416062e-01,   2.55096479e-01,\n",
        "          6.47114097e-01,  -8.22374208e-01,   4.91584196e-01,\n",
        "          7.69125006e-01,  -3.64292042e-02,   2.61796092e-01,\n",
        "          2.47168753e-01,  -1.44976143e+00,   7.87177226e-01,\n",
        "         -3.64198277e-01,   1.09988810e+00,  -1.01407340e+00,\n",
        "         -6.49672295e-02],\n",
        "       [ -1.76388175e-01,  -1.01326933e-01,   4.76797701e-02,\n",
        "          1.56246046e-01,  -3.04747989e-01,   2.47769948e-01,\n",
        "          4.37090747e-02,   2.47409611e-01,  -2.89103761e-01,\n",
        "          4.36398422e-01,   3.64492195e-01,  -6.21179835e-01,\n",
        "          4.88888505e-01,   6.00600987e-01,  -2.37321112e-01,\n",
        "         -7.79620239e-02,  -1.20631493e-01,  -5.92313585e-01,\n",
        "         -4.36696865e-01],\n",
        "       [  3.68457781e-01,   1.77741611e-01,  -1.22460920e-02,\n",
        "          1.68505052e-01,   4.03056795e-01,  -4.05265583e-01,\n",
        "          2.24295060e-01,   3.49233596e-01,   3.57063978e-01,\n",
        "          1.13707809e-01,   1.83386617e-01,  -1.32223930e+00,\n",
        "          4.76386598e-01,  -8.46004127e-01,   4.37987268e-01,\n",
        "          6.48859047e-01,   9.34448489e-01,   2.94961870e-01,\n",
        "          8.92064585e-01],\n",
        "       [ -3.86282340e-01,  -1.79327366e-02,   4.52640718e-01,\n",
        "          1.60039046e-01,  -2.58975259e-01,  -2.10580499e-01,\n",
        "         -4.61906470e-02,  -3.92500368e-01,  -3.62241509e-02,\n",
        "         -3.42589627e-01,  -5.74007861e-01,   4.89796316e-02,\n",
        "         -5.23483399e-01,  -6.19051259e-01,   1.36060524e+00,\n",
        "          1.10410060e+00,  -9.70483187e-01,   1.20481194e+00,\n",
        "          1.09922970e-01],\n",
        "       [  3.22191721e-01,  -1.15128853e-01,  -1.75088716e-01,\n",
        "         -1.46662246e-01,  -5.68901450e-02,   5.99316648e-01,\n",
        "         -5.46298044e-01,  -1.19663038e-01,   2.69161285e-01,\n",
        "          6.34564089e-01,   1.36667201e-01,  -2.72423988e-01,\n",
        "         -8.04714783e-01,   5.36895107e-01,   2.22462980e-01,\n",
        "          6.31096703e-01,  -1.45676982e+00,   5.10170740e-01,\n",
        "          3.06164274e-01],\n",
        "       [  4.35882536e-01,  -6.97280694e-02,   3.04749978e-01,\n",
        "         -2.10224219e-02,   3.42255742e-01,  -5.68524940e-01,\n",
        "         -9.04364412e-02,  -4.21799935e-01,   7.63416968e-01,\n",
        "          8.06392036e-01,   1.53328594e-01,   7.03433426e-01,\n",
        "         -3.76482762e-01,   1.62193522e-01,   1.27222154e-01,\n",
        "          1.19778527e+00,   7.66361497e-01,  -2.46479092e-01,\n",
        "          4.16919177e-01],\n",
        "       [ -7.53090268e-02,  -6.18197518e-01,  -2.56595917e-01,\n",
        "          1.70855778e-01,  -9.59269801e-01,  -1.15875685e-01,\n",
        "          2.66205533e-01,   7.18572668e-01,  -4.26179444e-02,\n",
        "          2.38071084e-02,  -7.44441662e-02,  -7.33135199e-01,\n",
        "          2.88105706e-01,  -5.63216226e-01,  -5.64275589e-01,\n",
        "          1.53526124e-01,  -6.27398587e-02,   3.60524504e-01,\n",
        "         -8.57341507e-01],\n",
        "       [ -2.87984001e-01,  -9.78289348e-03,   2.54872076e-01,\n",
        "          8.40062720e-02,  -1.75258443e-02,   2.15121787e-01,\n",
        "          6.70617639e-02,   5.46346153e-01,  -3.74800670e-01,\n",
        "         -1.77273661e-03,  -4.77871070e-04,   2.30355524e-01,\n",
        "         -9.00532255e-01,   5.94578583e-01,  -1.19841036e-01,\n",
        "          2.92707361e-01,   1.86834977e-01,   5.71885894e-01,\n",
        "          3.33256276e-01],\n",
        "       [  1.55689214e-01,   1.32044681e-01,   7.93396762e-01,\n",
        "         -2.41428041e-01,  -6.67556260e-01,  -4.67831930e-01,\n",
        "          3.48290319e-01,  -5.81932955e-03,  -6.31996783e-01,\n",
        "          6.82882705e-01,   1.38174643e-01,   1.86542827e-01,\n",
        "         -4.59878201e-01,   7.33657736e-02,  -6.19155619e-01,\n",
        "         -1.74234736e+00,   3.41312089e-02,  -4.81907146e-01,\n",
        "         -2.93632292e-01],\n",
        "       [  2.13340901e-01,  -8.50106179e-01,   8.23017830e-02,\n",
        "         -3.25422550e-01,  -1.43606003e-01,   6.39273684e-02,\n",
        "          5.60585980e-01,   9.12989552e-01,  -2.44148053e-01,\n",
        "         -4.23366318e-01,  -3.59806655e-01,   1.44009321e-01,\n",
        "          1.27858668e-01,  -2.14707041e-01,   2.84269886e-01,\n",
        "          9.06946089e-02,  -4.91852986e-01,  -2.23059012e-01,\n",
        "         -1.37670944e-01],\n",
        "       [ -2.12894770e-01,  -5.85236984e-02,   1.35920379e-01,\n",
        "         -3.15177063e-01,  -5.80964815e-02,  -6.14684654e-02,\n",
        "          4.09507491e-01,  -7.21263521e-01,  -2.46897046e-01,\n",
        "         -4.07961116e-01,  -1.26096116e-01,  -6.45219719e-01,\n",
        "          7.63066560e-03,  -3.69498251e-02,   6.49147785e-02,\n",
        "          1.15099524e+00,  -5.71753539e-01,  -2.44311136e-01,\n",
        "         -5.98630581e-01],\n",
        "       [  1.71968088e-01,  -1.77726057e-01,  -1.55206723e-01,\n",
        "          1.17429627e-02,  -5.21380774e-01,   2.38601211e-02,\n",
        "         -7.47585712e-01,   1.87733753e-01,   4.65028455e-01,\n",
        "         -2.75330172e-01,  -2.69592070e-03,  -7.62196386e-02,\n",
        "         -4.99087986e-01,  -1.23921597e-01,   8.83731285e-01,\n",
        "          9.12245562e-01,   1.22641778e+00,   4.22772358e-01,\n",
        "          6.28176981e-01],\n",
        "       [ -1.21167593e-01,  -2.22535303e-01,  -1.46650968e-01,\n",
        "          1.46593906e-01,   7.29878958e-02,   7.07372928e-01,\n",
        "         -2.31415496e-02,  -2.43145225e-01,  -2.70497043e-01,\n",
        "          7.29523673e-01,   7.66589373e-02,   4.51622436e-01,\n",
        "          5.96395644e-01,   4.00504605e-01,  -2.02310742e-01,\n",
        "         -7.99609973e-01,   4.04211936e-03,  -6.30730244e-01,\n",
        "          3.77325026e-01],\n",
        "       [  1.55538741e-01,  -4.45029116e-01,   4.51587401e-01,\n",
        "          8.34581023e-02,  -2.89872360e-02,  -2.16020282e-01,\n",
        "          3.13387392e-01,  -1.16523795e-01,   7.31929803e-01,\n",
        "          1.51586870e-01,  -6.72145011e-02,  -1.79760665e-01,\n",
        "         -7.96039224e-01,  -3.36383039e-01,  -1.38852475e-01,\n",
        "         -4.71091134e-01,   4.99832704e-03,  -7.49447328e-01,\n",
        "         -2.03043957e-01],\n",
        "       [ -1.45321851e-01,  -6.67337154e-01,   1.36396351e-01,\n",
        "          2.58312407e-01,   5.41756136e-01,  -3.59434931e-01,\n",
        "         -3.39712218e-01,   1.32017340e-01,   3.92221535e-01,\n",
        "         -2.80396064e-01,  -2.65356885e-01,  -3.99775548e-01,\n",
        "         -4.53801899e-01,  -6.72089411e-01,  -4.62522583e-01,\n",
        "         -1.06162762e-01,   6.10716387e-01,  -5.21824920e-01,\n",
        "          9.60613006e-01],\n",
        "       [ -3.32260992e-02,  -8.06815400e-02,  -1.32621342e-01,\n",
        "         -7.44425077e-01,  -1.79651166e-01,  -6.60217655e-01,\n",
        "         -3.99825605e-02,   2.76739762e-01,  -1.04721201e-01,\n",
        "          2.90797224e-01,   4.84339085e-01,   6.39453318e-01,\n",
        "         -9.76001574e-01,   2.83027071e-02,   1.95100655e-01,\n",
        "          4.20242440e-01,  -2.84394873e-01,  -2.39190741e-01,\n",
        "          4.02185230e-01],\n",
        "       [  1.08708333e-01,  -1.80610382e-01,   9.41881834e-02,\n",
        "         -9.69518762e-02,   9.55375907e-02,  -5.30402955e-01,\n",
        "         -1.56372938e-01,  -8.32116709e-01,  -3.07271255e-01,\n",
        "         -1.74214330e-01,   2.72135909e-01,   6.53067486e-01,\n",
        "         -5.44410440e-01,  -7.41944510e-01,  -3.80482029e-01,\n",
        "         -1.64722548e-01,   3.30235655e-01,   4.54974760e-01,\n",
        "         -4.81685948e-01],\n",
        "       [ -5.26017185e-01,  -5.23384105e-01,   3.12095234e-02,\n",
        "          4.59175531e-02,  -1.10943526e-01,  -2.74029941e-01,\n",
        "         -6.41953286e-01,  -9.59927450e-01,   3.21092807e-02,\n",
        "          3.67973337e-01,   1.54472785e-02,  -2.96387232e-01,\n",
        "          5.97005608e-01,   1.82050589e-01,   9.23415818e-01,\n",
        "         -5.59952669e-01,  -7.30427944e-03,  -1.18553153e-01,\n",
        "         -5.15392504e-01],\n",
        "       [ -1.99198390e-01,   1.14600947e-01,  -8.89568236e-02,\n",
        "         -5.85563358e-01,   5.89312361e-01,   2.56315161e-02,\n",
        "          2.00718374e-01,   1.85113425e-01,   7.13210584e-01,\n",
        "         -6.48302012e-02,   2.79762216e-01,   1.46340480e+00,\n",
        "         -1.39033875e-01,   7.28796291e-01,   3.42183108e-02,\n",
        "          5.36714591e-01,  -1.36566557e+00,   1.02642779e+00,\n",
        "         -1.94875950e-01],\n",
        "       [  2.95252615e-01,  -2.97051854e-01,  -4.25473640e-01,\n",
        "         -7.47410270e-01,   3.63485727e-01,  -2.73300981e-01,\n",
        "         -2.95065205e-01,   2.48998405e-01,  -1.42523357e-01,\n",
        "          6.76103555e-02,  -1.46020213e-01,   1.87426269e-01,\n",
        "         -1.54382193e-02,  -1.11357402e-01,  -3.89422704e-01,\n",
        "         -1.13472656e+00,   1.08476418e+00,  -1.42300874e+00,\n",
        "          3.04778397e-01],\n",
        "       [  2.54806735e-01,   1.33526699e-01,  -1.69540309e-01,\n",
        "         -4.10190606e-01,   2.33711318e-02,   2.26763934e-01,\n",
        "         -2.56642062e-01,   6.40356157e-01,  -5.35055547e-01,\n",
        "          4.84417409e-01,   1.72387311e-01,  -5.21588830e-01,\n",
        "         -3.78925296e-01,   5.17306697e-01,   6.77375709e-01,\n",
        "         -5.58124554e-01,  -1.87819982e+00,   5.95184645e-01,\n",
        "         -1.35716516e+00],\n",
        "       [  2.68846195e-01,   1.44305636e-01,  -3.83380727e-01,\n",
        "          6.18483188e-01,  -3.57608049e-01,  -2.10673274e-01,\n",
        "         -1.99529152e-01,  -2.95524334e-01,  -3.88673738e-01,\n",
        "          1.94707732e-01,  -2.33239585e-03,   1.26290162e-01,\n",
        "         -3.84853090e-01,   7.20030141e-01,  -1.22682245e-01,\n",
        "         -3.73660435e-01,  -1.05995564e+00,   6.50272375e-02,\n",
        "         -1.17103468e+00],\n",
        "       [ -1.27138873e-01,  -2.80134092e-01,  -1.38461435e-01,\n",
        "          7.96021389e-01,   7.10623779e-01,  -1.30903870e-01,\n",
        "          1.83229156e-01,   1.83248086e-01,   4.30086730e-01,\n",
        "         -4.05755368e-01,   6.86129805e-01,  -6.12344089e-01,\n",
        "         -5.46803552e-01,   3.28404740e-01,   5.40756404e-01,\n",
        "         -1.52837107e+00,   1.21781383e+00,  -8.49279498e-01,\n",
        "         -3.27860417e-01]])"
       ]
      }
     ],
     "prompt_number": 62
    },
    {
     "cell_type": "code",
     "collapsed": false,
     "input": [
      "y_eig_vecs_by_x"
     ],
     "language": "python",
     "metadata": {},
     "outputs": [
      {
       "metadata": {},
       "output_type": "pyout",
       "prompt_number": 63,
       "text": [
        "array([[  1.13815552,  -3.97549408,  -1.69806635, ...,  -2.02903991,\n",
        "         -0.63073323,   7.93929565],\n",
        "       [  2.7313851 ,   2.47865992,   0.56144096, ...,   2.11994786,\n",
        "         -3.45875349,   2.90828084],\n",
        "       [ -3.0494898 ,  10.34423091,  -2.83210287, ...,   0.15865412,\n",
        "         -1.86613424,   5.0011315 ],\n",
        "       ..., \n",
        "       [  3.59936904,   0.21579163,  -5.77913007, ...,   0.52472052,\n",
        "         -0.09057357,  12.5883004 ],\n",
        "       [ -0.69871554,   2.67128581,   0.24074558, ...,   2.71978726,\n",
        "          1.60499117,   2.96259462],\n",
        "       [ -9.95181178,   3.9070196 ,  10.23640735, ...,  -8.23443858,\n",
        "          8.70037741,   5.53236753]])"
       ]
      }
     ],
     "prompt_number": 63
    },
    {
     "cell_type": "markdown",
     "metadata": {},
     "source": [
      "y_eig_vecs_reg\u3068y_eig_vecs_by_x\u304c\u5168\u7136\u4e00\u81f4\u3057\u3066\u3044\u306a\u3044\u3051\u3069\u30fb\u30fb\u30fb\u6c57"
     ]
    },
    {
     "cell_type": "heading",
     "level": 2,
     "metadata": {},
     "source": [
      "\u5909\u63db\u3092\u884c\u3046"
     ]
    },
    {
     "cell_type": "code",
     "collapsed": false,
     "input": [
      "n_components = 2"
     ],
     "language": "python",
     "metadata": {},
     "outputs": [],
     "prompt_number": 64
    },
    {
     "cell_type": "code",
     "collapsed": false,
     "input": [
      "x_projected = np.dot(x, x_eig_vecs_reg[:,:n_components])"
     ],
     "language": "python",
     "metadata": {},
     "outputs": [],
     "prompt_number": 65
    },
    {
     "cell_type": "code",
     "collapsed": false,
     "input": [
      "y_projected = np.dot(y, y_eig_vecs_reg[:,:n_components])"
     ],
     "language": "python",
     "metadata": {},
     "outputs": [],
     "prompt_number": 66
    },
    {
     "cell_type": "code",
     "collapsed": false,
     "input": [
      "x_projected.shape"
     ],
     "language": "python",
     "metadata": {},
     "outputs": [
      {
       "metadata": {},
       "output_type": "pyout",
       "prompt_number": 67,
       "text": [
        "(20, 2)"
       ]
      }
     ],
     "prompt_number": 67
    },
    {
     "cell_type": "code",
     "collapsed": false,
     "input": [
      "y_projected.shape"
     ],
     "language": "python",
     "metadata": {},
     "outputs": [
      {
       "metadata": {},
       "output_type": "pyout",
       "prompt_number": 68,
       "text": [
        "(20, 2)"
       ]
      }
     ],
     "prompt_number": 68
    },
    {
     "cell_type": "code",
     "collapsed": false,
     "input": [
      "import matplotlib.pyplot as plt"
     ],
     "language": "python",
     "metadata": {},
     "outputs": [],
     "prompt_number": 69
    },
    {
     "cell_type": "code",
     "collapsed": false,
     "input": [
      "plt.plot(x_projected[:,0], x_projected[:,1], 'xr')"
     ],
     "language": "python",
     "metadata": {},
     "outputs": [
      {
       "metadata": {},
       "output_type": "pyout",
       "prompt_number": 70,
       "text": [
        "[<matplotlib.lines.Line2D at 0x11112ffd0>]"
       ]
      },
      {
       "metadata": {},
       "output_type": "display_data",
       "png": "[encoded data removed]",
       "text": [
        "<matplotlib.figure.Figure at 0x11006dad0>"
       ]
      }
     ],
     "prompt_number": 70
    },
    {
     "cell_type": "code",
     "collapsed": false,
     "input": [
      "plt.plot(y_projected[:,0], y_projected[:,1], 'ob')"
     ],
     "language": "python",
     "metadata": {},
     "outputs": [
      {
       "metadata": {},
       "output_type": "pyout",
       "prompt_number": 71,
       "text": [
        "[<matplotlib.lines.Line2D at 0x111293ad0>]"
       ]
      },
      {
       "metadata": {},
       "output_type": "display_data",
       "png": "[encoded data removed]",
       "text": [
        "<matplotlib.figure.Figure at 0x11006d1d0>"
       ]
      }
     ],
     "prompt_number": 71
    },
    {
     "cell_type": "markdown",
     "metadata": {},
     "source": [
      "\u306a\u3093\u304b\u3001\u3061\u3083\u3093\u3068\u4f3c\u305f\u3068\u3053\u308d\u306b\u4f3c\u305f\u70b9\u304c\u6765\u3066\u3044\u308b\u3088\u3046\u306b\u898b\u3048\u308b\u304c\u3001\u4e0a\u4e0b\u9006\u3055\u307e\uff1f180\u5ea6\u56de\u8ee2\u3057\u3066\u3044\u308b\uff1f\u5b9f\u884c\u3059\u308b\u305f\u3073\u306b\u56de\u8ee2\u306e\u65b9\u5411\u304c\u5909\u308f\u3063\u3066\u3044\u308b\u6a21\u69d8\u3002"
     ]
    },
    {
     "cell_type": "code",
     "collapsed": false,
     "input": [
      "plt.plot(x_projected[:,0], x_projected[:,1], 'xr-')"
     ],
     "language": "python",
     "metadata": {},
     "outputs": [
      {
       "metadata": {},
       "output_type": "pyout",
       "prompt_number": 72,
       "text": [
        "[<matplotlib.lines.Line2D at 0x1113c0ad0>]"
       ]
      },
      {
       "metadata": {},
       "output_type": "display_data",
       "png": "[encoded data removed]",
       "text": [
        "<matplotlib.figure.Figure at 0x1112b7490>"
       ]
      }
     ],
     "prompt_number": 72
    },
    {
     "cell_type": "code",
     "collapsed": false,
     "input": [
      "plt.plot(y_projected[:,0], y_projected[:,1], 'ob-')"
     ],
     "language": "python",
     "metadata": {},
     "outputs": [
      {
       "metadata": {},
       "output_type": "pyout",
       "prompt_number": 73,
       "text": [
        "[<matplotlib.lines.Line2D at 0x1114e9090>]"
       ]
      },
      {
       "metadata": {},
       "output_type": "display_data",
       "png": "[encoded data removed]",
       "text": [
        "<matplotlib.figure.Figure at 0x1112acd10>"
       ]
      }
     ],
     "prompt_number": 73
    },
    {
     "cell_type": "markdown",
     "metadata": {},
     "source": [
      "\u7dda\u304c\u3042\u308b\u65b9\u304c\u70b9\u306e\u5bfe\u5fdc\u95a2\u4fc2\u304c\u308f\u304b\u308a\u3084\u3059\u3044\u306e\u3067\u7dda\u3092\u5165\u308c\u3066\u307f\u305f"
     ]
    },
    {
     "cell_type": "code",
     "collapsed": false,
     "input": [
      "np.sign(np.corrcoef(x_projected[:,0], y_projected[:,0]))[0, 1]"
     ],
     "language": "python",
     "metadata": {},
     "outputs": [
      {
       "metadata": {},
       "output_type": "pyout",
       "prompt_number": 74,
       "text": [
        "-1.0"
       ]
      }
     ],
     "prompt_number": 74
    },
    {
     "cell_type": "code",
     "collapsed": false,
     "input": [
      "np.sign(np.corrcoef(x_projected[:,1], y_projected[:,1]))[0, 1]"
     ],
     "language": "python",
     "metadata": {},
     "outputs": [
      {
       "metadata": {},
       "output_type": "pyout",
       "prompt_number": 75,
       "text": [
        "-1.0"
       ]
      }
     ],
     "prompt_number": 75
    },
    {
     "cell_type": "code",
     "collapsed": false,
     "input": [
      "x_sign = np.sign(np.corrcoef(x_projected[:,0], y_projected[:,0]))[0, 1]\n",
      "y_sign = np.sign(np.corrcoef(x_projected[:,1], y_projected[:,1]))[0, 1]\n",
      "plt.plot(x_projected[:,0], x_projected[:,1], 'xr-')\n",
      "plt.plot(y_projected[:,0] * x_sign, y_projected[:,1] * y_sign, 'ob-')\n",
      "plt.show()"
     ],
     "language": "python",
     "metadata": {},
     "outputs": [
      {
       "metadata": {},
       "output_type": "display_data",
       "png": "[encoded data removed]",
       "text": [
        "<matplotlib.figure.Figure at 0x11143f350>"
       ]
      }
     ],
     "prompt_number": 76
    },
    {
     "cell_type": "heading",
     "level": 3,
     "metadata": {},
     "source": [
      "\u5225\u306b\u6c42\u3081\u305f\u4fc2\u6570\u3067\u8a08\u7b97\u3057\u3066\u307f\u308b"
     ]
    },
    {
     "cell_type": "code",
     "collapsed": false,
     "input": [
      "x_projected_2 = np.dot(x, x_eig_vecs_reg[:,:n_components])"
     ],
     "language": "python",
     "metadata": {},
     "outputs": [],
     "prompt_number": 77
    },
    {
     "cell_type": "code",
     "collapsed": false,
     "input": [
      "y_projected_2 = np.dot(y, y_eig_vecs_by_x[:,:n_components])"
     ],
     "language": "python",
     "metadata": {},
     "outputs": [],
     "prompt_number": 78
    },
    {
     "cell_type": "code",
     "collapsed": false,
     "input": [
      "plt.plot(x_projected_2[:,0], x_projected[:,1], 'xr')"
     ],
     "language": "python",
     "metadata": {},
     "outputs": [
      {
       "metadata": {},
       "output_type": "pyout",
       "prompt_number": 79,
       "text": [
        "[<matplotlib.lines.Line2D at 0x11155e310>]"
       ]
      },
      {
       "metadata": {},
       "output_type": "display_data",
       "png": "[encoded data removed]",
       "text": [
        "<matplotlib.figure.Figure at 0x1114a7110>"
       ]
      }
     ],
     "prompt_number": 79
    },
    {
     "cell_type": "code",
     "collapsed": false,
     "input": [
      "plt.plot(y_projected_2[:,0], y_projected_2[:,1], 'ob')"
     ],
     "language": "python",
     "metadata": {},
     "outputs": [
      {
       "metadata": {},
       "output_type": "pyout",
       "prompt_number": 80,
       "text": [
        "[<matplotlib.lines.Line2D at 0x11171df90>]"
       ]
      },
      {
       "metadata": {},
       "output_type": "display_data",
       "png": "[encoded data removed]",
       "text": [
        "<matplotlib.figure.Figure at 0x111540d10>"
       ]
      }
     ],
     "prompt_number": 80
    },
    {
     "cell_type": "code",
     "collapsed": false,
     "input": [
      "plt.plot(x_projected_2[:,0], x_projected[:,1], 'xr-')"
     ],
     "language": "python",
     "metadata": {},
     "outputs": [
      {
       "metadata": {},
       "output_type": "pyout",
       "prompt_number": 81,
       "text": [
        "[<matplotlib.lines.Line2D at 0x11183a690>]"
       ]
      },
      {
       "metadata": {},
       "output_type": "display_data",
       "png": "[encoded data removed]",
       "text": [
        "<matplotlib.figure.Figure at 0x111760c10>"
       ]
      }
     ],
     "prompt_number": 81
    },
    {
     "cell_type": "code",
     "collapsed": false,
     "input": [
      "plt.plot(y_projected_2[:,0], y_projected_2[:,1], 'ob-')"
     ],
     "language": "python",
     "metadata": {},
     "outputs": [
      {
       "metadata": {},
       "output_type": "pyout",
       "prompt_number": 82,
       "text": [
        "[<matplotlib.lines.Line2D at 0x111958c10>]"
       ]
      },
      {
       "metadata": {},
       "output_type": "display_data",
       "png": "[encoded data removed]",
       "text": [
        "<matplotlib.figure.Figure at 0x11185d650>"
       ]
      }
     ],
     "prompt_number": 82
    },
    {
     "cell_type": "markdown",
     "metadata": {},
     "source": [
      "\u30b9\u30b1\u30fc\u30eb\u3082\u5408\u3063\u3066\u306a\u3044\u3057\u3001\u5168\u7136\u91cd\u306a\u3063\u3066\u3044\u306a\u3044"
     ]
    },
    {
     "cell_type": "code",
     "collapsed": false,
     "input": [
      "np.corrcoef(x_projected[:,1], y_projected[:,1])"
     ],
     "language": "python",
     "metadata": {},
     "outputs": [
      {
       "metadata": {},
       "output_type": "pyout",
       "prompt_number": 83,
       "text": [
        "array([[ 1.        , -0.99976247],\n",
        "       [-0.99976247,  1.        ]])"
       ]
      }
     ],
     "prompt_number": 83
    },
    {
     "cell_type": "code",
     "collapsed": false,
     "input": [],
     "language": "python",
     "metadata": {},
     "outputs": [],
     "prompt_number": 83
    }
   ],
   "metadata": {}
  }
 ]
}