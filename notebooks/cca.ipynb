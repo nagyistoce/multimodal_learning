{
 "metadata": {
  "name": "",
  "signature": "sha256:19a1bf13438dcf3f3a3185991d55a485f3a4b6b2d4f5208c6b0d51d281474b33"
 },
 "nbformat": 3,
 "nbformat_minor": 0,
 "worksheets": [
  {
   "cells": [
    {
     "cell_type": "heading",
     "level": 1,
     "metadata": {},
     "source": [
      "CCA\u306e\u8a08\u7b97"
     ]
    },
    {
     "cell_type": "heading",
     "level": 2,
     "metadata": {},
     "source": [
      "\u30a4\u30f3\u30dd\u30fc\u30c8"
     ]
    },
    {
     "cell_type": "code",
     "collapsed": false,
     "input": [
      "import numpy as np"
     ],
     "language": "python",
     "metadata": {},
     "outputs": [],
     "prompt_number": 7
    },
    {
     "cell_type": "heading",
     "level": 2,
     "metadata": {},
     "source": [
      "\u30c7\u30fc\u30bf\u306e\u6b21\u5143\u6570\u306e\u5b9a\u7fa9"
     ]
    },
    {
     "cell_type": "code",
     "collapsed": false,
     "input": [
      "p = 30; q = 40; n = 20"
     ],
     "language": "python",
     "metadata": {},
     "outputs": [],
     "prompt_number": 8
    },
    {
     "cell_type": "heading",
     "level": 2,
     "metadata": {},
     "source": [
      "\u30c7\u30fc\u30bf\u306e\u6e96\u5099"
     ]
    },
    {
     "cell_type": "code",
     "collapsed": false,
     "input": [
      "x = np.random.rand(n, p)"
     ],
     "language": "python",
     "metadata": {},
     "outputs": [],
     "prompt_number": 9
    },
    {
     "cell_type": "code",
     "collapsed": false,
     "input": [
      "y = np.random.rand(n, q)"
     ],
     "language": "python",
     "metadata": {},
     "outputs": [],
     "prompt_number": 10
    },
    {
     "cell_type": "code",
     "collapsed": false,
     "input": [
      "x.shape"
     ],
     "language": "python",
     "metadata": {},
     "outputs": [
      {
       "metadata": {},
       "output_type": "pyout",
       "prompt_number": 11,
       "text": [
        "(20, 30)"
       ]
      }
     ],
     "prompt_number": 11
    },
    {
     "cell_type": "code",
     "collapsed": false,
     "input": [
      "y.shape"
     ],
     "language": "python",
     "metadata": {},
     "outputs": [
      {
       "metadata": {},
       "output_type": "pyout",
       "prompt_number": 12,
       "text": [
        "(20, 40)"
       ]
      }
     ],
     "prompt_number": 12
    },
    {
     "cell_type": "heading",
     "level": 2,
     "metadata": {},
     "source": [
      "\u5206\u6563\u5171\u5206\u6563\u306e\u8a08\u7b97"
     ]
    },
    {
     "cell_type": "code",
     "collapsed": false,
     "input": [
      "z = np.vstack((x.T, y.T))"
     ],
     "language": "python",
     "metadata": {},
     "outputs": [],
     "prompt_number": 13
    },
    {
     "cell_type": "markdown",
     "metadata": {},
     "source": [
      "\u30c7\u30fc\u30bf\u3092\u7e26\u306b\u4e26\u3079\u308b"
     ]
    },
    {
     "cell_type": "code",
     "collapsed": false,
     "input": [
      "z.shape"
     ],
     "language": "python",
     "metadata": {},
     "outputs": [
      {
       "metadata": {},
       "output_type": "pyout",
       "prompt_number": 14,
       "text": [
        "(70, 20)"
       ]
      }
     ],
     "prompt_number": 14
    },
    {
     "cell_type": "code",
     "collapsed": false,
     "input": [
      "cov = np.cov(z)"
     ],
     "language": "python",
     "metadata": {},
     "outputs": [],
     "prompt_number": 15
    },
    {
     "cell_type": "code",
     "collapsed": false,
     "input": [
      "cov.shape"
     ],
     "language": "python",
     "metadata": {},
     "outputs": [
      {
       "metadata": {},
       "output_type": "pyout",
       "prompt_number": 16,
       "text": [
        "(70, 70)"
       ]
      }
     ],
     "prompt_number": 16
    },
    {
     "cell_type": "markdown",
     "metadata": {},
     "source": [
      "70\u884c\u3059\u3079\u3066\u306e\u884c\u540c\u58eb\u306e\u5206\u6563\u5171\u5206\u6563\u884c\u5217\u3092\u8a08\u7b97\u3057\u3066\u3044\u308b\n",
      "\n",
      "http://docs.scipy.org/doc/numpy/reference/generated/numpy.cov.html"
     ]
    },
    {
     "cell_type": "code",
     "collapsed": false,
     "input": [
      "p_ = len(x.T)"
     ],
     "language": "python",
     "metadata": {},
     "outputs": [],
     "prompt_number": 17
    },
    {
     "cell_type": "code",
     "collapsed": false,
     "input": [
      "p_"
     ],
     "language": "python",
     "metadata": {},
     "outputs": [
      {
       "metadata": {},
       "output_type": "pyout",
       "prompt_number": 18,
       "text": [
        "30"
       ]
      }
     ],
     "prompt_number": 18
    },
    {
     "cell_type": "code",
     "collapsed": false,
     "input": [
      "c_xx = cov[:p, :p]"
     ],
     "language": "python",
     "metadata": {},
     "outputs": [],
     "prompt_number": 19
    },
    {
     "cell_type": "code",
     "collapsed": false,
     "input": [
      "c_yy = cov[p:, p:]"
     ],
     "language": "python",
     "metadata": {},
     "outputs": [],
     "prompt_number": 20
    },
    {
     "cell_type": "code",
     "collapsed": false,
     "input": [
      "c_xy = cov[:p, p:]"
     ],
     "language": "python",
     "metadata": {},
     "outputs": [],
     "prompt_number": 21
    },
    {
     "cell_type": "code",
     "collapsed": false,
     "input": [
      "c_xx.shape"
     ],
     "language": "python",
     "metadata": {},
     "outputs": [
      {
       "metadata": {},
       "output_type": "pyout",
       "prompt_number": 22,
       "text": [
        "(30, 30)"
       ]
      }
     ],
     "prompt_number": 22
    },
    {
     "cell_type": "code",
     "collapsed": false,
     "input": [
      "c_yy.shape"
     ],
     "language": "python",
     "metadata": {},
     "outputs": [
      {
       "metadata": {},
       "output_type": "pyout",
       "prompt_number": 23,
       "text": [
        "(40, 40)"
       ]
      }
     ],
     "prompt_number": 23
    },
    {
     "cell_type": "code",
     "collapsed": false,
     "input": [
      "c_xy.shape"
     ],
     "language": "python",
     "metadata": {},
     "outputs": [
      {
       "metadata": {},
       "output_type": "pyout",
       "prompt_number": 24,
       "text": [
        "(30, 40)"
       ]
      }
     ],
     "prompt_number": 24
    },
    {
     "cell_type": "heading",
     "level": 2,
     "metadata": {},
     "source": [
      "\u6b63\u898f\u5316\u9805\u3092\u52a0\u3048\u308b"
     ]
    },
    {
     "cell_type": "code",
     "collapsed": false,
     "input": [
      "reg_param=0.1"
     ],
     "language": "python",
     "metadata": {},
     "outputs": [],
     "prompt_number": 25
    },
    {
     "cell_type": "code",
     "collapsed": false,
     "input": [
      "c_xx += reg_param * np.average(np.diag(c_xx)) * np.eye(c_xx.shape[0])"
     ],
     "language": "python",
     "metadata": {},
     "outputs": [],
     "prompt_number": 26
    },
    {
     "cell_type": "code",
     "collapsed": false,
     "input": [
      "c_yy += reg_param * np.average(np.diag(c_yy)) * np.eye(c_yy.shape[0])"
     ],
     "language": "python",
     "metadata": {},
     "outputs": [],
     "prompt_number": 27
    },
    {
     "cell_type": "heading",
     "level": 2,
     "metadata": {},
     "source": [
      "\u4e00\u822c\u5316\u56fa\u6709\u5024\u554f\u984c\u306e\u5f0f\u306e\u8a08\u7b97\uff08\u5f0f\uff11\uff09"
     ]
    },
    {
     "cell_type": "heading",
     "level": 3,
     "metadata": {},
     "source": [
      "\u5de6\u8fba xleft = A"
     ]
    },
    {
     "cell_type": "code",
     "collapsed": false,
     "input": [
      "xleft = np.dot(c_xy, np.linalg.solve(c_yy,c_xy.T))"
     ],
     "language": "python",
     "metadata": {},
     "outputs": [],
     "prompt_number": 28
    },
    {
     "cell_type": "code",
     "collapsed": false,
     "input": [
      "xleft.shape"
     ],
     "language": "python",
     "metadata": {},
     "outputs": [
      {
       "metadata": {},
       "output_type": "pyout",
       "prompt_number": 29,
       "text": [
        "(30, 30)"
       ]
      }
     ],
     "prompt_number": 29
    },
    {
     "cell_type": "markdown",
     "metadata": {},
     "source": [
      "\u9006\u884c\u5217\u3092\u639b\u3051\u308b\u5834\u5408\u306b\u306fslove\u3092\u4f7f\u3063\u305f\u307b\u3046\u304c\u65e9\u3044\n",
      "\n",
      "http://d.hatena.ne.jp/sleepy_yoshi/20120513/p1"
     ]
    },
    {
     "cell_type": "heading",
     "level": 3,
     "metadata": {},
     "source": [
      "\u53f3\u8fba xright = B"
     ]
    },
    {
     "cell_type": "code",
     "collapsed": false,
     "input": [
      "xright = c_xx"
     ],
     "language": "python",
     "metadata": {},
     "outputs": [],
     "prompt_number": 30
    },
    {
     "cell_type": "code",
     "collapsed": false,
     "input": [
      "xright.shape"
     ],
     "language": "python",
     "metadata": {},
     "outputs": [
      {
       "metadata": {},
       "output_type": "pyout",
       "prompt_number": 31,
       "text": [
        "(30, 30)"
       ]
      }
     ],
     "prompt_number": 31
    },
    {
     "cell_type": "heading",
     "level": 3,
     "metadata": {},
     "source": [
      "\u4e00\u822c\u5316\u56fa\u6709\u5024\u554f\u984c\u3092\u89e3\u304f"
     ]
    },
    {
     "cell_type": "code",
     "collapsed": false,
     "input": [
      "from scipy.linalg import eig"
     ],
     "language": "python",
     "metadata": {},
     "outputs": [],
     "prompt_number": 32
    },
    {
     "cell_type": "code",
     "collapsed": false,
     "input": [
      "x_eig_dim = min([np.linalg.matrix_rank(xleft), np.linalg.matrix_rank(xright)])"
     ],
     "language": "python",
     "metadata": {},
     "outputs": [],
     "prompt_number": 33
    },
    {
     "cell_type": "code",
     "collapsed": false,
     "input": [
      "x_eig_dim"
     ],
     "language": "python",
     "metadata": {},
     "outputs": [
      {
       "metadata": {},
       "output_type": "pyout",
       "prompt_number": 34,
       "text": [
        "19"
       ]
      }
     ],
     "prompt_number": 34
    },
    {
     "cell_type": "code",
     "collapsed": false,
     "input": [
      "x_eig_vals, x_eig_vecs = eig(xleft, xright)"
     ],
     "language": "python",
     "metadata": {},
     "outputs": [],
     "prompt_number": 35
    },
    {
     "cell_type": "markdown",
     "metadata": {},
     "source": [
      "\u5f15\u6570\u3092\uff12\u3064\u4e0e\u3048\u308b\u3068\u4e00\u822c\u5316\u56fa\u6709\u5024\u554f\u984c\u3092\u3082\u3068\u3081\u308b\u3053\u3068\u304c\u3067\u304d\u308b\n",
      "\n",
      "http://docs.scipy.org/doc/scipy-0.13.0/reference/generated/scipy.linalg.eig.html"
     ]
    },
    {
     "cell_type": "code",
     "collapsed": false,
     "input": [
      "x_eig_vals.shape"
     ],
     "language": "python",
     "metadata": {},
     "outputs": [
      {
       "metadata": {},
       "output_type": "pyout",
       "prompt_number": 36,
       "text": [
        "(30,)"
       ]
      }
     ],
     "prompt_number": 36
    },
    {
     "cell_type": "code",
     "collapsed": false,
     "input": [
      "x_eig_vecs.shape"
     ],
     "language": "python",
     "metadata": {},
     "outputs": [
      {
       "metadata": {},
       "output_type": "pyout",
       "prompt_number": 37,
       "text": [
        "(30, 30)"
       ]
      }
     ],
     "prompt_number": 37
    },
    {
     "cell_type": "code",
     "collapsed": false,
     "input": [
      "x_sort_indices = np.argsort(x_eig_vals)[::-1]"
     ],
     "language": "python",
     "metadata": {},
     "outputs": [],
     "prompt_number": 38
    },
    {
     "cell_type": "code",
     "collapsed": false,
     "input": [
      "x_sort_indices"
     ],
     "language": "python",
     "metadata": {},
     "outputs": [
      {
       "metadata": {},
       "output_type": "pyout",
       "prompt_number": 39,
       "text": [
        "array([ 8,  9, 10, 11, 14, 15, 18, 17, 16, 13, 12,  7,  6,  5,  4,  3,  2,\n",
        "        1,  0, 20, 26, 28, 21, 23, 22, 24, 25, 29, 27, 19])"
       ]
      }
     ],
     "prompt_number": 39
    },
    {
     "cell_type": "code",
     "collapsed": false,
     "input": [
      "[1, 2, 3, 4][::-1]"
     ],
     "language": "python",
     "metadata": {},
     "outputs": [
      {
       "metadata": {},
       "output_type": "pyout",
       "prompt_number": 40,
       "text": [
        "[4, 3, 2, 1]"
       ]
      }
     ],
     "prompt_number": 40
    },
    {
     "cell_type": "code",
     "collapsed": false,
     "input": [
      "x_eig_vals[x_sort_indices]"
     ],
     "language": "python",
     "metadata": {},
     "outputs": [
      {
       "metadata": {},
       "output_type": "pyout",
       "prompt_number": 41,
       "text": [
        "array([  9.38569088e-01+0.j,   9.33121847e-01+0.j,   9.23948248e-01+0.j,\n",
        "         9.14533800e-01+0.j,   8.98063695e-01+0.j,   8.92460517e-01+0.j,\n",
        "         8.79675707e-01+0.j,   8.66135712e-01+0.j,   8.62407825e-01+0.j,\n",
        "         8.46442904e-01+0.j,   8.41612824e-01+0.j,   8.21929987e-01+0.j,\n",
        "         7.99247050e-01+0.j,   7.59917304e-01+0.j,   7.39953075e-01+0.j,\n",
        "         6.77495335e-01+0.j,   5.55158853e-01+0.j,   4.90472436e-01+0.j,\n",
        "         3.34062748e-01+0.j,   3.03646655e-15+0.j,   1.29484456e-15+0.j,\n",
        "         1.02434121e-15+0.j,   1.00528230e-15+0.j,   2.02964673e-16+0.j,\n",
        "        -2.46074927e-16+0.j,  -4.67913718e-16+0.j,  -5.09285457e-16+0.j,\n",
        "        -5.43005703e-16+0.j,  -8.34145750e-16+0.j,  -1.58168478e-15+0.j])"
       ]
      }
     ],
     "prompt_number": 41
    },
    {
     "cell_type": "code",
     "collapsed": false,
     "input": [
      "x_eig_vals[x_sort_indices][:x_eig_dim]"
     ],
     "language": "python",
     "metadata": {},
     "outputs": [
      {
       "metadata": {},
       "output_type": "pyout",
       "prompt_number": 42,
       "text": [
        "array([ 0.93856909+0.j,  0.93312185+0.j,  0.92394825+0.j,  0.91453380+0.j,\n",
        "        0.89806370+0.j,  0.89246052+0.j,  0.87967571+0.j,  0.86613571+0.j,\n",
        "        0.86240782+0.j,  0.84644290+0.j,  0.84161282+0.j,  0.82192999+0.j,\n",
        "        0.79924705+0.j,  0.75991730+0.j,  0.73995307+0.j,  0.67749534+0.j,\n",
        "        0.55515885+0.j,  0.49047244+0.j,  0.33406275+0.j])"
       ]
      }
     ],
     "prompt_number": 42
    },
    {
     "cell_type": "code",
     "collapsed": false,
     "input": [
      "x_eig_vals_sort = x_eig_vals[x_sort_indices][:x_eig_dim].real"
     ],
     "language": "python",
     "metadata": {},
     "outputs": [],
     "prompt_number": 43
    },
    {
     "cell_type": "code",
     "collapsed": false,
     "input": [
      "x_eig_vals_sort"
     ],
     "language": "python",
     "metadata": {},
     "outputs": [
      {
       "metadata": {},
       "output_type": "pyout",
       "prompt_number": 44,
       "text": [
        "array([ 0.93856909,  0.93312185,  0.92394825,  0.9145338 ,  0.8980637 ,\n",
        "        0.89246052,  0.87967571,  0.86613571,  0.86240782,  0.8464429 ,\n",
        "        0.84161282,  0.82192999,  0.79924705,  0.7599173 ,  0.73995307,\n",
        "        0.67749534,  0.55515885,  0.49047244,  0.33406275])"
       ]
      }
     ],
     "prompt_number": 44
    },
    {
     "cell_type": "code",
     "collapsed": false,
     "input": [
      "x_eig_vals_sort.shape"
     ],
     "language": "python",
     "metadata": {},
     "outputs": [
      {
       "metadata": {},
       "output_type": "pyout",
       "prompt_number": 45,
       "text": [
        "(19,)"
       ]
      }
     ],
     "prompt_number": 45
    },
    {
     "cell_type": "markdown",
     "metadata": {},
     "source": [
      "\u56fa\u6709\u5024\u3092\u964d\u9806\uff08\u5927\u304d\u3044\u9806\uff09\u306b\u4e26\u3073\u66ff\u3048\u3066\u3044\u308b"
     ]
    },
    {
     "cell_type": "code",
     "collapsed": false,
     "input": [
      "x_eig_vecs_sort= x_eig_vecs[:,x_sort_indices][:,:x_eig_dim].real"
     ],
     "language": "python",
     "metadata": {},
     "outputs": [],
     "prompt_number": 46
    },
    {
     "cell_type": "code",
     "collapsed": false,
     "input": [
      "x_eig_vecs_sort.shape"
     ],
     "language": "python",
     "metadata": {},
     "outputs": [
      {
       "metadata": {},
       "output_type": "pyout",
       "prompt_number": 47,
       "text": [
        "(30, 19)"
       ]
      }
     ],
     "prompt_number": 47
    },
    {
     "cell_type": "heading",
     "level": 3,
     "metadata": {},
     "source": [
      "\u6b63\u898f\u5316"
     ]
    },
    {
     "cell_type": "markdown",
     "metadata": {},
     "source": [
      "\u5206\u6563 = 1\u306e\u5236\u7d04\u304c\u3042\u308b\u306e\u3067\u3001\u307e\u305a\u5206\u6563\u3092\u3082\u3068\u3081\u308b"
     ]
    },
    {
     "cell_type": "code",
     "collapsed": false,
     "input": [
      "x_var = np.dot(x_eig_vecs_sort.T, np.dot(xright, x_eig_vecs_sort))"
     ],
     "language": "python",
     "metadata": {},
     "outputs": [],
     "prompt_number": 48
    },
    {
     "cell_type": "code",
     "collapsed": false,
     "input": [
      "x_var.shape"
     ],
     "language": "python",
     "metadata": {},
     "outputs": [
      {
       "metadata": {},
       "output_type": "pyout",
       "prompt_number": 49,
       "text": [
        "(19, 19)"
       ]
      }
     ],
     "prompt_number": 49
    },
    {
     "cell_type": "markdown",
     "metadata": {},
     "source": [
      "\u5206\u6563\u30921\u306b\u3059\u308b\u306b\u306f\u56fa\u6709\u30d9\u30af\u30c8\u30eb\u3092\u6b63\u898f\u5316\u3059\u308b\u5fc5\u8981\u304c\u3042\u308b\u3002\n",
      "\n",
      "\u56fa\u6709\u30d9\u30af\u30c8\u30eb\u3092\u5b9a\u6570\u500d\u3059\u308b\u3053\u3068\u3067\u5206\u6563\u30921\u306b\u3059\u308b\u3053\u3068\u304c\u3067\u304d\u308b\u304c\u3001\u56fa\u6709\u30d9\u30af\u30c8\u30eb\u306fa \u00d7 S_xx \u00d7 a\u3068\uff12\u56de\u304b\u3051\u3089\u308c\u3066\u3044\u308b\u306e\u3067\u30eb\u30fc\u30c8\u3092\u53d6\u308b\u5fc5\u8981\u304c\u3042\u308b\u3002\n",
      "\n",
      "\u203bdiag\u306f\u4f55\u3067\u53d6\u3063\u3066\u308b\u3093\u3060\u3063\u3051\uff1f"
     ]
    },
    {
     "cell_type": "code",
     "collapsed": false,
     "input": [
      "np.diag(x_var)"
     ],
     "language": "python",
     "metadata": {},
     "outputs": [
      {
       "metadata": {},
       "output_type": "pyout",
       "prompt_number": 50,
       "text": [
        "array([ 0.26665549,  0.22201813,  0.18964453,  0.22194219,  0.19226315,\n",
        "        0.16166379,  0.16092965,  0.1146331 ,  0.11532748,  0.10180258,\n",
        "        0.15127179,  0.07165394,  0.07589875,  0.08472747,  0.05972482,\n",
        "        0.04574518,  0.02180041,  0.01895348,  0.01389146])"
       ]
      }
     ],
     "prompt_number": 50
    },
    {
     "cell_type": "markdown",
     "metadata": {},
     "source": [
      "\u5bfe\u89d2\u6210\u5206\u3092\u53d6\u3063\u3066\u304f\u308b"
     ]
    },
    {
     "cell_type": "code",
     "collapsed": false,
     "input": [
      "np.sqrt(np.diag(x_var))"
     ],
     "language": "python",
     "metadata": {},
     "outputs": [
      {
       "metadata": {},
       "output_type": "pyout",
       "prompt_number": 51,
       "text": [
        "array([ 0.51638696,  0.471188  ,  0.43548195,  0.47110741,  0.43847822,\n",
        "        0.40207436,  0.40116038,  0.33857511,  0.339599  ,  0.31906517,\n",
        "        0.38893675,  0.26768253,  0.27549728,  0.29107984,  0.24438662,\n",
        "        0.21388122,  0.1476496 ,  0.13767165,  0.11786204])"
       ]
      }
     ],
     "prompt_number": 51
    },
    {
     "cell_type": "markdown",
     "metadata": {},
     "source": [
      "\u8981\u7d20\u306e\u30eb\u30fc\u30c8\u3092\u3068\u308b\uff08\u4e21\u5074\u306b\u304b\u304b\u308b\u304b\u3089\uff09"
     ]
    },
    {
     "cell_type": "code",
     "collapsed": false,
     "input": [
      "np.reciprocal(np.sqrt(np.diag(x_var)))"
     ],
     "language": "python",
     "metadata": {},
     "outputs": [
      {
       "metadata": {},
       "output_type": "pyout",
       "prompt_number": 52,
       "text": [
        "array([ 1.93653225,  2.12229515,  2.29630643,  2.1226582 ,  2.28061498,\n",
        "        2.48710216,  2.49276862,  2.9535544 ,  2.94464944,  3.13415596,\n",
        "        2.57111215,  3.73576864,  3.62979993,  3.43548357,  4.09187712,\n",
        "        4.6754922 ,  6.77279169,  7.26365969,  8.4844961 ])"
       ]
      }
     ],
     "prompt_number": 52
    },
    {
     "cell_type": "markdown",
     "metadata": {},
     "source": [
      "\u8981\u7d20\u306e\u9006\u6570\u3092\u3068\u308b"
     ]
    },
    {
     "cell_type": "code",
     "collapsed": false,
     "input": [
      "x_invvar = np.diag(np.reciprocal(np.sqrt(np.diag(x_var))))"
     ],
     "language": "python",
     "metadata": {},
     "outputs": [],
     "prompt_number": 53
    },
    {
     "cell_type": "markdown",
     "metadata": {},
     "source": [
      "\u5bfe\u89d2\u5316"
     ]
    },
    {
     "cell_type": "code",
     "collapsed": false,
     "input": [
      "x_eig_vecs_reg = np.dot(x_eig_vecs_sort, x_invvar)"
     ],
     "language": "python",
     "metadata": {},
     "outputs": [],
     "prompt_number": 54
    },
    {
     "cell_type": "heading",
     "level": 3,
     "metadata": {},
     "source": [
      "\u6b63\u898f\u5316\u3055\u308c\u3066\u3044\u308b\u304b\u306e\u78ba\u8a8d"
     ]
    },
    {
     "cell_type": "code",
     "collapsed": false,
     "input": [
      "(np.dot(x_eig_vecs_reg.T,  np.dot(xright,  x_eig_vecs_reg))).round().astype(int)"
     ],
     "language": "python",
     "metadata": {},
     "outputs": [
      {
       "metadata": {},
       "output_type": "pyout",
       "prompt_number": 55,
       "text": [
        "array([[1, 0, 0, 0, 0, 0, 0, 0, 0, 0, 0, 0, 0, 0, 0, 0, 0, 0, 0],\n",
        "       [0, 1, 0, 0, 0, 0, 0, 0, 0, 0, 0, 0, 0, 0, 0, 0, 0, 0, 0],\n",
        "       [0, 0, 1, 0, 0, 0, 0, 0, 0, 0, 0, 0, 0, 0, 0, 0, 0, 0, 0],\n",
        "       [0, 0, 0, 1, 0, 0, 0, 0, 0, 0, 0, 0, 0, 0, 0, 0, 0, 0, 0],\n",
        "       [0, 0, 0, 0, 1, 0, 0, 0, 0, 0, 0, 0, 0, 0, 0, 0, 0, 0, 0],\n",
        "       [0, 0, 0, 0, 0, 1, 0, 0, 0, 0, 0, 0, 0, 0, 0, 0, 0, 0, 0],\n",
        "       [0, 0, 0, 0, 0, 0, 1, 0, 0, 0, 0, 0, 0, 0, 0, 0, 0, 0, 0],\n",
        "       [0, 0, 0, 0, 0, 0, 0, 1, 0, 0, 0, 0, 0, 0, 0, 0, 0, 0, 0],\n",
        "       [0, 0, 0, 0, 0, 0, 0, 0, 1, 0, 0, 0, 0, 0, 0, 0, 0, 0, 0],\n",
        "       [0, 0, 0, 0, 0, 0, 0, 0, 0, 1, 0, 0, 0, 0, 0, 0, 0, 0, 0],\n",
        "       [0, 0, 0, 0, 0, 0, 0, 0, 0, 0, 1, 0, 0, 0, 0, 0, 0, 0, 0],\n",
        "       [0, 0, 0, 0, 0, 0, 0, 0, 0, 0, 0, 1, 0, 0, 0, 0, 0, 0, 0],\n",
        "       [0, 0, 0, 0, 0, 0, 0, 0, 0, 0, 0, 0, 1, 0, 0, 0, 0, 0, 0],\n",
        "       [0, 0, 0, 0, 0, 0, 0, 0, 0, 0, 0, 0, 0, 1, 0, 0, 0, 0, 0],\n",
        "       [0, 0, 0, 0, 0, 0, 0, 0, 0, 0, 0, 0, 0, 0, 1, 0, 0, 0, 0],\n",
        "       [0, 0, 0, 0, 0, 0, 0, 0, 0, 0, 0, 0, 0, 0, 0, 1, 0, 0, 0],\n",
        "       [0, 0, 0, 0, 0, 0, 0, 0, 0, 0, 0, 0, 0, 0, 0, 0, 1, 0, 0],\n",
        "       [0, 0, 0, 0, 0, 0, 0, 0, 0, 0, 0, 0, 0, 0, 0, 0, 0, 1, 0],\n",
        "       [0, 0, 0, 0, 0, 0, 0, 0, 0, 0, 0, 0, 0, 0, 0, 0, 0, 0, 1]])"
       ]
      }
     ],
     "prompt_number": 55
    },
    {
     "cell_type": "markdown",
     "metadata": {},
     "source": [
      "\u5358\u4f4d\u884c\u5217\u306b\u306a\u3063\u3066\u3044\u308b\u306e\u3067OK"
     ]
    },
    {
     "cell_type": "heading",
     "level": 2,
     "metadata": {},
     "source": [
      "\u4e00\u822c\u5316\u56fa\u6709\u5024\u554f\u984c\u306e\u5f0f\u306e\u8a08\u7b97\uff08\u5f0f\uff12\uff09"
     ]
    },
    {
     "cell_type": "heading",
     "level": 3,
     "metadata": {},
     "source": [
      "\u5de6\u8fba yleft = A"
     ]
    },
    {
     "cell_type": "code",
     "collapsed": false,
     "input": [
      "yleft = np.dot(c_xy.T, np.linalg.solve(c_xx,c_xy))"
     ],
     "language": "python",
     "metadata": {},
     "outputs": [],
     "prompt_number": 56
    },
    {
     "cell_type": "heading",
     "level": 3,
     "metadata": {},
     "source": [
      "\u53f3\u8fba yright = B"
     ]
    },
    {
     "cell_type": "code",
     "collapsed": false,
     "input": [
      "yright = c_yy"
     ],
     "language": "python",
     "metadata": {},
     "outputs": [],
     "prompt_number": 57
    },
    {
     "cell_type": "heading",
     "level": 3,
     "metadata": {},
     "source": [
      "\u4e00\u822c\u5316\u56fa\u6709\u5024\u554f\u984c\u3092\u89e3\u304f"
     ]
    },
    {
     "cell_type": "code",
     "collapsed": false,
     "input": [
      "y_eig_dim = min([np.linalg.matrix_rank(yleft), np.linalg.matrix_rank(yright)])"
     ],
     "language": "python",
     "metadata": {},
     "outputs": [],
     "prompt_number": 58
    },
    {
     "cell_type": "code",
     "collapsed": false,
     "input": [
      "y_eig_vals, y_eig_vecs = eig(yleft, yright)"
     ],
     "language": "python",
     "metadata": {},
     "outputs": [],
     "prompt_number": 59
    },
    {
     "cell_type": "code",
     "collapsed": false,
     "input": [
      "y_sort_indices = np.argsort(y_eig_vals)[::-1]"
     ],
     "language": "python",
     "metadata": {},
     "outputs": [],
     "prompt_number": 60
    },
    {
     "cell_type": "code",
     "collapsed": false,
     "input": [
      "y_eig_vals_sort = y_eig_vals[y_sort_indices][:y_eig_dim].real"
     ],
     "language": "python",
     "metadata": {},
     "outputs": [],
     "prompt_number": 61
    },
    {
     "cell_type": "code",
     "collapsed": false,
     "input": [
      "y_eig_vecs_sort= y_eig_vecs[:,y_sort_indices][:,:y_eig_dim].real"
     ],
     "language": "python",
     "metadata": {},
     "outputs": [],
     "prompt_number": 62
    },
    {
     "cell_type": "heading",
     "level": 3,
     "metadata": {},
     "source": [
      "\u6b63\u898f\u5316"
     ]
    },
    {
     "cell_type": "code",
     "collapsed": false,
     "input": [
      "y_var = np.dot(y_eig_vecs_sort.T, np.dot(yright, y_eig_vecs_sort))"
     ],
     "language": "python",
     "metadata": {},
     "outputs": [],
     "prompt_number": 63
    },
    {
     "cell_type": "code",
     "collapsed": false,
     "input": [
      "y_invvar = np.diag(np.reciprocal(np.sqrt(np.diag(y_var))))"
     ],
     "language": "python",
     "metadata": {},
     "outputs": [],
     "prompt_number": 64
    },
    {
     "cell_type": "code",
     "collapsed": false,
     "input": [
      "y_eig_vecs_reg = np.dot(y_eig_vecs_sort, y_invvar)"
     ],
     "language": "python",
     "metadata": {},
     "outputs": [],
     "prompt_number": 65
    },
    {
     "cell_type": "code",
     "collapsed": false,
     "input": [
      "(np.dot(y_eig_vecs_reg.T,  np.dot(yright,  y_eig_vecs_reg))).round().astype(int)"
     ],
     "language": "python",
     "metadata": {},
     "outputs": [
      {
       "metadata": {},
       "output_type": "pyout",
       "prompt_number": 66,
       "text": [
        "array([[1, 0, 0, 0, 0, 0, 0, 0, 0, 0, 0, 0, 0, 0, 0, 0, 0, 0, 0],\n",
        "       [0, 1, 0, 0, 0, 0, 0, 0, 0, 0, 0, 0, 0, 0, 0, 0, 0, 0, 0],\n",
        "       [0, 0, 1, 0, 0, 0, 0, 0, 0, 0, 0, 0, 0, 0, 0, 0, 0, 0, 0],\n",
        "       [0, 0, 0, 1, 0, 0, 0, 0, 0, 0, 0, 0, 0, 0, 0, 0, 0, 0, 0],\n",
        "       [0, 0, 0, 0, 1, 0, 0, 0, 0, 0, 0, 0, 0, 0, 0, 0, 0, 0, 0],\n",
        "       [0, 0, 0, 0, 0, 1, 0, 0, 0, 0, 0, 0, 0, 0, 0, 0, 0, 0, 0],\n",
        "       [0, 0, 0, 0, 0, 0, 1, 0, 0, 0, 0, 0, 0, 0, 0, 0, 0, 0, 0],\n",
        "       [0, 0, 0, 0, 0, 0, 0, 1, 0, 0, 0, 0, 0, 0, 0, 0, 0, 0, 0],\n",
        "       [0, 0, 0, 0, 0, 0, 0, 0, 1, 0, 0, 0, 0, 0, 0, 0, 0, 0, 0],\n",
        "       [0, 0, 0, 0, 0, 0, 0, 0, 0, 1, 0, 0, 0, 0, 0, 0, 0, 0, 0],\n",
        "       [0, 0, 0, 0, 0, 0, 0, 0, 0, 0, 1, 0, 0, 0, 0, 0, 0, 0, 0],\n",
        "       [0, 0, 0, 0, 0, 0, 0, 0, 0, 0, 0, 1, 0, 0, 0, 0, 0, 0, 0],\n",
        "       [0, 0, 0, 0, 0, 0, 0, 0, 0, 0, 0, 0, 1, 0, 0, 0, 0, 0, 0],\n",
        "       [0, 0, 0, 0, 0, 0, 0, 0, 0, 0, 0, 0, 0, 1, 0, 0, 0, 0, 0],\n",
        "       [0, 0, 0, 0, 0, 0, 0, 0, 0, 0, 0, 0, 0, 0, 1, 0, 0, 0, 0],\n",
        "       [0, 0, 0, 0, 0, 0, 0, 0, 0, 0, 0, 0, 0, 0, 0, 1, 0, 0, 0],\n",
        "       [0, 0, 0, 0, 0, 0, 0, 0, 0, 0, 0, 0, 0, 0, 0, 0, 1, 0, 0],\n",
        "       [0, 0, 0, 0, 0, 0, 0, 0, 0, 0, 0, 0, 0, 0, 0, 0, 0, 1, 0],\n",
        "       [0, 0, 0, 0, 0, 0, 0, 0, 0, 0, 0, 0, 0, 0, 0, 0, 0, 0, 1]])"
       ]
      }
     ],
     "prompt_number": 66
    },
    {
     "cell_type": "heading",
     "level": 2,
     "metadata": {},
     "source": [
      "\u4e00\u65b9\u306e\u56fa\u6709\u30d9\u30af\u30c8\u30eb\u304b\u3089\u4ed6\u65b9\u306e\u56fa\u6709\u30d9\u30af\u30c8\u30eb\u3092\u3082\u3068\u3081\u308b"
     ]
    },
    {
     "cell_type": "code",
     "collapsed": false,
     "input": [
      "(1 / np.sqrt(x_eig_vals_sort[0]))"
     ],
     "language": "python",
     "metadata": {},
     "outputs": [
      {
       "metadata": {},
       "output_type": "pyout",
       "prompt_number": 67,
       "text": [
        "1.0322071824071466"
       ]
      }
     ],
     "prompt_number": 67
    },
    {
     "cell_type": "code",
     "collapsed": false,
     "input": [
      "\"%s x %s x %s\" % (np.linalg.inv(c_yy).shape, c_xy.T.shape, x_eig_vecs_reg.shape[0])"
     ],
     "language": "python",
     "metadata": {},
     "outputs": [
      {
       "metadata": {},
       "output_type": "pyout",
       "prompt_number": 68,
       "text": [
        "'(40, 40) x (40, 30) x 30'"
       ]
      }
     ],
     "prompt_number": 68
    },
    {
     "cell_type": "markdown",
     "metadata": {},
     "source": [
      "\u8a08\u7b97\u6642\u306e\u5404\u884c\u5217\u306e\u6b21\u5143\u6570\u304c\u6b63\u3057\u304f\u63c3\u3063\u3066\u3044\u308b\u3053\u3068\u3092\u78ba\u8a8d"
     ]
    },
    {
     "cell_type": "code",
     "collapsed": false,
     "input": [
      "y_eig_vecs_by_x = (1 / np.sqrt(x_eig_vals_sort[0])) * np.linalg.solve(c_yy , np.dot(c_xy.T, x_eig_vecs_reg.shape[0]))"
     ],
     "language": "python",
     "metadata": {},
     "outputs": [],
     "prompt_number": 69
    },
    {
     "cell_type": "code",
     "collapsed": false,
     "input": [
      "y_eig_vecs_reg.shape"
     ],
     "language": "python",
     "metadata": {},
     "outputs": [
      {
       "metadata": {},
       "output_type": "pyout",
       "prompt_number": 70,
       "text": [
        "(40, 19)"
       ]
      }
     ],
     "prompt_number": 70
    },
    {
     "cell_type": "code",
     "collapsed": false,
     "input": [
      "y_eig_vecs_by_x.shape"
     ],
     "language": "python",
     "metadata": {},
     "outputs": [
      {
       "metadata": {},
       "output_type": "pyout",
       "prompt_number": 71,
       "text": [
        "(40, 30)"
       ]
      }
     ],
     "prompt_number": 71
    },
    {
     "cell_type": "code",
     "collapsed": false,
     "input": [
      "y_eig_vecs_reg"
     ],
     "language": "python",
     "metadata": {},
     "outputs": [
      {
       "metadata": {},
       "output_type": "pyout",
       "prompt_number": 72,
       "text": [
        "array([[ -6.90097787e-02,   6.08718316e-01,   1.40942794e-03,\n",
        "         -1.85780411e-01,  -5.79764331e-01,   1.61746826e-02,\n",
        "         -1.82714703e-01,   1.52819562e-02,  -2.89030786e-01,\n",
        "          3.68233240e-01,  -1.85989310e+00,   2.93853856e-01,\n",
        "         -8.00602751e-01,  -1.09377275e+00,  -9.24854356e-01,\n",
        "         -5.18286882e-01,  -5.64420277e-02,   4.54423107e-02,\n",
        "          3.84072921e-01],\n",
        "       [ -3.38334102e-01,  -2.36398605e-01,  -2.69104842e-01,\n",
        "          7.59551575e-01,   1.00616647e-02,  -4.76686866e-02,\n",
        "         -1.99665067e-01,  -7.14981999e-01,  -1.38294853e-01,\n",
        "          7.36889634e-02,  -3.89649591e-01,   2.39430314e-01,\n",
        "          5.31439309e-02,   9.61845054e-02,  -6.60322871e-01,\n",
        "          5.06970427e-01,   3.96795590e-01,  -4.21477356e-01,\n",
        "          4.34642897e-01],\n",
        "       [  8.53498743e-02,  -2.82863696e-01,  -5.17775789e-02,\n",
        "          4.28960763e-01,   3.07033948e-01,   4.30102342e-03,\n",
        "         -2.65569866e-01,  -1.08205457e-02,  -8.32638073e-01,\n",
        "         -5.88350788e-01,  -6.75534903e-01,   5.89727090e-01,\n",
        "          8.47010720e-01,  -9.57356043e-01,  -4.60962262e-01,\n",
        "         -1.33661610e-01,  -6.80020069e-01,  -8.72702158e-01,\n",
        "         -9.15179992e-01],\n",
        "       [  1.48551243e-01,   5.96989561e-01,  -3.98351274e-01,\n",
        "         -4.20635532e-01,  -3.69015901e-01,  -6.45350642e-02,\n",
        "         -1.00836681e-01,   1.52006581e-01,   4.80719007e-02,\n",
        "         -2.61778100e-01,   1.20036734e+00,  -9.68410432e-02,\n",
        "         -1.96533681e-01,   3.91652134e-01,  -8.19032846e-01,\n",
        "         -6.38906598e-01,  -1.46808811e-01,   5.04493160e-01,\n",
        "          1.31463578e-01],\n",
        "       [ -2.66509735e-01,  -5.37265110e-01,   3.43509806e-01,\n",
        "         -3.04977030e-01,  -1.41157938e+00,  -8.83204338e-02,\n",
        "          3.27730387e-01,   3.25679972e-01,  -1.06886553e-01,\n",
        "         -4.81494086e-01,  -4.19340794e-01,  -4.58540353e-01,\n",
        "         -2.93928861e-02,   1.05173058e+00,   7.93902153e-01,\n",
        "         -1.53564942e+00,  -1.01002984e-01,   4.40849429e-02,\n",
        "          6.69934404e-01],\n",
        "       [ -2.98975553e-01,   1.78566945e-01,  -7.05214157e-02,\n",
        "         -1.55488855e-01,  -3.16656552e-01,  -2.02662136e-01,\n",
        "          5.41442813e-01,  -1.84310271e-01,   4.34142775e-01,\n",
        "         -7.59117468e-01,   1.77371881e-01,  -4.54146611e-01,\n",
        "          1.05591610e-01,  -8.42672703e-02,   2.43952409e-01,\n",
        "          1.33593591e-01,   7.97214102e-01,   1.44020732e-01,\n",
        "         -5.93257682e-02],\n",
        "       [  2.85577963e-01,   1.84575908e-01,   2.42973339e-01,\n",
        "          2.59960022e-01,   5.71821345e-01,   8.35333153e-01,\n",
        "         -1.00452488e-01,   2.69497243e-01,   2.26459456e-01,\n",
        "          9.28270329e-01,  -1.25858527e-01,  -6.96048865e-01,\n",
        "         -7.73264610e-01,   5.96552454e-01,   8.35538047e-01,\n",
        "         -1.29551428e+00,   6.42931124e-02,   2.93067176e-01,\n",
        "          8.89530127e-01],\n",
        "       [ -1.58406244e-01,   4.86660320e-01,   5.19465725e-01,\n",
        "          7.27179371e-02,   1.07555355e-02,  -7.44550243e-02,\n",
        "         -4.18662205e-01,  -6.91631062e-02,  -1.69539719e-02,\n",
        "          2.16246603e-01,  -1.91354476e-01,  -3.51463624e-01,\n",
        "         -2.19772574e-01,  -5.47122172e-01,  -6.58312435e-02,\n",
        "          4.74694465e-02,  -3.89365321e-01,   7.55760209e-03,\n",
        "         -3.67657893e-01],\n",
        "       [  1.49587740e-01,   2.44694911e-01,   3.99075789e-03,\n",
        "          2.37462500e-02,   1.14366764e-01,   4.18156541e-02,\n",
        "          5.53448649e-01,  -7.20508944e-01,   2.89954859e-01,\n",
        "         -2.37156278e-01,  -8.71326887e-02,  -2.11620021e-01,\n",
        "          1.59112847e-02,  -1.38447986e+00,  -6.07617940e-02,\n",
        "         -8.25712148e-01,   2.56025134e-01,   4.23191067e-01,\n",
        "          1.08186126e-01],\n",
        "       [ -3.74860397e-01,   1.46999469e-02,  -3.01348214e-01,\n",
        "          8.40045042e-01,   2.34379943e-01,  -1.42513025e-01,\n",
        "          1.84265259e-01,  -6.27240207e-01,   7.36032045e-01,\n",
        "         -1.12281199e-01,   3.05572886e-01,  -4.21436487e-01,\n",
        "          3.30775947e-02,  -3.23897855e-01,   6.39358386e-02,\n",
        "         -4.39377971e-01,  -5.30412497e-01,   4.89852274e-02,\n",
        "         -7.70344727e-01],\n",
        "       [ -3.80728345e-01,  -1.45989553e-01,   4.35877070e-02,\n",
        "          1.95568443e-01,  -3.74685774e-01,   2.58337923e-02,\n",
        "         -3.79645104e-01,  -5.10911973e-01,  -3.14743320e-01,\n",
        "          2.14238201e-01,   3.32278402e-01,   3.44815477e-04,\n",
        "          8.03854133e-02,   1.33913759e-01,   5.66633408e-01,\n",
        "          7.93462677e-02,  -3.20285053e-01,  -4.46949517e-01,\n",
        "         -1.11156073e+00],\n",
        "       [ -5.73257638e-01,   2.84052963e-01,  -1.21152625e-01,\n",
        "         -9.15774604e-02,   4.33550999e-01,   1.29666460e-01,\n",
        "         -2.37943934e-01,   3.40521715e-01,   4.04695438e-01,\n",
        "          2.21952110e-01,  -6.47566651e-01,   2.59687809e-01,\n",
        "         -1.16439101e+00,  -1.70303538e-01,  -7.61964098e-01,\n",
        "          2.77804120e-01,   7.31059435e-01,   8.69822264e-01,\n",
        "          9.28984295e-02],\n",
        "       [ -4.17180234e-01,  -2.32305911e-01,  -8.75429654e-02,\n",
        "         -9.13995245e-01,   2.35811229e-01,  -1.42207180e-01,\n",
        "         -2.31794490e-01,   3.84136040e-01,  -3.93921593e-01,\n",
        "          3.40377283e-01,   6.24853554e-01,  -1.40320281e-01,\n",
        "         -5.51100222e-01,  -6.93896053e-01,  -4.73333991e-01,\n",
        "         -4.66251322e-01,   6.52944157e-01,  -3.56544272e-01,\n",
        "         -2.85447345e-01],\n",
        "       [ -1.48667885e-01,   9.29991451e-03,  -3.16757568e-01,\n",
        "          2.36074541e-01,  -1.66041737e-01,   6.86219338e-01,\n",
        "          1.30880029e-01,  -3.83108934e-01,  -1.33445055e+00,\n",
        "          1.89307991e-01,   4.01339762e-01,   2.03988932e-01,\n",
        "         -1.02156496e+00,   1.03469567e-01,   9.75630992e-02,\n",
        "         -1.83323352e+00,   1.23121922e-01,   9.50377705e-01,\n",
        "         -5.64530237e-01],\n",
        "       [  3.57226404e-01,  -4.70458684e-01,   4.29122481e-01,\n",
        "         -8.18475175e-02,   2.28565254e-01,  -3.52442298e-01,\n",
        "         -5.72649707e-01,  -1.33778096e-01,   3.51323727e-01,\n",
        "         -8.99694044e-01,  -4.87566182e-02,  -6.91091570e-01,\n",
        "         -4.61815063e-01,  -1.60838143e+00,   6.98479191e-02,\n",
        "         -8.41525418e-01,  -3.11445487e-01,   8.16434174e-01,\n",
        "          1.46161421e+00],\n",
        "       [  1.29725970e-01,  -6.11189753e-03,   9.11118709e-03,\n",
        "          2.89296364e-01,   2.88118264e-01,   8.52465242e-01,\n",
        "          9.37423962e-01,  -1.06754637e-01,  -3.83628589e-01,\n",
        "         -7.13979401e-01,   3.51711383e-01,   9.62032966e-01,\n",
        "         -2.60091097e-01,   7.14600758e-01,  -1.45521099e+00,\n",
        "          2.28024590e-01,  -1.02075281e+00,  -2.75402810e-01,\n",
        "         -7.67097710e-01],\n",
        "       [ -2.49052517e-01,   5.86163201e-02,  -3.67190630e-01,\n",
        "         -1.46632183e-01,   5.61411307e-01,  -8.29214626e-01,\n",
        "          1.08237933e+00,  -3.37924190e-01,  -8.71390420e-02,\n",
        "          2.01917834e-01,  -3.24248194e-01,  -7.96802360e-01,\n",
        "         -4.58282392e-01,   2.68767703e-01,  -5.37322697e-01,\n",
        "         -7.14907811e-01,  -3.59717706e-01,  -3.16609907e-02,\n",
        "         -4.33548692e-02],\n",
        "       [ -1.33482239e-01,   3.45619442e-01,  -4.77549706e-02,\n",
        "          7.53943974e-01,  -4.15631044e-01,  -4.80737414e-01,\n",
        "          7.85790387e-02,  -3.82249521e-01,   4.25208538e-02,\n",
        "         -5.19166258e-01,   6.88883820e-01,   4.70489561e-01,\n",
        "         -6.78329075e-02,  -7.02964859e-01,   1.06169288e+00,\n",
        "         -4.60002384e-03,  -5.41236637e-01,  -4.11539309e-01,\n",
        "         -6.02463439e-01],\n",
        "       [ -6.27889440e-02,   9.38980571e-02,  -1.83908238e-01,\n",
        "         -1.57506267e-01,   2.64278655e-01,   1.44975774e-01,\n",
        "          3.96320941e-01,   5.50369453e-01,   7.86921653e-01,\n",
        "          6.35844849e-01,   1.26976881e-01,   2.10130872e-01,\n",
        "          4.61266275e-01,  -1.48255836e+00,  -7.16967328e-02,\n",
        "         -5.93665027e-01,   4.75937525e-02,  -2.93443140e-02,\n",
        "         -1.33873276e-01],\n",
        "       [ -1.37189679e-01,  -7.90336226e-02,   2.90136380e-01,\n",
        "         -1.58124819e-01,   7.57785640e-01,  -6.20067752e-01,\n",
        "          1.04166803e-01,   8.48878422e-02,  -2.51442067e-01,\n",
        "          2.52847136e-01,   4.11881365e-01,   5.86495847e-01,\n",
        "          7.69603468e-02,   5.57941023e-01,   8.55367163e-01,\n",
        "         -2.98773634e-01,   1.32647941e-01,  -1.88830412e-01,\n",
        "          2.71374668e-01],\n",
        "       [ -3.59357408e-01,   2.41526681e-01,  -9.62017249e-02,\n",
        "         -2.73787545e-01,   1.90505173e-01,   2.77367865e-01,\n",
        "         -9.60470047e-01,  -8.93237241e-01,   6.85969352e-02,\n",
        "          4.62203256e-01,   2.75569688e-01,   7.31698447e-01,\n",
        "          5.09645278e-01,  -6.44281654e-02,   5.32892763e-02,\n",
        "          1.14960404e-01,  -3.37871331e-01,  -1.21643144e-01,\n",
        "         -3.93297712e-01],\n",
        "       [  3.71665906e-01,  -2.42030200e-01,  -2.77172674e-01,\n",
        "          1.77916005e-02,  -2.77000719e-01,  -2.91541301e-01,\n",
        "          5.54638953e-01,  -5.97130218e-01,   1.39633991e-01,\n",
        "         -2.45713073e-01,  -2.66468440e-01,  -2.00000240e-02,\n",
        "         -7.65654709e-01,   7.09913519e-01,   1.01743583e-01,\n",
        "         -5.27140781e-01,   8.67850659e-02,   5.17083588e-01,\n",
        "         -4.13804783e-01],\n",
        "       [ -2.11886721e-01,  -1.16946659e-01,   8.89833321e-01,\n",
        "         -5.75003980e-02,  -3.61062910e-01,   2.87485116e-01,\n",
        "          6.28586890e-01,  -2.16687973e-01,  -2.45625769e-01,\n",
        "          2.51139725e-01,   5.00615195e-01,  -7.35219034e-03,\n",
        "          5.75369908e-01,  -2.64922948e-01,  -2.98428820e-02,\n",
        "          9.37926651e-01,   5.20837544e-01,  -3.89587364e-01,\n",
        "         -5.93974087e-01],\n",
        "       [  1.72149937e-01,   1.73920054e-01,  -6.98615109e-01,\n",
        "          6.42008692e-03,   3.46222740e-01,  -2.16123367e-01,\n",
        "         -2.60244338e-01,   4.67405198e-01,  -2.10417900e-01,\n",
        "         -6.62177637e-01,  -1.00682058e-01,  -2.19838914e-01,\n",
        "          2.79415472e-01,  -3.99568197e-01,   8.03890053e-01,\n",
        "          3.95793008e-01,  -6.81936467e-01,  -2.39934690e-02,\n",
        "         -9.78872730e-03],\n",
        "       [  1.85645169e-01,  -6.64574292e-01,   1.30615011e-02,\n",
        "         -4.77183692e-01,  -3.32477202e-01,  -6.60432808e-01,\n",
        "          3.66333737e-01,   1.09432555e-01,   3.01864099e-01,\n",
        "          1.06653965e+00,  -2.77098095e-01,   2.84161876e-01,\n",
        "          4.78777246e-01,  -7.71271416e-01,  -1.61015989e+00,\n",
        "          1.03840523e+00,   6.43216265e-01,   5.18527318e-01,\n",
        "         -6.17514534e-01],\n",
        "       [  4.63617775e-01,  -1.24224728e-01,  -5.57590296e-03,\n",
        "          7.65554445e-01,  -1.77665060e-01,   5.68399997e-01,\n",
        "         -2.02974655e-01,   5.88257188e-02,   2.50664266e-01,\n",
        "          8.30800321e-02,   1.63370588e-01,   3.30698434e-01,\n",
        "         -8.12832472e-01,  -1.31488812e-01,  -6.86240545e-01,\n",
        "         -1.77616424e-01,   5.72390554e-01,   2.57950356e-01,\n",
        "         -5.91252590e-01],\n",
        "       [  4.10247078e-01,   3.01074457e-01,   2.94921385e-01,\n",
        "          3.47083936e-01,   1.39266063e-01,  -8.57246514e-01,\n",
        "         -5.49905012e-01,  -7.02017285e-01,   2.17447895e-01,\n",
        "          1.71671608e-01,   1.05765471e+00,   2.99529857e-01,\n",
        "         -3.49631522e-01,  -2.21508092e-01,  -1.01702142e-01,\n",
        "          3.06645799e-01,   1.26935265e-01,  -8.32959943e-02,\n",
        "          2.81290217e-01],\n",
        "       [  7.35713731e-02,  -2.36773886e-01,   3.86839869e-02,\n",
        "         -3.56107439e-01,   1.16274271e-01,   2.91054783e-01,\n",
        "         -9.36673946e-01,  -1.22323675e+00,  -3.93847585e-01,\n",
        "          1.13977392e-01,  -2.25953996e-01,   5.63547236e-02,\n",
        "         -9.15825961e-01,  -7.31001606e-01,  -4.40466300e-01,\n",
        "          1.92554844e-01,   6.03013460e-02,  -5.93129876e-01,\n",
        "         -8.59605822e-02],\n",
        "       [ -6.42913740e-01,  -1.02711304e-01,   1.69694753e-02,\n",
        "          1.44659405e-01,  -1.25320101e-01,  -5.79767003e-02,\n",
        "          9.99018708e-02,   4.10586152e-01,  -3.36289875e-01,\n",
        "          4.40173560e-01,   5.30764573e-01,  -3.48792269e-01,\n",
        "          3.89269032e-01,   1.28175403e-01,  -6.10452926e-01,\n",
        "         -8.50636408e-01,   4.22429582e-01,  -7.74096831e-02,\n",
        "          4.86555382e-02],\n",
        "       [  3.25148328e-01,   4.55760705e-02,   3.57498727e-01,\n",
        "         -4.56365302e-01,   3.35041143e-01,   6.87637375e-01,\n",
        "          4.01573330e-01,  -3.38402142e-01,  -3.18899954e-01,\n",
        "         -5.81499501e-01,  -5.53936744e-01,  -2.47098091e-01,\n",
        "          3.25722381e-01,   2.26481861e-01,   5.87555498e-02,\n",
        "          8.39470717e-01,  -3.15017804e-01,  -6.53855505e-01,\n",
        "         -1.08293089e+00],\n",
        "       [  9.63265335e-02,   7.35699542e-02,   4.63527194e-01,\n",
        "         -3.83115702e-02,  -1.37366312e-01,  -3.30561559e-01,\n",
        "         -7.06802529e-01,   1.12736650e-01,   5.53097428e-01,\n",
        "         -3.16156300e-01,  -9.25590899e-01,   9.78795585e-02,\n",
        "         -6.91397726e-01,  -3.01525164e-01,  -5.78451504e-04,\n",
        "          8.94668760e-02,  -9.77458825e-02,   6.10814806e-01,\n",
        "         -2.20908181e-01],\n",
        "       [  9.12985112e-02,   1.28377664e-01,   1.42215400e-01,\n",
        "         -1.04139418e-01,  -8.65494654e-01,  -8.62504193e-02,\n",
        "         -5.11215882e-01,  -1.04185564e-03,  -7.10001282e-01,\n",
        "          1.01692265e+00,   6.31054012e-01,  -4.00267454e-01,\n",
        "          3.95109676e-01,   6.70274957e-02,  -5.64970587e-01,\n",
        "         -1.42368769e-01,   1.61084263e-01,  -5.03137581e-01,\n",
        "         -7.49068380e-01],\n",
        "       [  1.03333280e-01,  -3.72596389e-01,  -2.61660294e-01,\n",
        "          3.91312345e-01,  -8.55588915e-02,   5.10040432e-01,\n",
        "          3.67257193e-01,  -2.77448455e-02,   3.77415971e-02,\n",
        "          3.14155489e-01,   3.97438991e-01,  -2.47968876e-01,\n",
        "          5.65521804e-01,  -1.47905536e+00,  -3.43549378e-01,\n",
        "         -2.94220878e-01,  -8.24464723e-01,   1.08000406e-01,\n",
        "         -3.03776472e-01],\n",
        "       [  3.02959732e-01,   1.87709041e-01,  -1.37381414e-01,\n",
        "          3.71347548e-01,  -5.45079013e-02,  -3.94700473e-01,\n",
        "          1.62863676e-01,   7.69967630e-01,  -6.79832579e-01,\n",
        "         -1.87600378e-01,  -5.19915335e-01,   1.73775423e-01,\n",
        "          1.16317222e-01,  -1.63502933e-02,   5.18532015e-02,\n",
        "          7.79192043e-01,   3.30550963e-01,  -1.25866662e-01,\n",
        "          2.31430872e-02],\n",
        "       [  5.08322640e-01,   2.00425191e-01,   7.61832486e-02,\n",
        "          2.29960601e-01,  -5.04255237e-01,  -3.26233875e-03,\n",
        "         -2.08294283e-01,   2.51861516e-01,  -4.50375633e-01,\n",
        "         -2.63657377e-02,  -2.09443811e-01,  -2.15592378e-01,\n",
        "         -7.71324526e-02,  -3.10852565e-01,  -1.66740593e-01,\n",
        "         -8.29685215e-02,   6.34618312e-01,  -8.30850642e-01,\n",
        "         -6.34282877e-01],\n",
        "       [  3.73505832e-01,   3.75947367e-01,  -3.57994549e-02,\n",
        "         -5.46502981e-01,   1.49005664e-01,  -2.90475753e-01,\n",
        "          2.58988594e-02,  -1.85582863e-01,  -3.17021697e-01,\n",
        "         -2.96303846e-02,   8.37350527e-01,  -3.58712621e-01,\n",
        "         -5.04506061e-01,   2.04052032e-01,  -7.24505198e-01,\n",
        "          3.76214916e-01,   3.51931071e-01,   1.97923504e-01,\n",
        "          3.10440700e-01],\n",
        "       [  1.39566305e-01,  -1.23625849e-01,   3.89879998e-01,\n",
        "          1.11488579e-01,   4.24765267e-01,   1.07625426e-01,\n",
        "          1.45904589e-01,  -3.12860780e-01,   5.10642242e-01,\n",
        "         -5.70249926e-01,   2.84391356e-01,  -7.73306165e-01,\n",
        "         -3.86506009e-01,   2.50874256e-01,   1.32200653e-01,\n",
        "         -4.81222694e-02,   1.04169598e+00,   4.10023231e-01,\n",
        "         -3.13178252e-01],\n",
        "       [ -4.10449777e-01,  -3.96043058e-01,  -3.83853108e-01,\n",
        "         -2.86683313e-02,  -3.46840477e-01,   2.06889558e-01,\n",
        "         -3.67986601e-01,   7.99749515e-02,   5.92654751e-01,\n",
        "         -1.99366272e-01,   3.32255608e-01,   1.97134692e-01,\n",
        "          3.24561955e-01,  -3.86612305e-01,   1.13674917e+00,\n",
        "          1.26095660e+00,  -3.13362527e-01,  -1.36686349e+00,\n",
        "         -1.81994318e-02],\n",
        "       [  1.16260369e-01,   1.69521046e-01,   4.96578283e-01,\n",
        "          8.90729882e-03,  -2.87622075e-02,  -3.48414766e-01,\n",
        "          2.67036177e-01,  -1.14682993e-01,   3.83985967e-01,\n",
        "         -5.82170179e-02,   1.18346475e-02,  -8.82197159e-02,\n",
        "         -5.64511485e-01,  -9.09371047e-01,   3.47965503e-03,\n",
        "         -5.15342228e-01,  -5.16397374e-01,   2.81935578e-02,\n",
        "          4.42881972e-01],\n",
        "       [ -2.68517718e-01,  -2.85693297e-01,   7.15548859e-02,\n",
        "          4.03237320e-01,  -6.01926796e-01,  -3.89446336e-01,\n",
        "          1.97880740e-03,  -6.57448755e-02,   5.47352378e-02,\n",
        "          1.02763963e-01,   2.59825056e-01,  -8.17609848e-01,\n",
        "         -4.68478714e-01,   1.08140011e-01,   3.57034839e-01,\n",
        "         -7.82313021e-01,   2.33758260e-01,   1.05124409e+00,\n",
        "          7.31630984e-01]])"
       ]
      }
     ],
     "prompt_number": 72
    },
    {
     "cell_type": "code",
     "collapsed": false,
     "input": [
      "y_eig_vecs_by_x"
     ],
     "language": "python",
     "metadata": {},
     "outputs": [
      {
       "metadata": {},
       "output_type": "pyout",
       "prompt_number": 73,
       "text": [
        "array([[ -2.2217964 ,  -2.88590423,  -6.56352712, ...,  10.4285578 ,\n",
        "        -12.58496583,  -4.16627893],\n",
        "       [  4.17159549,  -7.80334197,   0.21458276, ...,   2.02908983,\n",
        "          3.17982116,  -5.77270844],\n",
        "       [  5.82285248,  -3.37279771,  -4.92914397, ...,   2.27016169,\n",
        "          4.12342382,  -1.3629757 ],\n",
        "       ..., \n",
        "       [  3.89557601,  -2.66459062,  -0.51202709, ...,  -5.92623025,\n",
        "          0.7095336 ,  -2.9381752 ],\n",
        "       [ -2.4357935 ,   1.61139806,  -4.88782798, ...,  -1.63699331,\n",
        "         -2.49358654,   0.02715495],\n",
        "       [ -1.60504546,   1.56030853,   4.25782115, ...,   0.0849614 ,\n",
        "         -1.03598195,  -3.85289655]])"
       ]
      }
     ],
     "prompt_number": 73
    },
    {
     "cell_type": "markdown",
     "metadata": {},
     "source": [
      "y_eig_vecs_reg\u3068y_eig_vecs_by_x\u304c\u5168\u7136\u4e00\u81f4\u3057\u3066\u3044\u306a\u3044\u3051\u3069\u30fb\u30fb\u30fb\u6c57"
     ]
    },
    {
     "cell_type": "heading",
     "level": 2,
     "metadata": {},
     "source": [
      "\u5909\u63db\u3092\u884c\u3046"
     ]
    },
    {
     "cell_type": "code",
     "collapsed": false,
     "input": [
      "n_components = 2"
     ],
     "language": "python",
     "metadata": {},
     "outputs": [],
     "prompt_number": 74
    },
    {
     "cell_type": "code",
     "collapsed": false,
     "input": [
      "x_projected = np.dot(x, x_eig_vecs_reg[:,:n_components])"
     ],
     "language": "python",
     "metadata": {},
     "outputs": [],
     "prompt_number": 75
    },
    {
     "cell_type": "code",
     "collapsed": false,
     "input": [
      "y_projected = np.dot(y, y_eig_vecs_reg[:,:n_components])"
     ],
     "language": "python",
     "metadata": {},
     "outputs": [],
     "prompt_number": 76
    },
    {
     "cell_type": "code",
     "collapsed": false,
     "input": [
      "x_projected.shape"
     ],
     "language": "python",
     "metadata": {},
     "outputs": [
      {
       "metadata": {},
       "output_type": "pyout",
       "prompt_number": 77,
       "text": [
        "(20, 2)"
       ]
      }
     ],
     "prompt_number": 77
    },
    {
     "cell_type": "code",
     "collapsed": false,
     "input": [
      "y_projected.shape"
     ],
     "language": "python",
     "metadata": {},
     "outputs": [
      {
       "metadata": {},
       "output_type": "pyout",
       "prompt_number": 78,
       "text": [
        "(20, 2)"
       ]
      }
     ],
     "prompt_number": 78
    },
    {
     "cell_type": "code",
     "collapsed": false,
     "input": [
      "import matplotlib.pyplot as plt"
     ],
     "language": "python",
     "metadata": {},
     "outputs": [],
     "prompt_number": 79
    },
    {
     "cell_type": "code",
     "collapsed": false,
     "input": [
      "plt.plot(x_projected[:,0], x_projected[:,1], 'xb')"
     ],
     "language": "python",
     "metadata": {},
     "outputs": [
      {
       "metadata": {},
       "output_type": "pyout",
       "prompt_number": 90,
       "text": [
        "[<matplotlib.lines.Line2D at 0x7f1f6e3e8250>]"
       ]
      },
      {
       "metadata": {},
       "output_type": "display_data",
       "png": "[encoded data removed]",
       "text": [
        "<matplotlib.figure.Figure at 0x7f1f7037d1d0>"
       ]
      }
     ],
     "prompt_number": 90
    },
    {
     "cell_type": "code",
     "collapsed": false,
     "input": [
      "plt.plot(y_projected[:,0], y_projected[:,1], 'ob')"
     ],
     "language": "python",
     "metadata": {},
     "outputs": [
      {
       "metadata": {},
       "output_type": "pyout",
       "prompt_number": 92,
       "text": [
        "[<matplotlib.lines.Line2D at 0x7f1f6e2b9750>]"
       ]
      },
      {
       "metadata": {},
       "output_type": "display_data",
       "png": "[encoded data removed]",
       "text": [
        "<matplotlib.figure.Figure at 0x7f1f6e396850>"
       ]
      }
     ],
     "prompt_number": 92
    },
    {
     "cell_type": "markdown",
     "metadata": {},
     "source": [
      "\u306a\u3093\u304b\u3001\u3061\u3083\u3093\u3068\u4f3c\u305f\u3068\u3053\u308d\u306b\u4f3c\u305f\u70b9\u304c\u6765\u3066\u3044\u308b\u3088\u3046\u306b\u898b\u3048\u308b"
     ]
    },
    {
     "cell_type": "heading",
     "level": 3,
     "metadata": {},
     "source": [
      "\u5225\u306b\u6c42\u3081\u305f\u4fc2\u6570\u3067\u8a08\u7b97\u3057\u3066\u307f\u308b"
     ]
    },
    {
     "cell_type": "code",
     "collapsed": false,
     "input": [
      "x_projected_2 = np.dot(x, x_eig_vecs_reg[:,:n_components])"
     ],
     "language": "python",
     "metadata": {},
     "outputs": [],
     "prompt_number": 93
    },
    {
     "cell_type": "code",
     "collapsed": false,
     "input": [
      "y_projected_2 = np.dot(y, y_eig_vecs_by_x[:,:n_components])"
     ],
     "language": "python",
     "metadata": {},
     "outputs": [],
     "prompt_number": 94
    },
    {
     "cell_type": "code",
     "collapsed": false,
     "input": [
      "plt.plot(x_projected_2[:,0], x_projected[:,1], 'xb')"
     ],
     "language": "python",
     "metadata": {},
     "outputs": [
      {
       "metadata": {},
       "output_type": "pyout",
       "prompt_number": 95,
       "text": [
        "[<matplotlib.lines.Line2D at 0x7f1f6e1ed050>]"
       ]
      },
      {
       "metadata": {},
       "output_type": "display_data",
       "png": "[encoded data removed]",
       "text": [
        "<matplotlib.figure.Figure at 0x7f1f705163d0>"
       ]
      }
     ],
     "prompt_number": 95
    },
    {
     "cell_type": "code",
     "collapsed": false,
     "input": [
      "plt.plot(y_projected_2[:,0], y_projected_2[:,1], 'ob')"
     ],
     "language": "python",
     "metadata": {},
     "outputs": [
      {
       "metadata": {},
       "output_type": "pyout",
       "prompt_number": 96,
       "text": [
        "[<matplotlib.lines.Line2D at 0x7f1f6e128ad0>]"
       ]
      },
      {
       "metadata": {},
       "output_type": "display_data",
       "png": "[encoded data removed]",
       "text": [
        "<matplotlib.figure.Figure at 0x7f1f6e204750>"
       ]
      }
     ],
     "prompt_number": 96
    },
    {
     "cell_type": "markdown",
     "metadata": {},
     "source": [
      "\u30b9\u30b1\u30fc\u30eb\u3082\u5408\u3063\u3066\u306a\u3044\u3057\u3001\u5168\u7136\u91cd\u306a\u3063\u3066\u3044\u306a\u3044"
     ]
    },
    {
     "cell_type": "code",
     "collapsed": false,
     "input": [],
     "language": "python",
     "metadata": {},
     "outputs": []
    }
   ],
   "metadata": {}
  }
 ]
}