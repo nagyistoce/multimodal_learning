{
 "worksheets": [
  {
   "cells": [
    {
     "cell_type": "heading",
     "metadata": {},
     "level": 1,
     "source": [
      "CCAの計算"
     ]
    },
    {
     "cell_type": "heading",
     "metadata": {},
     "level": 2,
     "source": [
      "インポート"
     ]
    },
    {
     "cell_type": "code",
     "metadata": {},
     "outputs": [],
     "input": [
      "import numpy as np"
     ],
     "language": "python",
     "prompt_number": 3
    },
    {
     "cell_type": "heading",
     "metadata": {},
     "level": 2,
     "source": [
      "データの次元数の定義"
     ]
    },
    {
     "cell_type": "code",
     "metadata": {},
     "outputs": [],
     "input": [
      "p = 30; q = 40; n = 20"
     ],
     "language": "python",
     "prompt_number": 4
    },
    {
     "cell_type": "heading",
     "metadata": {},
     "level": 2,
     "source": [
      "データの準備"
     ]
    },
    {
     "cell_type": "code",
     "metadata": {},
     "outputs": [],
     "input": [
      "x = np.random.rand(n, p)"
     ],
     "language": "python",
     "prompt_number": 5
    },
    {
     "cell_type": "code",
     "metadata": {},
     "outputs": [],
     "input": [
      "y = np.random.rand(n, q)"
     ],
     "language": "python",
     "prompt_number": 6
    },
    {
     "cell_type": "code",
     "metadata": {},
     "outputs": [
      {
       "output_type": "pyout",
       "prompt_number": 7,
       "text": [
        "(20, 30)"
       ],
       "metadata": {}
      }
     ],
     "input": [
      "x.shape"
     ],
     "language": "python",
     "prompt_number": 7
    },
    {
     "cell_type": "markdown",
     "metadata": {},
     "source": [
      "n x p"
     ]
    },
    {
     "cell_type": "code",
     "metadata": {},
     "outputs": [
      {
       "output_type": "pyout",
       "prompt_number": 8,
       "text": [
        "(20, 40)"
       ],
       "metadata": {}
      }
     ],
     "input": [
      "y.shape"
     ],
     "language": "python",
     "prompt_number": 8
    },
    {
     "cell_type": "markdown",
     "metadata": {},
     "source": [
      "n x q"
     ]
    },
    {
     "cell_type": "heading",
     "metadata": {},
     "level": 2,
     "source": [
      "分散共分散の計算"
     ]
    },
    {
     "cell_type": "code",
     "metadata": {},
     "outputs": [],
     "input": [
      "z = np.vstack((x.T, y.T))"
     ],
     "language": "python",
     "prompt_number": 9
    },
    {
     "cell_type": "markdown",
     "metadata": {},
     "source": [
      "データを縦に並べる"
     ]
    },
    {
     "cell_type": "code",
     "metadata": {},
     "outputs": [
      {
       "output_type": "pyout",
       "prompt_number": 10,
       "text": [
        "(70, 20)"
       ],
       "metadata": {}
      }
     ],
     "input": [
      "z.shape"
     ],
     "language": "python",
     "prompt_number": 10
    },
    {
     "cell_type": "markdown",
     "metadata": {},
     "source": [
      "(p + q) x n"
     ]
    },
    {
     "cell_type": "code",
     "metadata": {},
     "outputs": [],
     "input": [
      "cov = np.cov(z)"
     ],
     "language": "python",
     "prompt_number": 11
    },
    {
     "cell_type": "code",
     "metadata": {},
     "outputs": [
      {
       "output_type": "pyout",
       "prompt_number": 12,
       "text": [
        "(70, 70)"
       ],
       "metadata": {}
      }
     ],
     "input": [
      "cov.shape"
     ],
     "language": "python",
     "prompt_number": 12
    },
    {
     "cell_type": "markdown",
     "metadata": {},
     "source": [
      "(p + q) x (p + q)"
     ]
    },
    {
     "cell_type": "markdown",
     "metadata": {},
     "source": [
      "70行すべての行同士の分散共分散行列を計算している\n",
      "\n",
      "http://docs.scipy.org/doc/numpy/reference/generated/numpy.cov.html"
     ]
    },
    {
     "cell_type": "code",
     "metadata": {},
     "outputs": [],
     "input": [
      "p_ = len(x.T)"
     ],
     "language": "python",
     "prompt_number": 13
    },
    {
     "cell_type": "code",
     "metadata": {},
     "outputs": [
      {
       "output_type": "pyout",
       "prompt_number": 14,
       "text": [
        "30"
       ],
       "metadata": {}
      }
     ],
     "input": [
      "p_"
     ],
     "language": "python",
     "prompt_number": 14
    },
    {
     "cell_type": "code",
     "metadata": {},
     "outputs": [],
     "input": [
      "c_xx = cov[:p, :p]"
     ],
     "language": "python",
     "prompt_number": 15
    },
    {
     "cell_type": "code",
     "metadata": {},
     "outputs": [],
     "input": [
      "c_yy = cov[p:, p:]"
     ],
     "language": "python",
     "prompt_number": 16
    },
    {
     "cell_type": "code",
     "metadata": {},
     "outputs": [],
     "input": [
      "c_xy = cov[:p, p:]"
     ],
     "language": "python",
     "prompt_number": 17
    },
    {
     "cell_type": "code",
     "metadata": {},
     "outputs": [
      {
       "output_type": "pyout",
       "prompt_number": 18,
       "text": [
        "(30, 30)"
       ],
       "metadata": {}
      }
     ],
     "input": [
      "c_xx.shape"
     ],
     "language": "python",
     "prompt_number": 18
    },
    {
     "cell_type": "markdown",
     "metadata": {},
     "source": [
      "p x p"
     ]
    },
    {
     "cell_type": "code",
     "metadata": {},
     "outputs": [
      {
       "output_type": "pyout",
       "prompt_number": 19,
       "text": [
        "(40, 40)"
       ],
       "metadata": {}
      }
     ],
     "input": [
      "c_yy.shape"
     ],
     "language": "python",
     "prompt_number": 19
    },
    {
     "cell_type": "markdown",
     "metadata": {},
     "source": [
      "q x q"
     ]
    },
    {
     "cell_type": "code",
     "metadata": {},
     "outputs": [
      {
       "output_type": "pyout",
       "prompt_number": 20,
       "text": [
        "(30, 40)"
       ],
       "metadata": {}
      }
     ],
     "input": [
      "c_xy.shape"
     ],
     "language": "python",
     "prompt_number": 20
    },
    {
     "cell_type": "markdown",
     "metadata": {},
     "source": [
      "p x q"
     ]
    },
    {
     "cell_type": "heading",
     "metadata": {},
     "level": 2,
     "source": [
      "正規化項を加える"
     ]
    },
    {
     "cell_type": "code",
     "metadata": {},
     "outputs": [],
     "input": [
      "reg_param=0.1"
     ],
     "language": "python",
     "prompt_number": 21
    },
    {
     "cell_type": "code",
     "metadata": {},
     "outputs": [],
     "input": [
      "c_xx += reg_param * np.average(np.diag(c_xx)) * np.eye(c_xx.shape[0])"
     ],
     "language": "python",
     "prompt_number": 22
    },
    {
     "cell_type": "code",
     "metadata": {},
     "outputs": [],
     "input": [
      "c_yy += reg_param * np.average(np.diag(c_yy)) * np.eye(c_yy.shape[0])"
     ],
     "language": "python",
     "prompt_number": 23
    },
    {
     "cell_type": "heading",
     "metadata": {},
     "level": 2,
     "source": [
      "一般化固有値問題の式の計算（式１）"
     ]
    },
    {
     "cell_type": "heading",
     "metadata": {},
     "level": 3,
     "source": [
      "左辺 xleft = A"
     ]
    },
    {
     "cell_type": "code",
     "metadata": {},
     "outputs": [],
     "input": [
      "xleft = np.dot(c_xy, np.linalg.solve(c_yy,c_xy.T))"
     ],
     "language": "python",
     "prompt_number": 24
    },
    {
     "cell_type": "markdown",
     "metadata": {},
     "source": [
      "S_xy x S_yy^(-1) x S_xy^T"
     ]
    },
    {
     "cell_type": "code",
     "metadata": {},
     "outputs": [
      {
       "output_type": "pyout",
       "prompt_number": 25,
       "text": [
        "(30, 30)"
       ],
       "metadata": {}
      }
     ],
     "input": [
      "xleft.shape"
     ],
     "language": "python",
     "prompt_number": 25
    },
    {
     "cell_type": "markdown",
     "metadata": {},
     "source": [
      "p x p\n",
      "\n",
      "逆行列を掛ける場合にはsloveを使ったほうが早い\n",
      "\n",
      "http://d.hatena.ne.jp/sleepy_yoshi/20120513/p1"
     ]
    },
    {
     "cell_type": "heading",
     "metadata": {},
     "level": 3,
     "source": [
      "右辺 xright = B"
     ]
    },
    {
     "cell_type": "code",
     "metadata": {},
     "outputs": [],
     "input": [
      "xright = c_xx"
     ],
     "language": "python",
     "prompt_number": 26
    },
    {
     "cell_type": "code",
     "metadata": {},
     "outputs": [
      {
       "output_type": "pyout",
       "prompt_number": 27,
       "text": [
        "(30, 30)"
       ],
       "metadata": {}
      }
     ],
     "input": [
      "xright.shape"
     ],
     "language": "python",
     "prompt_number": 27
    },
    {
     "cell_type": "heading",
     "metadata": {},
     "level": 3,
     "source": [
      "一般化固有値問題を解く"
     ]
    },
    {
     "cell_type": "code",
     "metadata": {},
     "outputs": [],
     "input": [
      "from scipy.linalg import eig"
     ],
     "language": "python",
     "prompt_number": 28
    },
    {
     "cell_type": "code",
     "metadata": {},
     "outputs": [],
     "input": [
      "x_eig_dim = min([np.linalg.matrix_rank(xleft), np.linalg.matrix_rank(xright)])"
     ],
     "language": "python",
     "prompt_number": 29
    },
    {
     "cell_type": "code",
     "metadata": {},
     "outputs": [
      {
       "output_type": "pyout",
       "prompt_number": 30,
       "text": [
        "19"
       ],
       "metadata": {}
      }
     ],
     "input": [
      "x_eig_dim"
     ],
     "language": "python",
     "prompt_number": 30
    },
    {
     "cell_type": "code",
     "metadata": {},
     "outputs": [],
     "input": [
      "x_eig_vals, x_eig_vecs = eig(xleft, xright)"
     ],
     "language": "python",
     "prompt_number": 31
    },
    {
     "cell_type": "markdown",
     "metadata": {},
     "source": [
      "引数を２つ与えると一般化固有値問題をもとめることができる\n",
      "\n",
      "http://docs.scipy.org/doc/scipy-0.13.0/reference/generated/scipy.linalg.eig.html"
     ]
    },
    {
     "cell_type": "code",
     "metadata": {},
     "outputs": [
      {
       "output_type": "pyout",
       "prompt_number": 32,
       "text": [
        "(30,)"
       ],
       "metadata": {}
      }
     ],
     "input": [
      "x_eig_vals.shape"
     ],
     "language": "python",
     "prompt_number": 32
    },
    {
     "cell_type": "code",
     "metadata": {},
     "outputs": [
      {
       "output_type": "pyout",
       "prompt_number": 33,
       "text": [
        "(30, 30)"
       ],
       "metadata": {}
      }
     ],
     "input": [
      "x_eig_vecs.shape"
     ],
     "language": "python",
     "prompt_number": 33
    },
    {
     "cell_type": "code",
     "metadata": {},
     "outputs": [],
     "input": [
      "x_sort_indices = np.argsort(x_eig_vals)[::-1]"
     ],
     "language": "python",
     "prompt_number": 34
    },
    {
     "cell_type": "code",
     "metadata": {},
     "outputs": [
      {
       "output_type": "pyout",
       "prompt_number": 35,
       "text": [
        "array([13, 14, 15, 16, 18, 17, 12, 11, 10,  9,  8,  7,  6,  5,  4,  3,  2,\n",
        "        1,  0, 23, 29, 24, 28, 25, 21, 26, 22, 20, 27, 19])"
       ],
       "metadata": {}
      }
     ],
     "input": [
      "x_sort_indices"
     ],
     "language": "python",
     "prompt_number": 35
    },
    {
     "cell_type": "code",
     "metadata": {},
     "outputs": [
      {
       "output_type": "pyout",
       "prompt_number": 36,
       "text": [
        "[4, 3, 2, 1]"
       ],
       "metadata": {}
      }
     ],
     "input": [
      "[1, 2, 3, 4][::-1]"
     ],
     "language": "python",
     "prompt_number": 36
    },
    {
     "cell_type": "code",
     "metadata": {},
     "outputs": [
      {
       "output_type": "pyout",
       "prompt_number": 37,
       "text": [
        "array([  9.36389664e-01+0.j,   9.29582553e-01+0.j,   9.26047384e-01+0.j,\n",
        "         9.15717188e-01+0.j,   9.09846047e-01+0.j,   9.06813498e-01+0.j,\n",
        "         8.83570248e-01+0.j,   8.73695109e-01+0.j,   8.63955610e-01+0.j,\n",
        "         8.52296955e-01+0.j,   8.37286090e-01+0.j,   8.13952934e-01+0.j,\n",
        "         8.02302047e-01+0.j,   7.83410139e-01+0.j,   7.32277346e-01+0.j,\n",
        "         7.22385660e-01+0.j,   6.96005795e-01+0.j,   4.98657008e-01+0.j,\n",
        "         4.40094931e-01+0.j,   1.55254854e-15+0.j,   8.61966475e-16+0.j,\n",
        "         4.78838507e-16+0.j,   2.36490554e-16+0.j,   1.00233690e-16+0.j,\n",
        "         5.95845443e-17+0.j,  -4.12353909e-16+0.j,  -4.85276171e-16+0.j,\n",
        "        -6.90513835e-16+0.j,  -7.78150269e-16+0.j,  -9.18463438e-16+0.j])"
       ],
       "metadata": {}
      }
     ],
     "input": [
      "x_eig_vals[x_sort_indices]"
     ],
     "language": "python",
     "prompt_number": 37
    },
    {
     "cell_type": "code",
     "metadata": {},
     "outputs": [
      {
       "output_type": "pyout",
       "prompt_number": 38,
       "text": [
        "array([ 0.93638966+0.j,  0.92958255+0.j,  0.92604738+0.j,  0.91571719+0.j,\n",
        "        0.90984605+0.j,  0.90681350+0.j,  0.88357025+0.j,  0.87369511+0.j,\n",
        "        0.86395561+0.j,  0.85229696+0.j,  0.83728609+0.j,  0.81395293+0.j,\n",
        "        0.80230205+0.j,  0.78341014+0.j,  0.73227735+0.j,  0.72238566+0.j,\n",
        "        0.69600579+0.j,  0.49865701+0.j,  0.44009493+0.j])"
       ],
       "metadata": {}
      }
     ],
     "input": [
      "x_eig_vals[x_sort_indices][:x_eig_dim]"
     ],
     "language": "python",
     "prompt_number": 38
    },
    {
     "cell_type": "code",
     "metadata": {},
     "outputs": [],
     "input": [
      "x_eig_vals_sort = x_eig_vals[x_sort_indices][:x_eig_dim].real"
     ],
     "language": "python",
     "prompt_number": 39
    },
    {
     "cell_type": "code",
     "metadata": {},
     "outputs": [
      {
       "output_type": "pyout",
       "prompt_number": 40,
       "text": [
        "array([ 0.93638966,  0.92958255,  0.92604738,  0.91571719,  0.90984605,\n",
        "        0.9068135 ,  0.88357025,  0.87369511,  0.86395561,  0.85229696,\n",
        "        0.83728609,  0.81395293,  0.80230205,  0.78341014,  0.73227735,\n",
        "        0.72238566,  0.69600579,  0.49865701,  0.44009493])"
       ],
       "metadata": {}
      }
     ],
     "input": [
      "x_eig_vals_sort"
     ],
     "language": "python",
     "prompt_number": 40
    },
    {
     "cell_type": "code",
     "metadata": {},
     "outputs": [
      {
       "output_type": "pyout",
       "prompt_number": 41,
       "text": [
        "(19,)"
       ],
       "metadata": {}
      }
     ],
     "input": [
      "x_eig_vals_sort.shape"
     ],
     "language": "python",
     "prompt_number": 41
    },
    {
     "cell_type": "markdown",
     "metadata": {},
     "source": [
      "固有値を降順（大きい順）に並び替えている"
     ]
    },
    {
     "cell_type": "code",
     "metadata": {},
     "outputs": [],
     "input": [
      "x_eig_vecs_sort= x_eig_vecs[:,x_sort_indices][:,:x_eig_dim].real"
     ],
     "language": "python",
     "prompt_number": 42
    },
    {
     "cell_type": "code",
     "metadata": {},
     "outputs": [
      {
       "output_type": "pyout",
       "prompt_number": 43,
       "text": [
        "(30, 19)"
       ],
       "metadata": {}
      }
     ],
     "input": [
      "x_eig_vecs_sort.shape"
     ],
     "language": "python",
     "prompt_number": 43
    },
    {
     "cell_type": "heading",
     "metadata": {},
     "level": 3,
     "source": [
      "固有ベクトルの正規化"
     ]
    },
    {
     "cell_type": "markdown",
     "metadata": {},
     "source": [
      "分散 = 1の制約があるので、まず分散をもとめる"
     ]
    },
    {
     "cell_type": "code",
     "metadata": {},
     "outputs": [],
     "input": [
      "x_var = np.dot(x_eig_vecs_sort.T, np.dot(xright, x_eig_vecs_sort))"
     ],
     "language": "python",
     "prompt_number": 44
    },
    {
     "cell_type": "markdown",
     "metadata": {},
     "source": [
      "a^T x S_xx x  a"
     ]
    },
    {
     "cell_type": "code",
     "metadata": {},
     "outputs": [
      {
       "output_type": "pyout",
       "prompt_number": 45,
       "text": [
        "(19, 19)"
       ],
       "metadata": {}
      }
     ],
     "input": [
      "x_var.shape"
     ],
     "language": "python",
     "prompt_number": 45
    },
    {
     "cell_type": "markdown",
     "metadata": {},
     "source": [
      "分散を1にするには固有ベクトルを正規化する必要がある。\n",
      "\n",
      "固有ベクトルを定数倍することで分散を1にすることができるが、固有ベクトルはa^T × S_xx × aと２回かけられているのでルートを取る必要がある。\n",
      "\n",
      "※diagは何で取ってるんだっけ？"
     ]
    },
    {
     "cell_type": "code",
     "metadata": {},
     "outputs": [
      {
       "output_type": "pyout",
       "prompt_number": 46,
       "text": [
        "array([ 0.24741115,  0.24301204,  0.25707891,  0.16498527,  0.17559616,\n",
        "        0.16133234,  0.13886342,  0.13422073,  0.10703186,  0.12906758,\n",
        "        0.09455322,  0.07949928,  0.06485602,  0.05521169,  0.04263786,\n",
        "        0.0424804 ,  0.04048989,  0.01723844,  0.01533405])"
       ],
       "metadata": {}
      }
     ],
     "input": [
      "np.diag(x_var)"
     ],
     "language": "python",
     "prompt_number": 46
    },
    {
     "cell_type": "markdown",
     "metadata": {},
     "source": [
      "対角成分を取ってくる"
     ]
    },
    {
     "cell_type": "code",
     "metadata": {},
     "outputs": [
      {
       "output_type": "pyout",
       "prompt_number": 47,
       "text": [
        "array([ 0.49740441,  0.49296251,  0.50702949,  0.40618379,  0.41904195,\n",
        "        0.40166197,  0.37264382,  0.36636148,  0.32715723,  0.35925977,\n",
        "        0.30749508,  0.28195617,  0.25466844,  0.23497168,  0.20648937,\n",
        "        0.20610775,  0.20122099,  0.13129523,  0.12383073])"
       ],
       "metadata": {}
      }
     ],
     "input": [
      "np.sqrt(np.diag(x_var))"
     ],
     "language": "python",
     "prompt_number": 47
    },
    {
     "cell_type": "markdown",
     "metadata": {},
     "source": [
      "要素のルートをとる（両側にかかるから）"
     ]
    },
    {
     "cell_type": "code",
     "metadata": {},
     "outputs": [
      {
       "output_type": "pyout",
       "prompt_number": 48,
       "text": [
        "array([ 2.01043652,  2.02855183,  1.97227185,  2.46193969,  2.38639591,\n",
        "        2.48965568,  2.68352767,  2.72954461,  3.05663424,  2.78350119,\n",
        "        3.25208456,  3.54665055,  3.92667418,  4.25583203,  4.84286438,\n",
        "        4.85183116,  4.96966058,  7.61642288,  8.07553998])"
       ],
       "metadata": {}
      }
     ],
     "input": [
      "np.reciprocal(np.sqrt(np.diag(x_var)))"
     ],
     "language": "python",
     "prompt_number": 48
    },
    {
     "cell_type": "markdown",
     "metadata": {},
     "source": [
      "要素の逆数をとる"
     ]
    },
    {
     "cell_type": "code",
     "metadata": {},
     "outputs": [],
     "input": [
      "x_invvar = np.diag(np.reciprocal(np.sqrt(np.diag(x_var))))"
     ],
     "language": "python",
     "prompt_number": 49
    },
    {
     "cell_type": "markdown",
     "metadata": {},
     "source": [
      "対角化"
     ]
    },
    {
     "cell_type": "code",
     "metadata": {},
     "outputs": [],
     "input": [
      "x_eig_vecs_reg = np.dot(x_eig_vecs_sort, x_invvar)"
     ],
     "language": "python",
     "prompt_number": 50
    },
    {
     "cell_type": "heading",
     "metadata": {},
     "level": 3,
     "source": [
      "正規化されているかの確認"
     ]
    },
    {
     "cell_type": "code",
     "metadata": {},
     "outputs": [
      {
       "output_type": "pyout",
       "prompt_number": 51,
       "text": [
        "array([[1, 0, 0, 0, 0, 0, 0, 0, 0, 0, 0, 0, 0, 0, 0, 0, 0, 0, 0],\n",
        "       [0, 1, 0, 0, 0, 0, 0, 0, 0, 0, 0, 0, 0, 0, 0, 0, 0, 0, 0],\n",
        "       [0, 0, 1, 0, 0, 0, 0, 0, 0, 0, 0, 0, 0, 0, 0, 0, 0, 0, 0],\n",
        "       [0, 0, 0, 1, 0, 0, 0, 0, 0, 0, 0, 0, 0, 0, 0, 0, 0, 0, 0],\n",
        "       [0, 0, 0, 0, 1, 0, 0, 0, 0, 0, 0, 0, 0, 0, 0, 0, 0, 0, 0],\n",
        "       [0, 0, 0, 0, 0, 1, 0, 0, 0, 0, 0, 0, 0, 0, 0, 0, 0, 0, 0],\n",
        "       [0, 0, 0, 0, 0, 0, 1, 0, 0, 0, 0, 0, 0, 0, 0, 0, 0, 0, 0],\n",
        "       [0, 0, 0, 0, 0, 0, 0, 1, 0, 0, 0, 0, 0, 0, 0, 0, 0, 0, 0],\n",
        "       [0, 0, 0, 0, 0, 0, 0, 0, 1, 0, 0, 0, 0, 0, 0, 0, 0, 0, 0],\n",
        "       [0, 0, 0, 0, 0, 0, 0, 0, 0, 1, 0, 0, 0, 0, 0, 0, 0, 0, 0],\n",
        "       [0, 0, 0, 0, 0, 0, 0, 0, 0, 0, 1, 0, 0, 0, 0, 0, 0, 0, 0],\n",
        "       [0, 0, 0, 0, 0, 0, 0, 0, 0, 0, 0, 1, 0, 0, 0, 0, 0, 0, 0],\n",
        "       [0, 0, 0, 0, 0, 0, 0, 0, 0, 0, 0, 0, 1, 0, 0, 0, 0, 0, 0],\n",
        "       [0, 0, 0, 0, 0, 0, 0, 0, 0, 0, 0, 0, 0, 1, 0, 0, 0, 0, 0],\n",
        "       [0, 0, 0, 0, 0, 0, 0, 0, 0, 0, 0, 0, 0, 0, 1, 0, 0, 0, 0],\n",
        "       [0, 0, 0, 0, 0, 0, 0, 0, 0, 0, 0, 0, 0, 0, 0, 1, 0, 0, 0],\n",
        "       [0, 0, 0, 0, 0, 0, 0, 0, 0, 0, 0, 0, 0, 0, 0, 0, 1, 0, 0],\n",
        "       [0, 0, 0, 0, 0, 0, 0, 0, 0, 0, 0, 0, 0, 0, 0, 0, 0, 1, 0],\n",
        "       [0, 0, 0, 0, 0, 0, 0, 0, 0, 0, 0, 0, 0, 0, 0, 0, 0, 0, 1]])"
       ],
       "metadata": {}
      }
     ],
     "input": [
      "(np.dot(x_eig_vecs_reg.T,  np.dot(xright,  x_eig_vecs_reg))).round().astype(int)"
     ],
     "language": "python",
     "prompt_number": 51
    },
    {
     "cell_type": "markdown",
     "metadata": {},
     "source": [
      "単位行列になっているのでOK"
     ]
    },
    {
     "cell_type": "heading",
     "metadata": {},
     "level": 2,
     "source": [
      "一般化固有値問題の式の計算（式２）"
     ]
    },
    {
     "cell_type": "heading",
     "metadata": {},
     "level": 3,
     "source": [
      "左辺 yleft = A"
     ]
    },
    {
     "cell_type": "code",
     "metadata": {},
     "outputs": [],
     "input": [
      "yleft = np.dot(c_xy.T, np.linalg.solve(c_xx,c_xy))"
     ],
     "language": "python",
     "prompt_number": 52
    },
    {
     "cell_type": "heading",
     "metadata": {},
     "level": 3,
     "source": [
      "右辺 yright = B"
     ]
    },
    {
     "cell_type": "code",
     "metadata": {},
     "outputs": [],
     "input": [
      "yright = c_yy"
     ],
     "language": "python",
     "prompt_number": 53
    },
    {
     "cell_type": "heading",
     "metadata": {},
     "level": 3,
     "source": [
      "一般化固有値問題を解く"
     ]
    },
    {
     "cell_type": "code",
     "metadata": {},
     "outputs": [],
     "input": [
      "y_eig_dim = min([np.linalg.matrix_rank(yleft), np.linalg.matrix_rank(yright)])"
     ],
     "language": "python",
     "prompt_number": 54
    },
    {
     "cell_type": "code",
     "metadata": {},
     "outputs": [],
     "input": [
      "y_eig_vals, y_eig_vecs = eig(yleft, yright)"
     ],
     "language": "python",
     "prompt_number": 55
    },
    {
     "cell_type": "code",
     "metadata": {},
     "outputs": [],
     "input": [
      "y_sort_indices = np.argsort(y_eig_vals)[::-1]"
     ],
     "language": "python",
     "prompt_number": 56
    },
    {
     "cell_type": "code",
     "metadata": {},
     "outputs": [],
     "input": [
      "y_eig_vals_sort = y_eig_vals[y_sort_indices][:y_eig_dim].real"
     ],
     "language": "python",
     "prompt_number": 57
    },
    {
     "cell_type": "code",
     "metadata": {},
     "outputs": [],
     "input": [
      "y_eig_vecs_sort= y_eig_vecs[:,y_sort_indices][:,:y_eig_dim].real"
     ],
     "language": "python",
     "prompt_number": 58
    },
    {
     "cell_type": "heading",
     "metadata": {},
     "level": 3,
     "source": [
      "固有ベクトルの正規化"
     ]
    },
    {
     "cell_type": "code",
     "metadata": {},
     "outputs": [],
     "input": [
      "y_var = np.dot(y_eig_vecs_sort.T, np.dot(yright, y_eig_vecs_sort))"
     ],
     "language": "python",
     "prompt_number": 59
    },
    {
     "cell_type": "code",
     "metadata": {},
     "outputs": [],
     "input": [
      "y_invvar = np.diag(np.reciprocal(np.sqrt(np.diag(y_var))))"
     ],
     "language": "python",
     "prompt_number": 60
    },
    {
     "cell_type": "code",
     "metadata": {},
     "outputs": [],
     "input": [
      "y_eig_vecs_reg = np.dot(y_eig_vecs_sort, y_invvar)"
     ],
     "language": "python",
     "prompt_number": 61
    },
    {
     "cell_type": "code",
     "metadata": {},
     "outputs": [
      {
       "output_type": "pyout",
       "prompt_number": 62,
       "text": [
        "array([[1, 0, 0, 0, 0, 0, 0, 0, 0, 0, 0, 0, 0, 0, 0, 0, 0, 0, 0],\n",
        "       [0, 1, 0, 0, 0, 0, 0, 0, 0, 0, 0, 0, 0, 0, 0, 0, 0, 0, 0],\n",
        "       [0, 0, 1, 0, 0, 0, 0, 0, 0, 0, 0, 0, 0, 0, 0, 0, 0, 0, 0],\n",
        "       [0, 0, 0, 1, 0, 0, 0, 0, 0, 0, 0, 0, 0, 0, 0, 0, 0, 0, 0],\n",
        "       [0, 0, 0, 0, 1, 0, 0, 0, 0, 0, 0, 0, 0, 0, 0, 0, 0, 0, 0],\n",
        "       [0, 0, 0, 0, 0, 1, 0, 0, 0, 0, 0, 0, 0, 0, 0, 0, 0, 0, 0],\n",
        "       [0, 0, 0, 0, 0, 0, 1, 0, 0, 0, 0, 0, 0, 0, 0, 0, 0, 0, 0],\n",
        "       [0, 0, 0, 0, 0, 0, 0, 1, 0, 0, 0, 0, 0, 0, 0, 0, 0, 0, 0],\n",
        "       [0, 0, 0, 0, 0, 0, 0, 0, 1, 0, 0, 0, 0, 0, 0, 0, 0, 0, 0],\n",
        "       [0, 0, 0, 0, 0, 0, 0, 0, 0, 1, 0, 0, 0, 0, 0, 0, 0, 0, 0],\n",
        "       [0, 0, 0, 0, 0, 0, 0, 0, 0, 0, 1, 0, 0, 0, 0, 0, 0, 0, 0],\n",
        "       [0, 0, 0, 0, 0, 0, 0, 0, 0, 0, 0, 1, 0, 0, 0, 0, 0, 0, 0],\n",
        "       [0, 0, 0, 0, 0, 0, 0, 0, 0, 0, 0, 0, 1, 0, 0, 0, 0, 0, 0],\n",
        "       [0, 0, 0, 0, 0, 0, 0, 0, 0, 0, 0, 0, 0, 1, 0, 0, 0, 0, 0],\n",
        "       [0, 0, 0, 0, 0, 0, 0, 0, 0, 0, 0, 0, 0, 0, 1, 0, 0, 0, 0],\n",
        "       [0, 0, 0, 0, 0, 0, 0, 0, 0, 0, 0, 0, 0, 0, 0, 1, 0, 0, 0],\n",
        "       [0, 0, 0, 0, 0, 0, 0, 0, 0, 0, 0, 0, 0, 0, 0, 0, 1, 0, 0],\n",
        "       [0, 0, 0, 0, 0, 0, 0, 0, 0, 0, 0, 0, 0, 0, 0, 0, 0, 1, 0],\n",
        "       [0, 0, 0, 0, 0, 0, 0, 0, 0, 0, 0, 0, 0, 0, 0, 0, 0, 0, 1]])"
       ],
       "metadata": {}
      }
     ],
     "input": [
      "(np.dot(y_eig_vecs_reg.T,  np.dot(yright,  y_eig_vecs_reg))).round().astype(int)"
     ],
     "language": "python",
     "prompt_number": 62
    },
    {
     "cell_type": "heading",
     "metadata": {},
     "level": 2,
     "source": [
      "一方の固有ベクトルから他方の固有ベクトルをもとめる"
     ]
    },
    {
     "cell_type": "code",
     "metadata": {},
     "outputs": [
      {
       "output_type": "pyout",
       "prompt_number": 63,
       "text": [
        "'(40, 40) x (40, 30) x 30'"
       ],
       "metadata": {}
      }
     ],
     "input": [
      "\"%s x %s x %s\" % (np.linalg.inv(c_yy).shape, c_xy.T.shape, x_eig_vecs_reg.shape[0])"
     ],
     "language": "python",
     "prompt_number": 63
    },
    {
     "cell_type": "markdown",
     "metadata": {},
     "source": [
      "計算時の各行列の次元数が正しく揃っていることを確認"
     ]
    },
    {
     "cell_type": "code",
     "metadata": {},
     "outputs": [],
     "input": [
      "y_eig_vecs_by_x = (1 / x_eig_vals_sort[0]) * np.linalg.solve(c_yy , np.dot(c_xy.T, x_eig_vecs_reg.shape[0]))"
     ],
     "language": "python",
     "prompt_number": 64
    },
    {
     "cell_type": "code",
     "metadata": {},
     "outputs": [
      {
       "output_type": "pyout",
       "prompt_number": 65,
       "text": [
        "array([[  2.13568891e-01,  -5.99798813e-01,   2.09689407e-01,\n",
        "         -1.67581453e-01,   3.77628489e-01,  -3.77993376e-01,\n",
        "         -1.34586479e-01,   5.56285049e-01,   8.63914098e-01,\n",
        "          1.29529150e+00,  -4.44723313e-02,   1.03246200e-01,\n",
        "          8.89282528e-01,   3.48803432e-01,   5.66505535e-01,\n",
        "         -5.81855679e-01,   1.49296778e-01,   5.65883591e-01,\n",
        "         -2.46420143e-01],\n",
        "       [ -3.02345493e-01,  -9.21745606e-02,  -2.01164715e-01,\n",
        "         -3.44339667e-01,  -7.53514769e-01,  -1.13938628e-01,\n",
        "          4.25931409e-01,  -1.50061238e-01,  -2.99718370e-01,\n",
        "         -4.91658645e-01,   3.91902455e-02,  -1.73355181e-04,\n",
        "          1.06517907e+00,  -3.34243174e-01,   2.33629544e-01,\n",
        "          5.58538711e-01,   1.77125444e-01,  -4.68628548e-01,\n",
        "          2.49640193e-01],\n",
        "       [  4.97169841e-01,   1.18304829e-01,   1.66859963e-01,\n",
        "          5.55714989e-01,  -7.95474018e-02,   2.98038134e-01,\n",
        "         -2.83418241e-01,   1.28817635e+00,  -1.25665464e-01,\n",
        "          1.05290155e+00,   3.60842390e-01,  -5.29835424e-01,\n",
        "         -4.72238510e-01,   4.34855134e-01,  -1.59913473e-01,\n",
        "          7.43399725e-01,   2.62512029e-01,  -9.60236737e-01,\n",
        "         -5.28545117e-01],\n",
        "       [  8.92136577e-02,  -1.67274103e-01,  -3.56930969e-01,\n",
        "          4.60057479e-01,  -4.88795604e-01,   1.05620863e-01,\n",
        "         -4.17051455e-01,  -3.35051016e-01,   1.75510905e-01,\n",
        "          1.22855425e+00,   2.36344673e-02,  -5.06239136e-01,\n",
        "         -2.58566937e-01,  -4.57974719e-01,   2.40103933e-01,\n",
        "          1.07516383e+00,   8.13783404e-01,  -1.18545339e-01,\n",
        "         -5.97257514e-01],\n",
        "       [ -4.37990073e-02,  -4.15851461e-01,  -3.95193732e-02,\n",
        "          1.00385406e-01,   4.53910517e-01,  -4.09392085e-01,\n",
        "         -8.86131771e-02,  -4.75417139e-01,  -1.46087398e-01,\n",
        "          2.31741856e-01,  -5.18295501e-01,  -4.70064095e-03,\n",
        "          4.47035084e-01,  -1.24518526e-01,  -2.35910656e-01,\n",
        "         -7.00600787e-01,  -2.68423894e-01,   2.81034829e-01,\n",
        "         -5.90699061e-01],\n",
        "       [ -3.90982435e-03,  -1.80913951e-01,   1.49602279e-01,\n",
        "          3.65654366e-01,   5.09157816e-01,  -4.57944979e-01,\n",
        "         -5.18386190e-01,  -2.31272347e-01,   2.75411160e-01,\n",
        "          3.88578368e-01,  -6.07378057e-01,   8.34752776e-02,\n",
        "         -1.01474461e+00,   7.38935436e-01,   5.10579455e-01,\n",
        "         -5.00756109e-02,   2.12673647e-01,   5.36531902e-03,\n",
        "         -1.10785138e-01],\n",
        "       [  8.87598781e-02,  -1.88906078e-01,   7.33496831e-02,\n",
        "          1.98412352e-01,   3.46080007e-01,  -1.96294157e-01,\n",
        "         -3.02331688e-01,  -5.82158233e-01,   7.04097275e-01,\n",
        "         -5.56282511e-01,   1.22536715e+00,  -3.48741900e-01,\n",
        "         -8.67285184e-02,   1.46826545e-01,   5.00194044e-01,\n",
        "         -5.86933263e-01,  -2.46059419e-02,  -2.94097656e-01,\n",
        "          1.69063974e-01],\n",
        "       [ -2.40361559e-01,  -2.41722682e-02,  -9.34443925e-02,\n",
        "          4.51264629e-01,   2.35747476e-01,  -7.05547022e-01,\n",
        "         -7.11089173e-02,   1.58147903e-01,   2.63157767e-02,\n",
        "         -3.89226566e-01,   6.11546407e-01,  -1.29248632e-01,\n",
        "          1.02520191e+00,  -5.50977309e-02,  -9.47448264e-01,\n",
        "          1.04423589e+00,  -2.81285479e-01,   8.69739948e-02,\n",
        "          1.05115505e+00],\n",
        "       [  3.65388077e-01,  -2.13996523e-02,  -9.33366863e-01,\n",
        "         -4.16650844e-01,   5.81408833e-01,   1.40914097e-01,\n",
        "          3.04147012e-01,   5.12266629e-01,  -2.63318973e-01,\n",
        "         -6.39067629e-01,   1.90812434e-01,  -8.54164980e-01,\n",
        "          3.93378605e-01,   9.36594212e-02,   1.08775607e-01,\n",
        "         -5.06678894e-02,   1.72456195e-01,   8.23710624e-03,\n",
        "         -1.61606865e-01],\n",
        "       [ -7.22413138e-02,  -5.07847769e-03,   2.99876701e-01,\n",
        "          3.58713023e-01,  -2.72068767e-01,  -4.70337272e-01,\n",
        "          1.15316897e+00,   3.62330773e-01,  -8.23084251e-01,\n",
        "          3.55673586e-02,   2.50086219e-01,  -1.66781365e-01,\n",
        "          5.53453337e-01,  -9.01784273e-01,  -3.03117328e-01,\n",
        "         -2.33758107e-01,  -5.26726546e-04,   4.08881974e-02,\n",
        "         -3.12130347e-01],\n",
        "       [ -2.70666815e-02,   1.41199867e-01,  -3.46426518e-01,\n",
        "          6.25732142e-01,   6.28650073e-01,   2.89616045e-01,\n",
        "          5.62875097e-01,   6.40731821e-01,   2.21201969e-01,\n",
        "         -8.74845210e-01,  -2.23872380e-01,  -5.28306054e-01,\n",
        "          5.58902061e-01,  -3.76727825e-01,   6.56946011e-01,\n",
        "         -1.79660916e-01,   3.40765179e-01,  -8.05889610e-01,\n",
        "          1.71010250e-01],\n",
        "       [  2.62395428e-01,  -6.06612450e-01,   3.78151624e-01,\n",
        "          7.93762939e-01,   3.53298163e-01,   4.14381062e-01,\n",
        "         -1.22156519e-02,  -6.96744131e-01,  -5.91550228e-01,\n",
        "         -4.57979537e-01,  -1.77468335e-02,  -1.82456168e-01,\n",
        "          1.94138097e-01,  -5.56814275e-01,   3.32321876e-01,\n",
        "          2.95957068e-01,   3.60970664e-01,   1.66904504e-01,\n",
        "         -6.66315122e-01],\n",
        "       [  4.79291724e-01,   1.44876609e-01,  -8.17900408e-02,\n",
        "          4.45812865e-01,   6.45555606e-03,  -1.35208516e-01,\n",
        "          7.95977441e-01,  -4.25741439e-01,  -1.92677789e-01,\n",
        "          9.53336115e-01,   5.87368513e-01,   5.77082413e-03,\n",
        "         -8.44769834e-02,   2.65619737e-01,  -6.24125835e-01,\n",
        "         -4.13927462e-02,   1.09585458e+00,   3.16678030e-01,\n",
        "         -2.24602371e-01],\n",
        "       [  2.08763346e-01,   6.65792266e-01,   7.88377528e-01,\n",
        "          1.86561288e-01,   9.29129032e-01,   2.70840594e-01,\n",
        "          1.63855121e-01,  -5.62454018e-01,  -3.27838672e-01,\n",
        "          7.40997499e-02,   4.05334355e-01,  -1.09144124e-01,\n",
        "          7.69011534e-02,   3.23003694e-01,  -3.63126827e-01,\n",
        "          4.52017722e-01,  -7.66917217e-02,   8.78396407e-02,\n",
        "          5.96892207e-03],\n",
        "       [ -4.78548882e-02,   5.17796070e-01,   1.13542748e-01,\n",
        "          4.23164447e-02,  -4.97362747e-01,  -1.67189222e-01,\n",
        "         -5.90458023e-01,   4.11742733e-01,   1.78551402e-01,\n",
        "          1.97667326e-01,   5.56492749e-03,   4.27618891e-01,\n",
        "          8.99493819e-01,  -5.30941617e-02,   9.03975007e-01,\n",
        "          4.33520100e-02,   3.58219782e-01,  -1.76368556e-01,\n",
        "          4.83493678e-01],\n",
        "       [  3.11174284e-01,   2.80704079e-01,  -4.01904415e-01,\n",
        "          2.27711879e-01,   4.01405681e-02,  -2.23065005e-01,\n",
        "          2.51502392e-01,   5.61432111e-01,   3.43110122e-01,\n",
        "         -4.23450029e-01,   2.41553025e-02,  -1.13125667e+00,\n",
        "         -3.60796551e-01,  -2.13753823e-01,   9.95718862e-01,\n",
        "          1.12773135e-01,  -9.55756972e-01,  -3.58000897e-01,\n",
        "         -4.55199464e-01],\n",
        "       [ -2.97230028e-01,   5.42859797e-01,   3.54400990e-01,\n",
        "         -4.45114206e-01,  -2.26632241e-01,  -2.93091261e-01,\n",
        "         -9.17675590e-02,  -2.38740233e-01,   2.32075195e-01,\n",
        "          1.83216551e-01,  -4.63060119e-01,  -4.11719144e-01,\n",
        "         -2.35081414e-01,  -5.04414345e-01,   6.96385400e-01,\n",
        "         -7.36508003e-02,   7.27985215e-01,   5.78479539e-01,\n",
        "         -3.50291687e-01],\n",
        "       [ -6.03093006e-01,   1.24633561e-01,   1.94510028e-01,\n",
        "         -1.53019753e-01,   1.23691119e-01,  -1.69690978e-01,\n",
        "         -4.74822810e-01,  -8.71346139e-02,   7.44881771e-01,\n",
        "          8.75474014e-02,  -1.17463610e-01,   9.19789759e-01,\n",
        "         -3.00108931e-01,  -2.41299577e-01,  -2.17644100e-01,\n",
        "          1.80903927e-01,   8.81992798e-01,  -7.97610127e-01,\n",
        "         -4.27117561e-01],\n",
        "       [ -4.25713739e-01,  -4.59622302e-01,   4.26760236e-02,\n",
        "         -2.12835307e-01,  -1.55824854e-02,   5.63338327e-01,\n",
        "          6.67148451e-01,   2.71509473e-01,   2.38844970e-01,\n",
        "          1.36610134e-01,   9.61513708e-01,  -8.88415184e-01,\n",
        "         -2.48594748e-01,  -2.68012975e-02,   1.09507520e-01,\n",
        "          1.53856998e+00,   1.31366451e+00,  -5.13088138e-01,\n",
        "         -4.20943854e-01],\n",
        "       [  4.07872861e-01,   3.46568546e-01,  -8.41269811e-01,\n",
        "          2.60979295e-01,  -3.49695962e-01,  -1.69548135e-02,\n",
        "         -1.32385160e-01,  -6.34915012e-02,   8.06716484e-01,\n",
        "          2.59328130e-01,  -7.85846876e-02,   2.87755301e-01,\n",
        "         -8.24417559e-02,  -4.84012871e-02,   2.32441399e-01,\n",
        "         -5.48097289e-01,   9.81743069e-01,  -6.09755911e-02,\n",
        "          5.44228574e-01],\n",
        "       [ -8.13595781e-03,  -4.17951458e-01,   3.82234099e-01,\n",
        "          9.06034672e-02,  -3.16424235e-01,   6.53524636e-01,\n",
        "         -4.50428442e-01,  -3.83711458e-01,  -1.83016262e-01,\n",
        "         -1.13704006e-01,   1.70172291e-01,  -6.18975860e-01,\n",
        "          2.16306188e-01,  -5.63746672e-01,  -2.64957879e-01,\n",
        "          2.05181332e-01,   7.53167341e-01,  -9.51287000e-02,\n",
        "          5.12661788e-01],\n",
        "       [ -3.47849098e-01,   6.85370525e-01,  -4.30999271e-02,\n",
        "          3.00436645e-01,  -7.65159104e-02,   1.44341372e-01,\n",
        "          1.98181174e-01,   7.92366700e-01,  -4.90813933e-01,\n",
        "         -4.46174966e-01,   2.21493523e-01,  -4.43956802e-01,\n",
        "         -3.63106991e-02,   2.55049063e-01,   9.73994647e-01,\n",
        "         -6.24125658e-01,  -4.03059246e-01,   4.40401691e-01,\n",
        "         -3.98389532e-01],\n",
        "       [ -1.91324518e-01,   2.47361647e-01,  -5.10926346e-02,\n",
        "          2.14600533e-01,  -3.47453920e-01,   1.25570944e-01,\n",
        "          6.44270360e-01,   7.31052906e-02,  -1.52284552e-01,\n",
        "         -1.06762765e-01,  -4.25693854e-01,   1.15465551e-01,\n",
        "         -2.16794916e-01,   7.25128052e-01,  -2.79848407e-01,\n",
        "         -1.17010231e-01,   3.72179096e-01,  -2.28637840e-01,\n",
        "         -5.04332168e-02],\n",
        "       [ -2.35237441e-01,  -5.82190797e-01,  -2.77424607e-01,\n",
        "          2.81381013e-01,   1.09103624e-02,   2.81638419e-01,\n",
        "          6.48437239e-01,  -6.80439977e-01,  -1.48333106e-01,\n",
        "          3.45234933e-01,   1.98837823e-01,  -2.10383012e-01,\n",
        "          4.81021928e-01,   8.24928323e-01,  -1.59102783e-01,\n",
        "         -1.13251744e+00,  -5.11796551e-01,  -6.04487097e-02,\n",
        "          4.89338147e-01],\n",
        "       [  6.46968280e-01,   1.11613790e-01,   1.76645979e-03,\n",
        "          2.47604937e-01,  -1.30627515e-01,  -4.48396577e-01,\n",
        "         -3.35612348e-01,  -2.10722252e-01,   4.54279290e-02,\n",
        "         -5.61560511e-01,  -3.91405781e-01,   4.61883427e-01,\n",
        "         -6.73824271e-01,   1.06955726e+00,   8.71926298e-01,\n",
        "         -4.25227374e-01,  -8.14773005e-01,  -6.04606910e-01,\n",
        "         -4.16922894e-01],\n",
        "       [  2.75540186e-01,   6.68722440e-02,  -3.86297260e-01,\n",
        "          2.19619851e-01,   9.63202667e-02,  -6.89908084e-01,\n",
        "         -5.92256130e-01,  -4.26121464e-01,  -3.20554647e-01,\n",
        "         -6.67512959e-01,  -8.24060882e-01,  -3.58888572e-01,\n",
        "          5.96529429e-01,  -7.31279852e-01,  -8.44258623e-01,\n",
        "          3.26376430e-01,   2.01448277e-01,   7.79959839e-01,\n",
        "         -5.97924200e-02],\n",
        "       [  4.95147680e-01,   1.39975758e-01,  -2.43254875e-01,\n",
        "         -3.70740997e-01,  -4.28016340e-02,  -4.81708201e-01,\n",
        "          4.21788393e-01,   6.81134442e-02,  -2.06875008e-01,\n",
        "         -3.88499845e-01,   6.50406160e-01,   5.40797075e-02,\n",
        "         -4.55233392e-01,   3.99728322e-01,  -3.68246788e-02,\n",
        "          6.58605033e-01,   8.13469237e-03,  -1.57471610e-01,\n",
        "          1.30374327e+00],\n",
        "       [ -1.04037504e-01,  -2.22499180e-02,  -2.74402207e-01,\n",
        "         -2.70230069e-01,   7.05808803e-01,  -5.35060921e-01,\n",
        "         -2.41175864e-01,   6.90997013e-02,  -5.07209106e-02,\n",
        "          4.54284992e-01,   9.76639879e-01,  -2.30597249e-01,\n",
        "         -6.13511875e-01,  -1.57365759e-01,  -3.77169022e-01,\n",
        "          8.86137796e-01,   1.16954305e+00,   6.00599245e-01,\n",
        "          1.74869297e-01],\n",
        "       [ -8.50691894e-02,  -4.65819692e-01,  -2.40785341e-01,\n",
        "          3.50970796e-01,  -6.03631583e-02,   1.02154080e-01,\n",
        "         -3.72486448e-01,   5.16612231e-01,  -1.39115636e-01,\n",
        "         -3.68707928e-01,  -6.27198426e-01,   7.30334211e-01,\n",
        "         -4.30668171e-01,  -8.56514100e-02,  -3.01920312e-01,\n",
        "          7.12169200e-02,   4.84961387e-01,   4.11860366e-01,\n",
        "         -8.10396906e-02],\n",
        "       [ -3.15203965e-01,  -1.20089190e-01,  -1.33412824e-01,\n",
        "          2.31327359e-01,   8.26307788e-02,   5.79846365e-02,\n",
        "          7.17354518e-02,  -3.79588719e-01,   8.86272811e-01,\n",
        "          2.57293821e-01,  -2.96927739e-01,   2.54108640e-01,\n",
        "         -3.43228084e-01,   8.48416644e-02,  -1.12688137e-01,\n",
        "          5.58905072e-02,  -1.80106736e-01,   9.47227263e-02,\n",
        "          2.75412823e-01],\n",
        "       [ -3.46800894e-01,   2.32827788e-01,  -2.26683825e-01,\n",
        "         -2.93421888e-01,  -5.31678976e-01,  -1.59299688e-01,\n",
        "          7.88066151e-03,  -3.54089630e-01,   4.99574295e-01,\n",
        "          2.05239462e-01,  -2.84359267e-01,  -7.99306069e-01,\n",
        "          1.53217632e-01,   3.38574979e-01,   1.08180225e+00,\n",
        "         -7.46212725e-01,  -1.06527355e+00,  -5.60913124e-01,\n",
        "         -8.98006763e-01],\n",
        "       [ -4.39426802e-01,  -5.40877071e-02,  -4.85646595e-01,\n",
        "          1.48407486e-02,   2.28771663e-01,  -2.83839640e-01,\n",
        "          9.65244508e-02,  -6.57643715e-01,   3.29352677e-01,\n",
        "          3.15948182e-01,  -6.43787684e-01,  -6.93401757e-01,\n",
        "         -1.18794741e-02,  -7.97504678e-01,   1.19559546e+00,\n",
        "          2.05025355e-01,   1.16842600e-01,  -2.41745554e-01,\n",
        "          2.04196178e-01],\n",
        "       [ -5.22484567e-01,  -5.35108491e-02,  -3.73427806e-02,\n",
        "          6.47501192e-01,   1.35420209e-01,  -5.49063552e-01,\n",
        "         -3.63849490e-01,  -7.46390019e-02,  -3.98256883e-01,\n",
        "          3.04892851e-01,   6.26630791e-01,  -6.50131478e-01,\n",
        "         -5.46431918e-01,   8.89939808e-01,   9.72549765e-03,\n",
        "          4.17653662e-01,  -1.84687494e-01,   2.07648917e-01,\n",
        "         -9.57562330e-02],\n",
        "       [  2.26708558e-01,   5.15058537e-01,  -2.73676504e-01,\n",
        "         -3.99466087e-01,   5.69939532e-02,   4.21562542e-01,\n",
        "         -9.43569928e-01,   3.61380801e-01,  -9.54215012e-02,\n",
        "          5.91467820e-01,  -1.46194533e-01,  -9.04617507e-01,\n",
        "          9.07902487e-02,  -4.25725813e-01,  -2.65649860e-01,\n",
        "         -2.50621781e-01,   2.65875045e-01,  -1.03334340e-02,\n",
        "          1.59870504e-01],\n",
        "       [  1.50665506e-01,  -2.68192285e-02,  -6.70669973e-02,\n",
        "         -3.74594092e-01,  -2.66989357e-02,   3.18164124e-01,\n",
        "          3.28528956e-02,   6.77388017e-03,  -7.79839289e-01,\n",
        "          6.65830372e-01,  -3.51296025e-01,   1.00660792e+00,\n",
        "         -5.85189346e-01,  -6.43253123e-01,   4.68411057e-02,\n",
        "         -6.21202194e-01,  -3.40192352e-01,  -5.00387373e-01,\n",
        "         -8.03825496e-02],\n",
        "       [ -5.24924418e-01,   3.31393198e-01,  -5.19783361e-01,\n",
        "         -1.39334900e-01,   3.29907519e-01,  -1.60138094e-02,\n",
        "         -1.94614183e-01,   3.69622000e-01,  -3.84909759e-01,\n",
        "          1.98323451e-01,   1.20875125e-01,   7.74546217e-01,\n",
        "          6.02816777e-01,  -7.42420791e-02,  -5.78674896e-01,\n",
        "         -5.43229811e-01,   1.84531315e+00,   2.78515114e-01,\n",
        "          6.51457098e-02],\n",
        "       [  4.83486373e-02,  -1.58430748e-01,   6.62717688e-01,\n",
        "          1.68758095e-01,   6.44491205e-02,   4.29396596e-02,\n",
        "         -5.07997014e-02,   2.96062550e-01,  -3.91447988e-01,\n",
        "          6.22541501e-01,  -5.82187466e-01,  -4.63513282e-01,\n",
        "          2.76276279e-01,  -8.08205193e-01,  -2.41474339e-01,\n",
        "          2.07070588e-01,  -1.94244481e-01,  -5.34272229e-01,\n",
        "          5.29634514e-01],\n",
        "       [ -1.74065846e-01,   6.01083985e-01,  -6.71157423e-01,\n",
        "          1.83757468e-01,   8.63205903e-01,   6.70785168e-01,\n",
        "          1.80055986e-01,  -7.85334312e-02,   6.74742003e-02,\n",
        "          5.97519750e-01,  -9.14528418e-01,   3.34021943e-01,\n",
        "          3.94529890e-01,   3.02446559e-01,   4.84660518e-02,\n",
        "          7.11258711e-01,   5.40286889e-02,   4.27587743e-01,\n",
        "         -5.67600375e-01],\n",
        "       [  2.67738624e-01,  -4.85472259e-01,   3.21215972e-01,\n",
        "          2.46044503e-01,   1.12202466e-02,   2.09851211e-01,\n",
        "          4.30020537e-01,   9.69476776e-01,   7.42782084e-01,\n",
        "          1.28434273e-01,  -7.71098383e-01,   1.45569165e-01,\n",
        "          7.76526413e-01,  -5.66251628e-01,   4.77910795e-01,\n",
        "         -6.36781917e-01,  -1.41633843e-01,   5.62116348e-01,\n",
        "         -1.64964391e-01],\n",
        "       [ -3.01331880e-01,   5.18743709e-02,  -3.97127997e-01,\n",
        "          1.66155029e-01,   1.62801931e-01,   7.17261599e-01,\n",
        "         -4.91835533e-01,  -4.43403776e-02,  -8.03706491e-01,\n",
        "         -1.98351669e-01,   3.47953756e-01,   7.84600877e-01,\n",
        "          1.16882324e-01,  -6.77499499e-01,   1.14249051e-01,\n",
        "         -2.47896685e-01,   3.07672073e-01,   4.62810975e-01,\n",
        "         -1.60086308e-01]])"
       ],
       "metadata": {}
      }
     ],
     "input": [
      "y_eig_vecs_reg"
     ],
     "language": "python",
     "prompt_number": 65
    },
    {
     "cell_type": "code",
     "metadata": {},
     "outputs": [
      {
       "output_type": "pyout",
       "prompt_number": 66,
       "text": [
        "array([[ 0.79609661,  6.6438538 ,  1.27703336, ...,  0.31022526,\n",
        "        -4.76802739,  2.09104043],\n",
        "       [ 2.56722345, -1.35369789,  1.66179448, ..., -1.53725858,\n",
        "        -2.85636954, -9.5189109 ],\n",
        "       [-7.19016039,  1.33491899,  1.01160249, ..., -4.43194539,\n",
        "         1.20595309,  7.38015823],\n",
        "       ..., \n",
        "       [ 2.22030156,  4.38641186, -5.42872646, ...,  5.70471898,\n",
        "        -1.69841033,  0.96641697],\n",
        "       [-1.05391118,  5.70970212, -1.05207044, ..., -3.21516431,\n",
        "        -2.59274007,  0.47085708],\n",
        "       [-2.76929386, -5.16643847, -1.06063887, ..., -0.96123747,\n",
        "        -0.98282493, -2.66533478]])"
       ],
       "metadata": {}
      }
     ],
     "input": [
      "y_eig_vecs_by_x"
     ],
     "language": "python",
     "prompt_number": 66
    },
    {
     "cell_type": "markdown",
     "metadata": {},
     "source": [
      "y_eig_vecs_regとy_eig_vecs_by_xが全然一致していないけど・・・汗"
     ]
    },
    {
     "cell_type": "heading",
     "metadata": {},
     "level": 2,
     "source": [
      "変換を行う"
     ]
    },
    {
     "cell_type": "code",
     "metadata": {},
     "outputs": [],
     "input": [
      "n_components = 2"
     ],
     "language": "python",
     "prompt_number": 67
    },
    {
     "cell_type": "code",
     "metadata": {},
     "outputs": [],
     "input": [
      "def normalize(mat):\n",
      "    m = np.mean(mat, axis=0)\n",
      "    mat = mat - m\n",
      "    return mat\n",
      "\n",
      "x_n = normalize(x)\n",
      "y_n = normalize(y)"
     ],
     "language": "python",
     "prompt_number": 69
    },
    {
     "cell_type": "code",
     "metadata": {},
     "outputs": [],
     "input": [
      "x_projected = np.dot(x_n, x_eig_vecs_reg)\n",
      "y_projected = np.dot(y_n, y_eig_vecs_reg)"
     ],
     "language": "python",
     "prompt_number": 101
    },
    {
     "cell_type": "code",
     "metadata": {},
     "outputs": [
      {
       "output_type": "pyout",
       "prompt_number": 104,
       "text": [
        "(20, 2)"
       ],
       "metadata": {}
      }
     ],
     "input": [
      "x_projected_comp = x_projected[:,:n_components]\n",
      "x_projected_comp[:,:n_components].shape"
     ],
     "language": "python",
     "prompt_number": 104
    },
    {
     "cell_type": "code",
     "metadata": {},
     "outputs": [
      {
       "output_type": "pyout",
       "prompt_number": 105,
       "text": [
        "(20, 2)"
       ],
       "metadata": {}
      }
     ],
     "input": [
      "y_projected_comp = y_projected[:,:n_components]\n",
      "y_projected_comp[:,:n_components].shape"
     ],
     "language": "python",
     "prompt_number": 105
    },
    {
     "cell_type": "code",
     "metadata": {},
     "outputs": [],
     "input": [
      "import matplotlib.pyplot as plt"
     ],
     "language": "python",
     "prompt_number": 75
    },
    {
     "cell_type": "code",
     "metadata": {},
     "outputs": [
      {
       "output_type": "pyout",
       "prompt_number": 106,
       "text": [
        "[<matplotlib.lines.Line2D at 0x105cbb310>]"
       ],
       "metadata": {}
      },
      {
       "output_type": "display_data",
       "png": "[encoded data removed]",
       "text": [
        "<matplotlib.figure.Figure at 0x104d06110>"
       ],
       "metadata": {}
      }
     ],
     "input": [
      "plt.plot(x_projected_comp[:,0], x_projected_comp[:,1], 'xb')"
     ],
     "language": "python",
     "prompt_number": 106
    },
    {
     "cell_type": "code",
     "metadata": {},
     "outputs": [
      {
       "output_type": "pyout",
       "prompt_number": 107,
       "text": [
        "[<matplotlib.lines.Line2D at 0x105de0e90>]"
       ],
       "metadata": {}
      },
      {
       "output_type": "display_data",
       "png": "[encoded data removed]",
       "text": [
        "<matplotlib.figure.Figure at 0x105cebb10>"
       ],
       "metadata": {}
      }
     ],
     "input": [
      "plt.plot(y_projected_comp[:,0], y_projected_comp[:,1], 'ob')"
     ],
     "language": "python",
     "prompt_number": 107
    },
    {
     "cell_type": "markdown",
     "metadata": {},
     "source": [
      "なんか、ちゃんと似たところに似た点が来ているように見えるが、上下逆さま？180度回転している？実行するたびに回転の方向が変わっている模様。"
     ]
    },
    {
     "cell_type": "code",
     "metadata": {},
     "outputs": [
      {
       "output_type": "pyout",
       "prompt_number": 108,
       "text": [
        "[<matplotlib.lines.Line2D at 0x105f09550>]"
       ],
       "metadata": {}
      },
      {
       "output_type": "display_data",
       "png": "[encoded data removed]",
       "text": [
        "<matplotlib.figure.Figure at 0x105c0ef50>"
       ],
       "metadata": {}
      }
     ],
     "input": [
      "plt.plot(x_projected_comp[:,0], x_projected_comp[:,1], 'xb-')"
     ],
     "language": "python",
     "prompt_number": 108
    },
    {
     "cell_type": "code",
     "metadata": {},
     "outputs": [
      {
       "output_type": "pyout",
       "prompt_number": 109,
       "text": [
        "[<matplotlib.lines.Line2D at 0x106022b10>]"
       ],
       "metadata": {}
      },
      {
       "output_type": "display_data",
       "png": "[encoded data removed]",
       "text": [
        "<matplotlib.figure.Figure at 0x105f20e90>"
       ],
       "metadata": {}
      }
     ],
     "input": [
      "plt.plot(y_projected_comp[:,0], y_projected_comp[:,1], 'ob-')"
     ],
     "language": "python",
     "prompt_number": 109
    },
    {
     "cell_type": "code",
     "metadata": {},
     "outputs": [
      {
       "output_type": "pyout",
       "prompt_number": 82,
       "text": [
        "(19, 19)"
       ],
       "metadata": {}
      }
     ],
     "input": [
      "I = np.eye(len(x_eig_vals_sort))\n",
      "I.shape"
     ],
     "language": "python",
     "prompt_number": 82
    },
    {
     "cell_type": "code",
     "metadata": {},
     "outputs": [
      {
       "output_type": "pyout",
       "prompt_number": 86,
       "text": [
        "(19, 19)"
       ],
       "metadata": {}
      }
     ],
     "input": [
      "lamb = np.diag(x_eig_vals_sort)\n",
      "lamb.shape"
     ],
     "language": "python",
     "prompt_number": 86
    },
    {
     "cell_type": "code",
     "metadata": {},
     "outputs": [
      {
       "output_type": "pyout",
       "prompt_number": 91,
       "text": [
        "(19, 19)"
       ],
       "metadata": {}
      }
     ],
     "input": [
      "mat1 = np.linalg.solve(I - np.diag(x_eig_vals_sort**2), I)\n",
      "mat1.shape"
     ],
     "language": "python",
     "prompt_number": 91
    },
    {
     "cell_type": "code",
     "metadata": {},
     "outputs": [
      {
       "output_type": "pyout",
       "prompt_number": 92,
       "text": [
        "(19, 19)"
       ],
       "metadata": {}
      }
     ],
     "input": [
      "mat2 = -np.dot(mat1, lamb)\n",
      "mat2.shape"
     ],
     "language": "python",
     "prompt_number": 92
    },
    {
     "cell_type": "code",
     "metadata": {},
     "outputs": [
      {
       "output_type": "pyout",
       "prompt_number": 93,
       "text": [
        "(38, 19)"
       ],
       "metadata": {}
      }
     ],
     "input": [
      "mat12 = np.vstack((mat1, mat2))\n",
      "mat12.shape"
     ],
     "language": "python",
     "prompt_number": 93
    },
    {
     "cell_type": "code",
     "metadata": {},
     "outputs": [
      {
       "output_type": "pyout",
       "prompt_number": 94,
       "text": [
        "(38, 19)"
       ],
       "metadata": {}
      }
     ],
     "input": [
      "mat21 = np.vstack((mat2, mat1))\n",
      "mat21.shape"
     ],
     "language": "python",
     "prompt_number": 94
    },
    {
     "cell_type": "code",
     "metadata": {},
     "outputs": [
      {
       "output_type": "pyout",
       "prompt_number": 95,
       "text": [
        "(38, 38)"
       ],
       "metadata": {}
      }
     ],
     "input": [
      "mat = np.hstack((mat12, mat21))\n",
      "mat.shape"
     ],
     "language": "python",
     "prompt_number": 95
    },
    {
     "cell_type": "code",
     "metadata": {},
     "outputs": [],
     "input": [
      "beta = 0.5\n",
      "\n",
      "p = np.vstack((lamb**beta, lamb**(1-beta)))\n",
      "q = np.vstack((x_projected.T, y_projected.T))"
     ],
     "language": "python",
     "prompt_number": 110
    },
    {
     "cell_type": "code",
     "metadata": {},
     "outputs": [
      {
       "output_type": "stream",
       "stream": "stdout",
       "text": [
        "(19, 38) (38, 38) (38, 20)\n"
       ]
      }
     ],
     "input": [
      "print p.T.shape, mat.shape, q.shape"
     ],
     "language": "python",
     "prompt_number": 111
    },
    {
     "cell_type": "code",
     "metadata": {},
     "outputs": [
      {
       "output_type": "pyout",
       "prompt_number": 113,
       "text": [
        "(20, 2)"
       ],
       "metadata": {}
      }
     ],
     "input": [
      "z = np.dot(p.T, np.dot(mat, q)).T[:,:n_components]\n",
      "z.shape"
     ],
     "language": "python",
     "prompt_number": 113
    },
    {
     "cell_type": "code",
     "metadata": {},
     "outputs": [],
     "input": [
      ""
     ],
     "language": "python"
    }
   ]
  }
 ],
 "cells": [],
 "metadata": {
  "name": "",
  "signature": "sha256:71b19b3e37dee23c8b1b62b623865e9111a55f599a219696f5c2c9a30da09a87"
 },
 "nbformat": 3,
 "nbformat_minor": 0
}